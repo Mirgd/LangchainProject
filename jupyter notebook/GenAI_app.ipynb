{
 "cells": [
  {
   "cell_type": "markdown",
   "id": "b836e543",
   "metadata": {},
   "source": [
    "##Hide warnings"
   ]
  },
  {
   "cell_type": "code",
   "execution_count": 1,
   "id": "3e0f0ed0-8772-47a2-bdb3-f13c0861442f",
   "metadata": {},
   "outputs": [],
   "source": [
    "import warnings \n",
    "warnings.filterwarnings(\"ignore\")"
   ]
  },
  {
   "cell_type": "markdown",
   "id": "e38a391e",
   "metadata": {},
   "source": [
    "##Install required libraries"
   ]
  },
  {
   "cell_type": "code",
   "execution_count": 2,
   "id": "fe0aa02a",
   "metadata": {},
   "outputs": [
    {
     "name": "stdout",
     "output_type": "stream",
     "text": [
      "Requirement already satisfied: python-magic-bin in c:\\users\\win10\\desktop\\langchianproject\\langchainproject\\clean_venv\\lib\\site-packages (from -r ../requirements.txt (line 1)) (0.4.14)\n",
      "Requirement already satisfied: onnx==1.16.1 in c:\\users\\win10\\desktop\\langchianproject\\langchainproject\\clean_venv\\lib\\site-packages (from -r ../requirements.txt (line 2)) (1.16.1)\n",
      "Requirement already satisfied: streamlit in c:\\users\\win10\\desktop\\langchianproject\\langchainproject\\clean_venv\\lib\\site-packages (from -r ../requirements.txt (line 3)) (1.41.1)\n",
      "Requirement already satisfied: tf-keras in c:\\users\\win10\\desktop\\langchianproject\\langchainproject\\clean_venv\\lib\\site-packages (from -r ../requirements.txt (line 4)) (2.18.0)\n",
      "Requirement already satisfied: langchain in c:\\users\\win10\\desktop\\langchianproject\\langchainproject\\clean_venv\\lib\\site-packages (from -r ../requirements.txt (line 5)) (0.3.13)\n",
      "Requirement already satisfied: langchain_community in c:\\users\\win10\\desktop\\langchianproject\\langchainproject\\clean_venv\\lib\\site-packages (from -r ../requirements.txt (line 6)) (0.3.13)\n",
      "Requirement already satisfied: langchain_huggingface in c:\\users\\win10\\desktop\\langchianproject\\langchainproject\\clean_venv\\lib\\site-packages (from -r ../requirements.txt (line 7)) (0.1.2)\n",
      "Requirement already satisfied: huggingface_hub in c:\\users\\win10\\desktop\\langchianproject\\langchainproject\\clean_venv\\lib\\site-packages (from -r ../requirements.txt (line 8)) (0.27.0)\n",
      "Requirement already satisfied: onnxruntime==1.17.1 in c:\\users\\win10\\desktop\\langchianproject\\langchainproject\\clean_venv\\lib\\site-packages (from -r ../requirements.txt (line 9)) (1.17.1)\n",
      "Requirement already satisfied: chromadb==0.5.0 in c:\\users\\win10\\desktop\\langchianproject\\langchainproject\\clean_venv\\lib\\site-packages (from -r ../requirements.txt (line 11)) (0.5.0)\n",
      "Requirement already satisfied: tiktoken==0.7.0 in c:\\users\\win10\\desktop\\langchianproject\\langchainproject\\clean_venv\\lib\\site-packages (from -r ../requirements.txt (line 12)) (0.7.0)\n",
      "Requirement already satisfied: tqdm in c:\\users\\win10\\desktop\\langchianproject\\langchainproject\\clean_venv\\lib\\site-packages (from -r ../requirements.txt (line 13)) (4.67.1)\n",
      "Requirement already satisfied: torch in c:\\users\\win10\\desktop\\langchianproject\\langchainproject\\clean_venv\\lib\\site-packages (from -r ../requirements.txt (line 14)) (2.5.1)\n",
      "Requirement already satisfied: transformers<4.45.0 in c:\\users\\win10\\desktop\\langchianproject\\langchainproject\\clean_venv\\lib\\site-packages (from -r ../requirements.txt (line 15)) (4.44.2)\n",
      "Requirement already satisfied: unstructured[pdf] in c:\\users\\win10\\desktop\\langchianproject\\langchainproject\\clean_venv\\lib\\site-packages (from -r ../requirements.txt (line 10)) (0.16.11)\n",
      "Requirement already satisfied: numpy>=1.20 in c:\\users\\win10\\desktop\\langchianproject\\langchainproject\\clean_venv\\lib\\site-packages (from onnx==1.16.1->-r ../requirements.txt (line 2)) (1.26.4)\n",
      "Requirement already satisfied: protobuf>=3.20.2 in c:\\users\\win10\\desktop\\langchianproject\\langchainproject\\clean_venv\\lib\\site-packages (from onnx==1.16.1->-r ../requirements.txt (line 2)) (5.29.2)\n",
      "Requirement already satisfied: coloredlogs in c:\\users\\win10\\desktop\\langchianproject\\langchainproject\\clean_venv\\lib\\site-packages (from onnxruntime==1.17.1->-r ../requirements.txt (line 9)) (15.0.1)\n",
      "Requirement already satisfied: flatbuffers in c:\\users\\win10\\desktop\\langchianproject\\langchainproject\\clean_venv\\lib\\site-packages (from onnxruntime==1.17.1->-r ../requirements.txt (line 9)) (24.12.23)\n",
      "Requirement already satisfied: packaging in c:\\users\\win10\\desktop\\langchianproject\\langchainproject\\clean_venv\\lib\\site-packages (from onnxruntime==1.17.1->-r ../requirements.txt (line 9)) (24.2)\n",
      "Requirement already satisfied: sympy in c:\\users\\win10\\desktop\\langchianproject\\langchainproject\\clean_venv\\lib\\site-packages (from onnxruntime==1.17.1->-r ../requirements.txt (line 9)) (1.13.1)\n",
      "Requirement already satisfied: build>=1.0.3 in c:\\users\\win10\\desktop\\langchianproject\\langchainproject\\clean_venv\\lib\\site-packages (from chromadb==0.5.0->-r ../requirements.txt (line 11)) (1.2.2.post1)\n",
      "Requirement already satisfied: requests>=2.28 in c:\\users\\win10\\desktop\\langchianproject\\langchainproject\\clean_venv\\lib\\site-packages (from chromadb==0.5.0->-r ../requirements.txt (line 11)) (2.32.3)\n",
      "Requirement already satisfied: pydantic>=1.9 in c:\\users\\win10\\desktop\\langchianproject\\langchainproject\\clean_venv\\lib\\site-packages (from chromadb==0.5.0->-r ../requirements.txt (line 11)) (2.9.2)\n",
      "Requirement already satisfied: chroma-hnswlib==0.7.3 in c:\\users\\win10\\desktop\\langchianproject\\langchainproject\\clean_venv\\lib\\site-packages (from chromadb==0.5.0->-r ../requirements.txt (line 11)) (0.7.3)\n",
      "Requirement already satisfied: fastapi>=0.95.2 in c:\\users\\win10\\desktop\\langchianproject\\langchainproject\\clean_venv\\lib\\site-packages (from chromadb==0.5.0->-r ../requirements.txt (line 11)) (0.115.6)\n",
      "Requirement already satisfied: uvicorn>=0.18.3 in c:\\users\\win10\\desktop\\langchianproject\\langchainproject\\clean_venv\\lib\\site-packages (from uvicorn[standard]>=0.18.3->chromadb==0.5.0->-r ../requirements.txt (line 11)) (0.34.0)\n",
      "Requirement already satisfied: posthog>=2.4.0 in c:\\users\\win10\\desktop\\langchianproject\\langchainproject\\clean_venv\\lib\\site-packages (from chromadb==0.5.0->-r ../requirements.txt (line 11)) (3.7.4)\n",
      "Requirement already satisfied: typing-extensions>=4.5.0 in c:\\users\\win10\\desktop\\langchianproject\\langchainproject\\clean_venv\\lib\\site-packages (from chromadb==0.5.0->-r ../requirements.txt (line 11)) (4.12.2)\n",
      "Requirement already satisfied: opentelemetry-api>=1.2.0 in c:\\users\\win10\\desktop\\langchianproject\\langchainproject\\clean_venv\\lib\\site-packages (from chromadb==0.5.0->-r ../requirements.txt (line 11)) (1.29.0)\n",
      "Requirement already satisfied: opentelemetry-exporter-otlp-proto-grpc>=1.2.0 in c:\\users\\win10\\desktop\\langchianproject\\langchainproject\\clean_venv\\lib\\site-packages (from chromadb==0.5.0->-r ../requirements.txt (line 11)) (1.29.0)\n",
      "Requirement already satisfied: opentelemetry-instrumentation-fastapi>=0.41b0 in c:\\users\\win10\\desktop\\langchianproject\\langchainproject\\clean_venv\\lib\\site-packages (from chromadb==0.5.0->-r ../requirements.txt (line 11)) (0.50b0)\n",
      "Requirement already satisfied: opentelemetry-sdk>=1.2.0 in c:\\users\\win10\\desktop\\langchianproject\\langchainproject\\clean_venv\\lib\\site-packages (from chromadb==0.5.0->-r ../requirements.txt (line 11)) (1.29.0)\n",
      "Requirement already satisfied: tokenizers>=0.13.2 in c:\\users\\win10\\desktop\\langchianproject\\langchainproject\\clean_venv\\lib\\site-packages (from chromadb==0.5.0->-r ../requirements.txt (line 11)) (0.19.1)\n",
      "Requirement already satisfied: pypika>=0.48.9 in c:\\users\\win10\\desktop\\langchianproject\\langchainproject\\clean_venv\\lib\\site-packages (from chromadb==0.5.0->-r ../requirements.txt (line 11)) (0.48.9)\n",
      "Requirement already satisfied: overrides>=7.3.1 in c:\\users\\win10\\desktop\\langchianproject\\langchainproject\\clean_venv\\lib\\site-packages (from chromadb==0.5.0->-r ../requirements.txt (line 11)) (7.7.0)\n",
      "Requirement already satisfied: importlib-resources in c:\\users\\win10\\desktop\\langchianproject\\langchainproject\\clean_venv\\lib\\site-packages (from chromadb==0.5.0->-r ../requirements.txt (line 11)) (6.4.5)\n",
      "Requirement already satisfied: grpcio>=1.58.0 in c:\\users\\win10\\desktop\\langchianproject\\langchainproject\\clean_venv\\lib\\site-packages (from chromadb==0.5.0->-r ../requirements.txt (line 11)) (1.68.1)\n",
      "Requirement already satisfied: bcrypt>=4.0.1 in c:\\users\\win10\\desktop\\langchianproject\\langchainproject\\clean_venv\\lib\\site-packages (from chromadb==0.5.0->-r ../requirements.txt (line 11)) (4.2.1)\n",
      "Requirement already satisfied: typer>=0.9.0 in c:\\users\\win10\\desktop\\langchianproject\\langchainproject\\clean_venv\\lib\\site-packages (from chromadb==0.5.0->-r ../requirements.txt (line 11)) (0.15.1)\n",
      "Requirement already satisfied: kubernetes>=28.1.0 in c:\\users\\win10\\desktop\\langchianproject\\langchainproject\\clean_venv\\lib\\site-packages (from chromadb==0.5.0->-r ../requirements.txt (line 11)) (31.0.0)\n",
      "Requirement already satisfied: tenacity>=8.2.3 in c:\\users\\win10\\desktop\\langchianproject\\langchainproject\\clean_venv\\lib\\site-packages (from chromadb==0.5.0->-r ../requirements.txt (line 11)) (9.0.0)\n",
      "Requirement already satisfied: PyYAML>=6.0.0 in c:\\users\\win10\\desktop\\langchianproject\\langchainproject\\clean_venv\\lib\\site-packages (from chromadb==0.5.0->-r ../requirements.txt (line 11)) (6.0.2)\n",
      "Requirement already satisfied: mmh3>=4.0.1 in c:\\users\\win10\\desktop\\langchianproject\\langchainproject\\clean_venv\\lib\\site-packages (from chromadb==0.5.0->-r ../requirements.txt (line 11)) (5.0.1)\n",
      "Requirement already satisfied: orjson>=3.9.12 in c:\\users\\win10\\desktop\\langchianproject\\langchainproject\\clean_venv\\lib\\site-packages (from chromadb==0.5.0->-r ../requirements.txt (line 11)) (3.10.12)\n",
      "Requirement already satisfied: regex>=2022.1.18 in c:\\users\\win10\\desktop\\langchianproject\\langchainproject\\clean_venv\\lib\\site-packages (from tiktoken==0.7.0->-r ../requirements.txt (line 12)) (2024.11.6)\n",
      "Requirement already satisfied: altair<6,>=4.0 in c:\\users\\win10\\desktop\\langchianproject\\langchainproject\\clean_venv\\lib\\site-packages (from streamlit->-r ../requirements.txt (line 3)) (5.5.0)\n",
      "Requirement already satisfied: blinker<2,>=1.0.0 in c:\\users\\win10\\desktop\\langchianproject\\langchainproject\\clean_venv\\lib\\site-packages (from streamlit->-r ../requirements.txt (line 3)) (1.9.0)\n",
      "Requirement already satisfied: cachetools<6,>=4.0 in c:\\users\\win10\\desktop\\langchianproject\\langchainproject\\clean_venv\\lib\\site-packages (from streamlit->-r ../requirements.txt (line 3)) (5.5.0)\n",
      "Requirement already satisfied: click<9,>=7.0 in c:\\users\\win10\\desktop\\langchianproject\\langchainproject\\clean_venv\\lib\\site-packages (from streamlit->-r ../requirements.txt (line 3)) (8.1.8)\n",
      "Requirement already satisfied: pandas<3,>=1.4.0 in c:\\users\\win10\\desktop\\langchianproject\\langchainproject\\clean_venv\\lib\\site-packages (from streamlit->-r ../requirements.txt (line 3)) (2.2.3)\n",
      "Requirement already satisfied: pillow<12,>=7.1.0 in c:\\users\\win10\\desktop\\langchianproject\\langchainproject\\clean_venv\\lib\\site-packages (from streamlit->-r ../requirements.txt (line 3)) (11.0.0)\n",
      "Requirement already satisfied: pyarrow>=7.0 in c:\\users\\win10\\desktop\\langchianproject\\langchainproject\\clean_venv\\lib\\site-packages (from streamlit->-r ../requirements.txt (line 3)) (18.1.0)\n",
      "Requirement already satisfied: rich<14,>=10.14.0 in c:\\users\\win10\\desktop\\langchianproject\\langchainproject\\clean_venv\\lib\\site-packages (from streamlit->-r ../requirements.txt (line 3)) (13.9.4)\n",
      "Requirement already satisfied: toml<2,>=0.10.1 in c:\\users\\win10\\desktop\\langchianproject\\langchainproject\\clean_venv\\lib\\site-packages (from streamlit->-r ../requirements.txt (line 3)) (0.10.2)\n",
      "Requirement already satisfied: watchdog<7,>=2.1.5 in c:\\users\\win10\\desktop\\langchianproject\\langchainproject\\clean_venv\\lib\\site-packages (from streamlit->-r ../requirements.txt (line 3)) (6.0.0)\n",
      "Requirement already satisfied: gitpython!=3.1.19,<4,>=3.0.7 in c:\\users\\win10\\desktop\\langchianproject\\langchainproject\\clean_venv\\lib\\site-packages (from streamlit->-r ../requirements.txt (line 3)) (3.1.43)\n",
      "Requirement already satisfied: pydeck<1,>=0.8.0b4 in c:\\users\\win10\\desktop\\langchianproject\\langchainproject\\clean_venv\\lib\\site-packages (from streamlit->-r ../requirements.txt (line 3)) (0.9.1)\n",
      "Requirement already satisfied: tornado<7,>=6.0.3 in c:\\users\\win10\\desktop\\langchianproject\\langchainproject\\clean_venv\\lib\\site-packages (from streamlit->-r ../requirements.txt (line 3)) (6.4.2)\n",
      "Requirement already satisfied: tensorflow<2.19,>=2.18 in c:\\users\\win10\\desktop\\langchianproject\\langchainproject\\clean_venv\\lib\\site-packages (from tf-keras->-r ../requirements.txt (line 4)) (2.18.0)\n",
      "Requirement already satisfied: SQLAlchemy<3,>=1.4 in c:\\users\\win10\\desktop\\langchianproject\\langchainproject\\clean_venv\\lib\\site-packages (from langchain->-r ../requirements.txt (line 5)) (2.0.36)\n",
      "Requirement already satisfied: aiohttp<4.0.0,>=3.8.3 in c:\\users\\win10\\desktop\\langchianproject\\langchainproject\\clean_venv\\lib\\site-packages (from langchain->-r ../requirements.txt (line 5)) (3.11.11)\n",
      "Requirement already satisfied: langchain-core<0.4.0,>=0.3.26 in c:\\users\\win10\\desktop\\langchianproject\\langchainproject\\clean_venv\\lib\\site-packages (from langchain->-r ../requirements.txt (line 5)) (0.3.28)\n",
      "Requirement already satisfied: langchain-text-splitters<0.4.0,>=0.3.3 in c:\\users\\win10\\desktop\\langchianproject\\langchainproject\\clean_venv\\lib\\site-packages (from langchain->-r ../requirements.txt (line 5)) (0.3.4)\n",
      "Requirement already satisfied: langsmith<0.3,>=0.1.17 in c:\\users\\win10\\desktop\\langchianproject\\langchainproject\\clean_venv\\lib\\site-packages (from langchain->-r ../requirements.txt (line 5)) (0.2.6)\n",
      "Requirement already satisfied: dataclasses-json<0.7,>=0.5.7 in c:\\users\\win10\\desktop\\langchianproject\\langchainproject\\clean_venv\\lib\\site-packages (from langchain_community->-r ../requirements.txt (line 6)) (0.6.7)\n",
      "Requirement already satisfied: httpx-sse<0.5.0,>=0.4.0 in c:\\users\\win10\\desktop\\langchianproject\\langchainproject\\clean_venv\\lib\\site-packages (from langchain_community->-r ../requirements.txt (line 6)) (0.4.0)\n",
      "Requirement already satisfied: pydantic-settings<3.0.0,>=2.4.0 in c:\\users\\win10\\desktop\\langchianproject\\langchainproject\\clean_venv\\lib\\site-packages (from langchain_community->-r ../requirements.txt (line 6)) (2.7.0)\n",
      "Requirement already satisfied: sentence-transformers>=2.6.0 in c:\\users\\win10\\desktop\\langchianproject\\langchainproject\\clean_venv\\lib\\site-packages (from langchain_huggingface->-r ../requirements.txt (line 7)) (3.3.1)\n",
      "Requirement already satisfied: filelock in c:\\users\\win10\\desktop\\langchianproject\\langchainproject\\clean_venv\\lib\\site-packages (from huggingface_hub->-r ../requirements.txt (line 8)) (3.16.1)\n",
      "Requirement already satisfied: fsspec>=2023.5.0 in c:\\users\\win10\\desktop\\langchianproject\\langchainproject\\clean_venv\\lib\\site-packages (from huggingface_hub->-r ../requirements.txt (line 8)) (2024.12.0)\n",
      "Requirement already satisfied: chardet in c:\\users\\win10\\desktop\\langchianproject\\langchainproject\\clean_venv\\lib\\site-packages (from unstructured[pdf]->-r ../requirements.txt (line 10)) (5.2.0)\n",
      "Requirement already satisfied: filetype in c:\\users\\win10\\desktop\\langchianproject\\langchainproject\\clean_venv\\lib\\site-packages (from unstructured[pdf]->-r ../requirements.txt (line 10)) (1.2.0)\n",
      "Requirement already satisfied: python-magic in c:\\users\\win10\\desktop\\langchianproject\\langchainproject\\clean_venv\\lib\\site-packages (from unstructured[pdf]->-r ../requirements.txt (line 10)) (0.4.27)\n",
      "Requirement already satisfied: lxml in c:\\users\\win10\\desktop\\langchianproject\\langchainproject\\clean_venv\\lib\\site-packages (from unstructured[pdf]->-r ../requirements.txt (line 10)) (5.3.0)\n",
      "Requirement already satisfied: nltk in c:\\users\\win10\\desktop\\langchianproject\\langchainproject\\clean_venv\\lib\\site-packages (from unstructured[pdf]->-r ../requirements.txt (line 10)) (3.9.1)\n",
      "Requirement already satisfied: beautifulsoup4 in c:\\users\\win10\\desktop\\langchianproject\\langchainproject\\clean_venv\\lib\\site-packages (from unstructured[pdf]->-r ../requirements.txt (line 10)) (4.12.3)\n",
      "Requirement already satisfied: emoji in c:\\users\\win10\\desktop\\langchianproject\\langchainproject\\clean_venv\\lib\\site-packages (from unstructured[pdf]->-r ../requirements.txt (line 10)) (2.14.0)\n",
      "Requirement already satisfied: python-iso639 in c:\\users\\win10\\desktop\\langchianproject\\langchainproject\\clean_venv\\lib\\site-packages (from unstructured[pdf]->-r ../requirements.txt (line 10)) (2024.10.22)\n",
      "Requirement already satisfied: langdetect in c:\\users\\win10\\desktop\\langchianproject\\langchainproject\\clean_venv\\lib\\site-packages (from unstructured[pdf]->-r ../requirements.txt (line 10)) (1.0.9)\n",
      "Requirement already satisfied: rapidfuzz in c:\\users\\win10\\desktop\\langchianproject\\langchainproject\\clean_venv\\lib\\site-packages (from unstructured[pdf]->-r ../requirements.txt (line 10)) (3.11.0)\n",
      "Requirement already satisfied: backoff in c:\\users\\win10\\desktop\\langchianproject\\langchainproject\\clean_venv\\lib\\site-packages (from unstructured[pdf]->-r ../requirements.txt (line 10)) (2.2.1)\n",
      "Requirement already satisfied: unstructured-client in c:\\users\\win10\\desktop\\langchianproject\\langchainproject\\clean_venv\\lib\\site-packages (from unstructured[pdf]->-r ../requirements.txt (line 10)) (0.28.1)\n",
      "Requirement already satisfied: wrapt in c:\\users\\win10\\desktop\\langchianproject\\langchainproject\\clean_venv\\lib\\site-packages (from unstructured[pdf]->-r ../requirements.txt (line 10)) (1.17.0)\n",
      "Requirement already satisfied: psutil in c:\\users\\win10\\desktop\\langchianproject\\langchainproject\\clean_venv\\lib\\site-packages (from unstructured[pdf]->-r ../requirements.txt (line 10)) (6.1.1)\n",
      "Requirement already satisfied: python-oxmsg in c:\\users\\win10\\desktop\\langchianproject\\langchainproject\\clean_venv\\lib\\site-packages (from unstructured[pdf]->-r ../requirements.txt (line 10)) (0.0.1)\n",
      "Requirement already satisfied: html5lib in c:\\users\\win10\\desktop\\langchianproject\\langchainproject\\clean_venv\\lib\\site-packages (from unstructured[pdf]->-r ../requirements.txt (line 10)) (1.1)\n",
      "Requirement already satisfied: pdf2image in c:\\users\\win10\\desktop\\langchianproject\\langchainproject\\clean_venv\\lib\\site-packages (from unstructured[pdf]->-r ../requirements.txt (line 10)) (1.17.0)\n",
      "Requirement already satisfied: pdfminer.six in c:\\users\\win10\\desktop\\langchianproject\\langchainproject\\clean_venv\\lib\\site-packages (from unstructured[pdf]->-r ../requirements.txt (line 10)) (20231228)\n",
      "Requirement already satisfied: pikepdf in c:\\users\\win10\\desktop\\langchianproject\\langchainproject\\clean_venv\\lib\\site-packages (from unstructured[pdf]->-r ../requirements.txt (line 10)) (9.4.2)\n",
      "Requirement already satisfied: pi-heif in c:\\users\\win10\\desktop\\langchianproject\\langchainproject\\clean_venv\\lib\\site-packages (from unstructured[pdf]->-r ../requirements.txt (line 10)) (0.21.0)\n",
      "Requirement already satisfied: pypdf in c:\\users\\win10\\desktop\\langchianproject\\langchainproject\\clean_venv\\lib\\site-packages (from unstructured[pdf]->-r ../requirements.txt (line 10)) (5.1.0)\n",
      "Requirement already satisfied: google-cloud-vision in c:\\users\\win10\\desktop\\langchianproject\\langchainproject\\clean_venv\\lib\\site-packages (from unstructured[pdf]->-r ../requirements.txt (line 10)) (3.9.0)\n",
      "Requirement already satisfied: effdet in c:\\users\\win10\\desktop\\langchianproject\\langchainproject\\clean_venv\\lib\\site-packages (from unstructured[pdf]->-r ../requirements.txt (line 10)) (0.4.1)\n",
      "Requirement already satisfied: unstructured-inference==0.8.1 in c:\\users\\win10\\desktop\\langchianproject\\langchainproject\\clean_venv\\lib\\site-packages (from unstructured[pdf]->-r ../requirements.txt (line 10)) (0.8.1)\n",
      "Requirement already satisfied: unstructured.pytesseract>=0.3.12 in c:\\users\\win10\\desktop\\langchianproject\\langchainproject\\clean_venv\\lib\\site-packages (from unstructured[pdf]->-r ../requirements.txt (line 10)) (0.3.13)\n",
      "Requirement already satisfied: layoutparser in c:\\users\\win10\\desktop\\langchianproject\\langchainproject\\clean_venv\\lib\\site-packages (from unstructured-inference==0.8.1->unstructured[pdf]->-r ../requirements.txt (line 10)) (0.3.4)\n",
      "Requirement already satisfied: python-multipart in c:\\users\\win10\\desktop\\langchianproject\\langchainproject\\clean_venv\\lib\\site-packages (from unstructured-inference==0.8.1->unstructured[pdf]->-r ../requirements.txt (line 10)) (0.0.20)\n",
      "Requirement already satisfied: opencv-python!=4.7.0.68 in c:\\users\\win10\\desktop\\langchianproject\\langchainproject\\clean_venv\\lib\\site-packages (from unstructured-inference==0.8.1->unstructured[pdf]->-r ../requirements.txt (line 10)) (4.10.0.84)\n",
      "Requirement already satisfied: matplotlib in c:\\users\\win10\\desktop\\langchianproject\\langchainproject\\clean_venv\\lib\\site-packages (from unstructured-inference==0.8.1->unstructured[pdf]->-r ../requirements.txt (line 10)) (3.10.0)\n",
      "Requirement already satisfied: timm in c:\\users\\win10\\desktop\\langchianproject\\langchainproject\\clean_venv\\lib\\site-packages (from unstructured-inference==0.8.1->unstructured[pdf]->-r ../requirements.txt (line 10)) (1.0.12)\n",
      "Requirement already satisfied: colorama in c:\\users\\win10\\desktop\\langchianproject\\langchainproject\\clean_venv\\lib\\site-packages (from tqdm->-r ../requirements.txt (line 13)) (0.4.6)\n",
      "Requirement already satisfied: networkx in c:\\users\\win10\\desktop\\langchianproject\\langchainproject\\clean_venv\\lib\\site-packages (from torch->-r ../requirements.txt (line 14)) (3.4.2)\n",
      "Requirement already satisfied: jinja2 in c:\\users\\win10\\desktop\\langchianproject\\langchainproject\\clean_venv\\lib\\site-packages (from torch->-r ../requirements.txt (line 14)) (3.1.5)\n",
      "Requirement already satisfied: setuptools in c:\\users\\win10\\desktop\\langchianproject\\langchainproject\\clean_venv\\lib\\site-packages (from torch->-r ../requirements.txt (line 14)) (75.6.0)\n",
      "Requirement already satisfied: mpmath<1.4,>=1.1.0 in c:\\users\\win10\\desktop\\langchianproject\\langchainproject\\clean_venv\\lib\\site-packages (from sympy->onnxruntime==1.17.1->-r ../requirements.txt (line 9)) (1.3.0)\n",
      "Requirement already satisfied: safetensors>=0.4.1 in c:\\users\\win10\\desktop\\langchianproject\\langchainproject\\clean_venv\\lib\\site-packages (from transformers<4.45.0->-r ../requirements.txt (line 15)) (0.4.5)\n",
      "Requirement already satisfied: aiohappyeyeballs>=2.3.0 in c:\\users\\win10\\desktop\\langchianproject\\langchainproject\\clean_venv\\lib\\site-packages (from aiohttp<4.0.0,>=3.8.3->langchain->-r ../requirements.txt (line 5)) (2.4.4)\n",
      "Requirement already satisfied: aiosignal>=1.1.2 in c:\\users\\win10\\desktop\\langchianproject\\langchainproject\\clean_venv\\lib\\site-packages (from aiohttp<4.0.0,>=3.8.3->langchain->-r ../requirements.txt (line 5)) (1.3.2)\n",
      "Requirement already satisfied: attrs>=17.3.0 in c:\\users\\win10\\desktop\\langchianproject\\langchainproject\\clean_venv\\lib\\site-packages (from aiohttp<4.0.0,>=3.8.3->langchain->-r ../requirements.txt (line 5)) (24.3.0)\n",
      "Requirement already satisfied: frozenlist>=1.1.1 in c:\\users\\win10\\desktop\\langchianproject\\langchainproject\\clean_venv\\lib\\site-packages (from aiohttp<4.0.0,>=3.8.3->langchain->-r ../requirements.txt (line 5)) (1.5.0)\n",
      "Requirement already satisfied: multidict<7.0,>=4.5 in c:\\users\\win10\\desktop\\langchianproject\\langchainproject\\clean_venv\\lib\\site-packages (from aiohttp<4.0.0,>=3.8.3->langchain->-r ../requirements.txt (line 5)) (6.1.0)\n",
      "Requirement already satisfied: propcache>=0.2.0 in c:\\users\\win10\\desktop\\langchianproject\\langchainproject\\clean_venv\\lib\\site-packages (from aiohttp<4.0.0,>=3.8.3->langchain->-r ../requirements.txt (line 5)) (0.2.1)\n",
      "Requirement already satisfied: yarl<2.0,>=1.17.0 in c:\\users\\win10\\desktop\\langchianproject\\langchainproject\\clean_venv\\lib\\site-packages (from aiohttp<4.0.0,>=3.8.3->langchain->-r ../requirements.txt (line 5)) (1.18.3)\n",
      "Requirement already satisfied: jsonschema>=3.0 in c:\\users\\win10\\desktop\\langchianproject\\langchainproject\\clean_venv\\lib\\site-packages (from altair<6,>=4.0->streamlit->-r ../requirements.txt (line 3)) (4.23.0)\n",
      "Requirement already satisfied: narwhals>=1.14.2 in c:\\users\\win10\\desktop\\langchianproject\\langchainproject\\clean_venv\\lib\\site-packages (from altair<6,>=4.0->streamlit->-r ../requirements.txt (line 3)) (1.19.1)\n",
      "Requirement already satisfied: pyproject_hooks in c:\\users\\win10\\desktop\\langchianproject\\langchainproject\\clean_venv\\lib\\site-packages (from build>=1.0.3->chromadb==0.5.0->-r ../requirements.txt (line 11)) (1.2.0)\n",
      "Requirement already satisfied: marshmallow<4.0.0,>=3.18.0 in c:\\users\\win10\\desktop\\langchianproject\\langchainproject\\clean_venv\\lib\\site-packages (from dataclasses-json<0.7,>=0.5.7->langchain_community->-r ../requirements.txt (line 6)) (3.23.2)\n",
      "Requirement already satisfied: typing-inspect<1,>=0.4.0 in c:\\users\\win10\\desktop\\langchianproject\\langchainproject\\clean_venv\\lib\\site-packages (from dataclasses-json<0.7,>=0.5.7->langchain_community->-r ../requirements.txt (line 6)) (0.9.0)\n",
      "Requirement already satisfied: starlette<0.42.0,>=0.40.0 in c:\\users\\win10\\desktop\\langchianproject\\langchainproject\\clean_venv\\lib\\site-packages (from fastapi>=0.95.2->chromadb==0.5.0->-r ../requirements.txt (line 11)) (0.41.3)\n",
      "Requirement already satisfied: gitdb<5,>=4.0.1 in c:\\users\\win10\\desktop\\langchianproject\\langchainproject\\clean_venv\\lib\\site-packages (from gitpython!=3.1.19,<4,>=3.0.7->streamlit->-r ../requirements.txt (line 3)) (4.0.11)\n",
      "Requirement already satisfied: certifi>=14.05.14 in c:\\users\\win10\\desktop\\langchianproject\\langchainproject\\clean_venv\\lib\\site-packages (from kubernetes>=28.1.0->chromadb==0.5.0->-r ../requirements.txt (line 11)) (2024.12.14)\n",
      "Requirement already satisfied: six>=1.9.0 in c:\\users\\win10\\desktop\\langchianproject\\langchainproject\\clean_venv\\lib\\site-packages (from kubernetes>=28.1.0->chromadb==0.5.0->-r ../requirements.txt (line 11)) (1.17.0)\n",
      "Requirement already satisfied: python-dateutil>=2.5.3 in c:\\users\\win10\\desktop\\langchianproject\\langchainproject\\clean_venv\\lib\\site-packages (from kubernetes>=28.1.0->chromadb==0.5.0->-r ../requirements.txt (line 11)) (2.9.0.post0)\n",
      "Requirement already satisfied: google-auth>=1.0.1 in c:\\users\\win10\\desktop\\langchianproject\\langchainproject\\clean_venv\\lib\\site-packages (from kubernetes>=28.1.0->chromadb==0.5.0->-r ../requirements.txt (line 11)) (2.37.0)\n",
      "Requirement already satisfied: websocket-client!=0.40.0,!=0.41.*,!=0.42.*,>=0.32.0 in c:\\users\\win10\\desktop\\langchianproject\\langchainproject\\clean_venv\\lib\\site-packages (from kubernetes>=28.1.0->chromadb==0.5.0->-r ../requirements.txt (line 11)) (1.8.0)\n",
      "Requirement already satisfied: requests-oauthlib in c:\\users\\win10\\desktop\\langchianproject\\langchainproject\\clean_venv\\lib\\site-packages (from kubernetes>=28.1.0->chromadb==0.5.0->-r ../requirements.txt (line 11)) (2.0.0)\n",
      "Requirement already satisfied: oauthlib>=3.2.2 in c:\\users\\win10\\desktop\\langchianproject\\langchainproject\\clean_venv\\lib\\site-packages (from kubernetes>=28.1.0->chromadb==0.5.0->-r ../requirements.txt (line 11)) (3.2.2)\n",
      "Requirement already satisfied: urllib3>=1.24.2 in c:\\users\\win10\\desktop\\langchianproject\\langchainproject\\clean_venv\\lib\\site-packages (from kubernetes>=28.1.0->chromadb==0.5.0->-r ../requirements.txt (line 11)) (2.3.0)\n",
      "Requirement already satisfied: durationpy>=0.7 in c:\\users\\win10\\desktop\\langchianproject\\langchainproject\\clean_venv\\lib\\site-packages (from kubernetes>=28.1.0->chromadb==0.5.0->-r ../requirements.txt (line 11)) (0.9)\n",
      "Requirement already satisfied: jsonpatch<2.0,>=1.33 in c:\\users\\win10\\desktop\\langchianproject\\langchainproject\\clean_venv\\lib\\site-packages (from langchain-core<0.4.0,>=0.3.26->langchain->-r ../requirements.txt (line 5)) (1.33)\n",
      "Requirement already satisfied: httpx<1,>=0.23.0 in c:\\users\\win10\\desktop\\langchianproject\\langchainproject\\clean_venv\\lib\\site-packages (from langsmith<0.3,>=0.1.17->langchain->-r ../requirements.txt (line 5)) (0.28.1)\n",
      "Requirement already satisfied: requests-toolbelt<2.0.0,>=1.0.0 in c:\\users\\win10\\desktop\\langchianproject\\langchainproject\\clean_venv\\lib\\site-packages (from langsmith<0.3,>=0.1.17->langchain->-r ../requirements.txt (line 5)) (1.0.0)\n",
      "Requirement already satisfied: deprecated>=1.2.6 in c:\\users\\win10\\desktop\\langchianproject\\langchainproject\\clean_venv\\lib\\site-packages (from opentelemetry-api>=1.2.0->chromadb==0.5.0->-r ../requirements.txt (line 11)) (1.2.15)\n",
      "Requirement already satisfied: importlib-metadata<=8.5.0,>=6.0 in c:\\users\\win10\\desktop\\langchianproject\\langchainproject\\clean_venv\\lib\\site-packages (from opentelemetry-api>=1.2.0->chromadb==0.5.0->-r ../requirements.txt (line 11)) (8.5.0)\n",
      "Requirement already satisfied: googleapis-common-protos~=1.52 in c:\\users\\win10\\desktop\\langchianproject\\langchainproject\\clean_venv\\lib\\site-packages (from opentelemetry-exporter-otlp-proto-grpc>=1.2.0->chromadb==0.5.0->-r ../requirements.txt (line 11)) (1.66.0)\n",
      "Requirement already satisfied: opentelemetry-exporter-otlp-proto-common==1.29.0 in c:\\users\\win10\\desktop\\langchianproject\\langchainproject\\clean_venv\\lib\\site-packages (from opentelemetry-exporter-otlp-proto-grpc>=1.2.0->chromadb==0.5.0->-r ../requirements.txt (line 11)) (1.29.0)\n",
      "Requirement already satisfied: opentelemetry-proto==1.29.0 in c:\\users\\win10\\desktop\\langchianproject\\langchainproject\\clean_venv\\lib\\site-packages (from opentelemetry-exporter-otlp-proto-grpc>=1.2.0->chromadb==0.5.0->-r ../requirements.txt (line 11)) (1.29.0)\n",
      "Requirement already satisfied: opentelemetry-instrumentation-asgi==0.50b0 in c:\\users\\win10\\desktop\\langchianproject\\langchainproject\\clean_venv\\lib\\site-packages (from opentelemetry-instrumentation-fastapi>=0.41b0->chromadb==0.5.0->-r ../requirements.txt (line 11)) (0.50b0)\n",
      "Requirement already satisfied: opentelemetry-instrumentation==0.50b0 in c:\\users\\win10\\desktop\\langchianproject\\langchainproject\\clean_venv\\lib\\site-packages (from opentelemetry-instrumentation-fastapi>=0.41b0->chromadb==0.5.0->-r ../requirements.txt (line 11)) (0.50b0)\n",
      "Requirement already satisfied: opentelemetry-semantic-conventions==0.50b0 in c:\\users\\win10\\desktop\\langchianproject\\langchainproject\\clean_venv\\lib\\site-packages (from opentelemetry-instrumentation-fastapi>=0.41b0->chromadb==0.5.0->-r ../requirements.txt (line 11)) (0.50b0)\n",
      "Requirement already satisfied: opentelemetry-util-http==0.50b0 in c:\\users\\win10\\desktop\\langchianproject\\langchainproject\\clean_venv\\lib\\site-packages (from opentelemetry-instrumentation-fastapi>=0.41b0->chromadb==0.5.0->-r ../requirements.txt (line 11)) (0.50b0)\n",
      "Requirement already satisfied: asgiref~=3.0 in c:\\users\\win10\\desktop\\langchianproject\\langchainproject\\clean_venv\\lib\\site-packages (from opentelemetry-instrumentation-asgi==0.50b0->opentelemetry-instrumentation-fastapi>=0.41b0->chromadb==0.5.0->-r ../requirements.txt (line 11)) (3.8.1)\n",
      "Requirement already satisfied: pytz>=2020.1 in c:\\users\\win10\\desktop\\langchianproject\\langchainproject\\clean_venv\\lib\\site-packages (from pandas<3,>=1.4.0->streamlit->-r ../requirements.txt (line 3)) (2024.2)\n",
      "Requirement already satisfied: tzdata>=2022.7 in c:\\users\\win10\\desktop\\langchianproject\\langchainproject\\clean_venv\\lib\\site-packages (from pandas<3,>=1.4.0->streamlit->-r ../requirements.txt (line 3)) (2024.2)\n",
      "Requirement already satisfied: monotonic>=1.5 in c:\\users\\win10\\desktop\\langchianproject\\langchainproject\\clean_venv\\lib\\site-packages (from posthog>=2.4.0->chromadb==0.5.0->-r ../requirements.txt (line 11)) (1.6)\n",
      "Requirement already satisfied: annotated-types>=0.6.0 in c:\\users\\win10\\desktop\\langchianproject\\langchainproject\\clean_venv\\lib\\site-packages (from pydantic>=1.9->chromadb==0.5.0->-r ../requirements.txt (line 11)) (0.7.0)\n",
      "Requirement already satisfied: pydantic-core==2.23.4 in c:\\users\\win10\\desktop\\langchianproject\\langchainproject\\clean_venv\\lib\\site-packages (from pydantic>=1.9->chromadb==0.5.0->-r ../requirements.txt (line 11)) (2.23.4)\n",
      "Requirement already satisfied: python-dotenv>=0.21.0 in c:\\users\\win10\\desktop\\langchianproject\\langchainproject\\clean_venv\\lib\\site-packages (from pydantic-settings<3.0.0,>=2.4.0->langchain_community->-r ../requirements.txt (line 6)) (1.0.1)\n",
      "Requirement already satisfied: MarkupSafe>=2.0 in c:\\users\\win10\\desktop\\langchianproject\\langchainproject\\clean_venv\\lib\\site-packages (from jinja2->torch->-r ../requirements.txt (line 14)) (3.0.2)\n",
      "Requirement already satisfied: charset-normalizer<4,>=2 in c:\\users\\win10\\desktop\\langchianproject\\langchainproject\\clean_venv\\lib\\site-packages (from requests>=2.28->chromadb==0.5.0->-r ../requirements.txt (line 11)) (3.4.1)\n",
      "Requirement already satisfied: idna<4,>=2.5 in c:\\users\\win10\\desktop\\langchianproject\\langchainproject\\clean_venv\\lib\\site-packages (from requests>=2.28->chromadb==0.5.0->-r ../requirements.txt (line 11)) (3.10)\n",
      "Requirement already satisfied: markdown-it-py>=2.2.0 in c:\\users\\win10\\desktop\\langchianproject\\langchainproject\\clean_venv\\lib\\site-packages (from rich<14,>=10.14.0->streamlit->-r ../requirements.txt (line 3)) (3.0.0)\n",
      "Requirement already satisfied: pygments<3.0.0,>=2.13.0 in c:\\users\\win10\\desktop\\langchianproject\\langchainproject\\clean_venv\\lib\\site-packages (from rich<14,>=10.14.0->streamlit->-r ../requirements.txt (line 3)) (2.18.0)\n",
      "Requirement already satisfied: scikit-learn in c:\\users\\win10\\desktop\\langchianproject\\langchainproject\\clean_venv\\lib\\site-packages (from sentence-transformers>=2.6.0->langchain_huggingface->-r ../requirements.txt (line 7)) (1.6.0)\n",
      "Requirement already satisfied: scipy in c:\\users\\win10\\desktop\\langchianproject\\langchainproject\\clean_venv\\lib\\site-packages (from sentence-transformers>=2.6.0->langchain_huggingface->-r ../requirements.txt (line 7)) (1.14.1)\n",
      "Requirement already satisfied: greenlet!=0.4.17 in c:\\users\\win10\\desktop\\langchianproject\\langchainproject\\clean_venv\\lib\\site-packages (from SQLAlchemy<3,>=1.4->langchain->-r ../requirements.txt (line 5)) (3.1.1)\n",
      "Requirement already satisfied: tensorflow-intel==2.18.0 in c:\\users\\win10\\desktop\\langchianproject\\langchainproject\\clean_venv\\lib\\site-packages (from tensorflow<2.19,>=2.18->tf-keras->-r ../requirements.txt (line 4)) (2.18.0)\n",
      "Requirement already satisfied: absl-py>=1.0.0 in c:\\users\\win10\\desktop\\langchianproject\\langchainproject\\clean_venv\\lib\\site-packages (from tensorflow-intel==2.18.0->tensorflow<2.19,>=2.18->tf-keras->-r ../requirements.txt (line 4)) (2.1.0)\n",
      "Requirement already satisfied: astunparse>=1.6.0 in c:\\users\\win10\\desktop\\langchianproject\\langchainproject\\clean_venv\\lib\\site-packages (from tensorflow-intel==2.18.0->tensorflow<2.19,>=2.18->tf-keras->-r ../requirements.txt (line 4)) (1.6.3)\n",
      "Requirement already satisfied: gast!=0.5.0,!=0.5.1,!=0.5.2,>=0.2.1 in c:\\users\\win10\\desktop\\langchianproject\\langchainproject\\clean_venv\\lib\\site-packages (from tensorflow-intel==2.18.0->tensorflow<2.19,>=2.18->tf-keras->-r ../requirements.txt (line 4)) (0.6.0)\n",
      "Requirement already satisfied: google-pasta>=0.1.1 in c:\\users\\win10\\desktop\\langchianproject\\langchainproject\\clean_venv\\lib\\site-packages (from tensorflow-intel==2.18.0->tensorflow<2.19,>=2.18->tf-keras->-r ../requirements.txt (line 4)) (0.2.0)\n",
      "Requirement already satisfied: libclang>=13.0.0 in c:\\users\\win10\\desktop\\langchianproject\\langchainproject\\clean_venv\\lib\\site-packages (from tensorflow-intel==2.18.0->tensorflow<2.19,>=2.18->tf-keras->-r ../requirements.txt (line 4)) (18.1.1)\n",
      "Requirement already satisfied: opt-einsum>=2.3.2 in c:\\users\\win10\\desktop\\langchianproject\\langchainproject\\clean_venv\\lib\\site-packages (from tensorflow-intel==2.18.0->tensorflow<2.19,>=2.18->tf-keras->-r ../requirements.txt (line 4)) (3.4.0)\n",
      "Requirement already satisfied: termcolor>=1.1.0 in c:\\users\\win10\\desktop\\langchianproject\\langchainproject\\clean_venv\\lib\\site-packages (from tensorflow-intel==2.18.0->tensorflow<2.19,>=2.18->tf-keras->-r ../requirements.txt (line 4)) (2.5.0)\n",
      "Requirement already satisfied: tensorboard<2.19,>=2.18 in c:\\users\\win10\\desktop\\langchianproject\\langchainproject\\clean_venv\\lib\\site-packages (from tensorflow-intel==2.18.0->tensorflow<2.19,>=2.18->tf-keras->-r ../requirements.txt (line 4)) (2.18.0)\n",
      "Requirement already satisfied: keras>=3.5.0 in c:\\users\\win10\\desktop\\langchianproject\\langchainproject\\clean_venv\\lib\\site-packages (from tensorflow-intel==2.18.0->tensorflow<2.19,>=2.18->tf-keras->-r ../requirements.txt (line 4)) (3.7.0)\n",
      "Requirement already satisfied: h5py>=3.11.0 in c:\\users\\win10\\desktop\\langchianproject\\langchainproject\\clean_venv\\lib\\site-packages (from tensorflow-intel==2.18.0->tensorflow<2.19,>=2.18->tf-keras->-r ../requirements.txt (line 4)) (3.12.1)\n",
      "Requirement already satisfied: ml-dtypes<0.5.0,>=0.4.0 in c:\\users\\win10\\desktop\\langchianproject\\langchainproject\\clean_venv\\lib\\site-packages (from tensorflow-intel==2.18.0->tensorflow<2.19,>=2.18->tf-keras->-r ../requirements.txt (line 4)) (0.4.1)\n",
      "Requirement already satisfied: shellingham>=1.3.0 in c:\\users\\win10\\desktop\\langchianproject\\langchainproject\\clean_venv\\lib\\site-packages (from typer>=0.9.0->chromadb==0.5.0->-r ../requirements.txt (line 11)) (1.5.4)\n",
      "Requirement already satisfied: h11>=0.8 in c:\\users\\win10\\desktop\\langchianproject\\langchainproject\\clean_venv\\lib\\site-packages (from uvicorn>=0.18.3->uvicorn[standard]>=0.18.3->chromadb==0.5.0->-r ../requirements.txt (line 11)) (0.14.0)\n",
      "Requirement already satisfied: httptools>=0.6.3 in c:\\users\\win10\\desktop\\langchianproject\\langchainproject\\clean_venv\\lib\\site-packages (from uvicorn[standard]>=0.18.3->chromadb==0.5.0->-r ../requirements.txt (line 11)) (0.6.4)\n",
      "Requirement already satisfied: watchfiles>=0.13 in c:\\users\\win10\\desktop\\langchianproject\\langchainproject\\clean_venv\\lib\\site-packages (from uvicorn[standard]>=0.18.3->chromadb==0.5.0->-r ../requirements.txt (line 11)) (1.0.3)\n",
      "Requirement already satisfied: websockets>=10.4 in c:\\users\\win10\\desktop\\langchianproject\\langchainproject\\clean_venv\\lib\\site-packages (from uvicorn[standard]>=0.18.3->chromadb==0.5.0->-r ../requirements.txt (line 11)) (14.1)\n",
      "Requirement already satisfied: soupsieve>1.2 in c:\\users\\win10\\desktop\\langchianproject\\langchainproject\\clean_venv\\lib\\site-packages (from beautifulsoup4->unstructured[pdf]->-r ../requirements.txt (line 10)) (2.6)\n",
      "Requirement already satisfied: humanfriendly>=9.1 in c:\\users\\win10\\desktop\\langchianproject\\langchainproject\\clean_venv\\lib\\site-packages (from coloredlogs->onnxruntime==1.17.1->-r ../requirements.txt (line 9)) (10.0)\n",
      "Requirement already satisfied: torchvision in c:\\users\\win10\\desktop\\langchianproject\\langchainproject\\clean_venv\\lib\\site-packages (from effdet->unstructured[pdf]->-r ../requirements.txt (line 10)) (0.20.1)\n",
      "Requirement already satisfied: pycocotools>=2.0.2 in c:\\users\\win10\\desktop\\langchianproject\\langchainproject\\clean_venv\\lib\\site-packages (from effdet->unstructured[pdf]->-r ../requirements.txt (line 10)) (2.0.8)\n",
      "Requirement already satisfied: omegaconf>=2.0 in c:\\users\\win10\\desktop\\langchianproject\\langchainproject\\clean_venv\\lib\\site-packages (from effdet->unstructured[pdf]->-r ../requirements.txt (line 10)) (2.3.0)\n",
      "Requirement already satisfied: google-api-core!=2.0.*,!=2.1.*,!=2.10.*,!=2.2.*,!=2.3.*,!=2.4.*,!=2.5.*,!=2.6.*,!=2.7.*,!=2.8.*,!=2.9.*,<3.0.0dev,>=1.34.1 in c:\\users\\win10\\desktop\\langchianproject\\langchainproject\\clean_venv\\lib\\site-packages (from google-api-core[grpc]!=2.0.*,!=2.1.*,!=2.10.*,!=2.2.*,!=2.3.*,!=2.4.*,!=2.5.*,!=2.6.*,!=2.7.*,!=2.8.*,!=2.9.*,<3.0.0dev,>=1.34.1->google-cloud-vision->unstructured[pdf]->-r ../requirements.txt (line 10)) (2.24.0)\n",
      "Requirement already satisfied: proto-plus<2.0.0dev,>=1.22.3 in c:\\users\\win10\\desktop\\langchianproject\\langchainproject\\clean_venv\\lib\\site-packages (from google-cloud-vision->unstructured[pdf]->-r ../requirements.txt (line 10)) (1.25.0)\n",
      "Requirement already satisfied: webencodings in c:\\users\\win10\\desktop\\langchianproject\\langchainproject\\clean_venv\\lib\\site-packages (from html5lib->unstructured[pdf]->-r ../requirements.txt (line 10)) (0.5.1)\n",
      "Requirement already satisfied: joblib in c:\\users\\win10\\desktop\\langchianproject\\langchainproject\\clean_venv\\lib\\site-packages (from nltk->unstructured[pdf]->-r ../requirements.txt (line 10)) (1.4.2)\n",
      "Requirement already satisfied: cryptography>=36.0.0 in c:\\users\\win10\\desktop\\langchianproject\\langchainproject\\clean_venv\\lib\\site-packages (from pdfminer.six->unstructured[pdf]->-r ../requirements.txt (line 10)) (44.0.0)\n",
      "Requirement already satisfied: olefile in c:\\users\\win10\\desktop\\langchianproject\\langchainproject\\clean_venv\\lib\\site-packages (from python-oxmsg->unstructured[pdf]->-r ../requirements.txt (line 10)) (0.47)\n",
      "Requirement already satisfied: aiofiles>=24.1.0 in c:\\users\\win10\\desktop\\langchianproject\\langchainproject\\clean_venv\\lib\\site-packages (from unstructured-client->unstructured[pdf]->-r ../requirements.txt (line 10)) (24.1.0)\n",
      "Requirement already satisfied: eval-type-backport<0.3.0,>=0.2.0 in c:\\users\\win10\\desktop\\langchianproject\\langchainproject\\clean_venv\\lib\\site-packages (from unstructured-client->unstructured[pdf]->-r ../requirements.txt (line 10)) (0.2.2)\n",
      "Requirement already satisfied: jsonpath-python<2.0.0,>=1.0.6 in c:\\users\\win10\\desktop\\langchianproject\\langchainproject\\clean_venv\\lib\\site-packages (from unstructured-client->unstructured[pdf]->-r ../requirements.txt (line 10)) (1.0.6)\n",
      "Requirement already satisfied: nest-asyncio>=1.6.0 in c:\\users\\win10\\desktop\\langchianproject\\langchainproject\\clean_venv\\lib\\site-packages (from unstructured-client->unstructured[pdf]->-r ../requirements.txt (line 10)) (1.6.0)\n",
      "Requirement already satisfied: cffi>=1.12 in c:\\users\\win10\\desktop\\langchianproject\\langchainproject\\clean_venv\\lib\\site-packages (from cryptography>=36.0.0->pdfminer.six->unstructured[pdf]->-r ../requirements.txt (line 10)) (1.17.1)\n",
      "Requirement already satisfied: smmap<6,>=3.0.1 in c:\\users\\win10\\desktop\\langchianproject\\langchainproject\\clean_venv\\lib\\site-packages (from gitdb<5,>=4.0.1->gitpython!=3.1.19,<4,>=3.0.7->streamlit->-r ../requirements.txt (line 3)) (5.0.1)\n",
      "Requirement already satisfied: grpcio-status<2.0.dev0,>=1.33.2 in c:\\users\\win10\\desktop\\langchianproject\\langchainproject\\clean_venv\\lib\\site-packages (from google-api-core[grpc]!=2.0.*,!=2.1.*,!=2.10.*,!=2.2.*,!=2.3.*,!=2.4.*,!=2.5.*,!=2.6.*,!=2.7.*,!=2.8.*,!=2.9.*,<3.0.0dev,>=1.34.1->google-cloud-vision->unstructured[pdf]->-r ../requirements.txt (line 10)) (1.68.1)\n",
      "Requirement already satisfied: pyasn1-modules>=0.2.1 in c:\\users\\win10\\desktop\\langchianproject\\langchainproject\\clean_venv\\lib\\site-packages (from google-auth>=1.0.1->kubernetes>=28.1.0->chromadb==0.5.0->-r ../requirements.txt (line 11)) (0.4.1)\n",
      "Requirement already satisfied: rsa<5,>=3.1.4 in c:\\users\\win10\\desktop\\langchianproject\\langchainproject\\clean_venv\\lib\\site-packages (from google-auth>=1.0.1->kubernetes>=28.1.0->chromadb==0.5.0->-r ../requirements.txt (line 11)) (4.9)\n",
      "Requirement already satisfied: anyio in c:\\users\\win10\\desktop\\langchianproject\\langchainproject\\clean_venv\\lib\\site-packages (from httpx<1,>=0.23.0->langsmith<0.3,>=0.1.17->langchain->-r ../requirements.txt (line 5)) (4.7.0)\n",
      "Requirement already satisfied: httpcore==1.* in c:\\users\\win10\\desktop\\langchianproject\\langchainproject\\clean_venv\\lib\\site-packages (from httpx<1,>=0.23.0->langsmith<0.3,>=0.1.17->langchain->-r ../requirements.txt (line 5)) (1.0.7)\n",
      "Requirement already satisfied: pyreadline3 in c:\\users\\win10\\desktop\\langchianproject\\langchainproject\\clean_venv\\lib\\site-packages (from humanfriendly>=9.1->coloredlogs->onnxruntime==1.17.1->-r ../requirements.txt (line 9)) (3.5.4)\n",
      "Requirement already satisfied: zipp>=3.20 in c:\\users\\win10\\desktop\\langchianproject\\langchainproject\\clean_venv\\lib\\site-packages (from importlib-metadata<=8.5.0,>=6.0->opentelemetry-api>=1.2.0->chromadb==0.5.0->-r ../requirements.txt (line 11)) (3.21.0)\n",
      "Requirement already satisfied: jsonpointer>=1.9 in c:\\users\\win10\\desktop\\langchianproject\\langchainproject\\clean_venv\\lib\\site-packages (from jsonpatch<2.0,>=1.33->langchain-core<0.4.0,>=0.3.26->langchain->-r ../requirements.txt (line 5)) (3.0.0)\n",
      "Requirement already satisfied: jsonschema-specifications>=2023.03.6 in c:\\users\\win10\\desktop\\langchianproject\\langchainproject\\clean_venv\\lib\\site-packages (from jsonschema>=3.0->altair<6,>=4.0->streamlit->-r ../requirements.txt (line 3)) (2024.10.1)\n",
      "Requirement already satisfied: referencing>=0.28.4 in c:\\users\\win10\\desktop\\langchianproject\\langchainproject\\clean_venv\\lib\\site-packages (from jsonschema>=3.0->altair<6,>=4.0->streamlit->-r ../requirements.txt (line 3)) (0.35.1)\n",
      "Requirement already satisfied: rpds-py>=0.7.1 in c:\\users\\win10\\desktop\\langchianproject\\langchainproject\\clean_venv\\lib\\site-packages (from jsonschema>=3.0->altair<6,>=4.0->streamlit->-r ../requirements.txt (line 3)) (0.22.3)\n",
      "Requirement already satisfied: mdurl~=0.1 in c:\\users\\win10\\desktop\\langchianproject\\langchainproject\\clean_venv\\lib\\site-packages (from markdown-it-py>=2.2.0->rich<14,>=10.14.0->streamlit->-r ../requirements.txt (line 3)) (0.1.2)\n",
      "Requirement already satisfied: antlr4-python3-runtime==4.9.* in c:\\users\\win10\\desktop\\langchianproject\\langchainproject\\clean_venv\\lib\\site-packages (from omegaconf>=2.0->effdet->unstructured[pdf]->-r ../requirements.txt (line 10)) (4.9.3)\n",
      "Requirement already satisfied: contourpy>=1.0.1 in c:\\users\\win10\\desktop\\langchianproject\\langchainproject\\clean_venv\\lib\\site-packages (from matplotlib->unstructured-inference==0.8.1->unstructured[pdf]->-r ../requirements.txt (line 10)) (1.3.1)\n",
      "Requirement already satisfied: cycler>=0.10 in c:\\users\\win10\\desktop\\langchianproject\\langchainproject\\clean_venv\\lib\\site-packages (from matplotlib->unstructured-inference==0.8.1->unstructured[pdf]->-r ../requirements.txt (line 10)) (0.12.1)\n",
      "Requirement already satisfied: fonttools>=4.22.0 in c:\\users\\win10\\desktop\\langchianproject\\langchainproject\\clean_venv\\lib\\site-packages (from matplotlib->unstructured-inference==0.8.1->unstructured[pdf]->-r ../requirements.txt (line 10)) (4.55.3)\n",
      "Requirement already satisfied: kiwisolver>=1.3.1 in c:\\users\\win10\\desktop\\langchianproject\\langchainproject\\clean_venv\\lib\\site-packages (from matplotlib->unstructured-inference==0.8.1->unstructured[pdf]->-r ../requirements.txt (line 10)) (1.4.8)\n",
      "Requirement already satisfied: pyparsing>=2.3.1 in c:\\users\\win10\\desktop\\langchianproject\\langchainproject\\clean_venv\\lib\\site-packages (from matplotlib->unstructured-inference==0.8.1->unstructured[pdf]->-r ../requirements.txt (line 10)) (3.2.0)\n",
      "Requirement already satisfied: mypy-extensions>=0.3.0 in c:\\users\\win10\\desktop\\langchianproject\\langchainproject\\clean_venv\\lib\\site-packages (from typing-inspect<1,>=0.4.0->dataclasses-json<0.7,>=0.5.7->langchain_community->-r ../requirements.txt (line 6)) (1.0.0)\n",
      "Requirement already satisfied: iopath in c:\\users\\win10\\desktop\\langchianproject\\langchainproject\\clean_venv\\lib\\site-packages (from layoutparser->unstructured-inference==0.8.1->unstructured[pdf]->-r ../requirements.txt (line 10)) (0.1.10)\n",
      "Requirement already satisfied: pdfplumber in c:\\users\\win10\\desktop\\langchianproject\\langchainproject\\clean_venv\\lib\\site-packages (from layoutparser->unstructured-inference==0.8.1->unstructured[pdf]->-r ../requirements.txt (line 10)) (0.11.4)\n",
      "Requirement already satisfied: threadpoolctl>=3.1.0 in c:\\users\\win10\\desktop\\langchianproject\\langchainproject\\clean_venv\\lib\\site-packages (from scikit-learn->sentence-transformers>=2.6.0->langchain_huggingface->-r ../requirements.txt (line 7)) (3.5.0)\n",
      "Requirement already satisfied: sniffio>=1.1 in c:\\users\\win10\\desktop\\langchianproject\\langchainproject\\clean_venv\\lib\\site-packages (from anyio->httpx<1,>=0.23.0->langsmith<0.3,>=0.1.17->langchain->-r ../requirements.txt (line 5)) (1.3.1)\n",
      "Requirement already satisfied: wheel<1.0,>=0.23.0 in c:\\users\\win10\\desktop\\langchianproject\\langchainproject\\clean_venv\\lib\\site-packages (from astunparse>=1.6.0->tensorflow-intel==2.18.0->tensorflow<2.19,>=2.18->tf-keras->-r ../requirements.txt (line 4)) (0.45.1)\n",
      "Requirement already satisfied: pycparser in c:\\users\\win10\\desktop\\langchianproject\\langchainproject\\clean_venv\\lib\\site-packages (from cffi>=1.12->cryptography>=36.0.0->pdfminer.six->unstructured[pdf]->-r ../requirements.txt (line 10)) (2.22)\n",
      "Requirement already satisfied: namex in c:\\users\\win10\\desktop\\langchianproject\\langchainproject\\clean_venv\\lib\\site-packages (from keras>=3.5.0->tensorflow-intel==2.18.0->tensorflow<2.19,>=2.18->tf-keras->-r ../requirements.txt (line 4)) (0.0.8)\n",
      "Requirement already satisfied: optree in c:\\users\\win10\\desktop\\langchianproject\\langchainproject\\clean_venv\\lib\\site-packages (from keras>=3.5.0->tensorflow-intel==2.18.0->tensorflow<2.19,>=2.18->tf-keras->-r ../requirements.txt (line 4)) (0.13.1)\n",
      "Requirement already satisfied: pyasn1<0.7.0,>=0.4.6 in c:\\users\\win10\\desktop\\langchianproject\\langchainproject\\clean_venv\\lib\\site-packages (from pyasn1-modules>=0.2.1->google-auth>=1.0.1->kubernetes>=28.1.0->chromadb==0.5.0->-r ../requirements.txt (line 11)) (0.6.1)\n",
      "Requirement already satisfied: markdown>=2.6.8 in c:\\users\\win10\\desktop\\langchianproject\\langchainproject\\clean_venv\\lib\\site-packages (from tensorboard<2.19,>=2.18->tensorflow-intel==2.18.0->tensorflow<2.19,>=2.18->tf-keras->-r ../requirements.txt (line 4)) (3.7)\n",
      "Requirement already satisfied: tensorboard-data-server<0.8.0,>=0.7.0 in c:\\users\\win10\\desktop\\langchianproject\\langchainproject\\clean_venv\\lib\\site-packages (from tensorboard<2.19,>=2.18->tensorflow-intel==2.18.0->tensorflow<2.19,>=2.18->tf-keras->-r ../requirements.txt (line 4)) (0.7.2)\n",
      "Requirement already satisfied: werkzeug>=1.0.1 in c:\\users\\win10\\desktop\\langchianproject\\langchainproject\\clean_venv\\lib\\site-packages (from tensorboard<2.19,>=2.18->tensorflow-intel==2.18.0->tensorflow<2.19,>=2.18->tf-keras->-r ../requirements.txt (line 4)) (3.1.3)\n",
      "Requirement already satisfied: portalocker in c:\\users\\win10\\desktop\\langchianproject\\langchainproject\\clean_venv\\lib\\site-packages (from iopath->layoutparser->unstructured-inference==0.8.1->unstructured[pdf]->-r ../requirements.txt (line 10)) (3.0.0)\n",
      "Requirement already satisfied: pypdfium2>=4.18.0 in c:\\users\\win10\\desktop\\langchianproject\\langchainproject\\clean_venv\\lib\\site-packages (from pdfplumber->layoutparser->unstructured-inference==0.8.1->unstructured[pdf]->-r ../requirements.txt (line 10)) (4.30.1)\n",
      "Requirement already satisfied: pywin32>=226 in c:\\users\\win10\\desktop\\langchianproject\\langchainproject\\clean_venv\\lib\\site-packages (from portalocker->iopath->layoutparser->unstructured-inference==0.8.1->unstructured[pdf]->-r ../requirements.txt (line 10)) (308)\n",
      "Note: you may need to restart the kernel to use updated packages.\n"
     ]
    }
   ],
   "source": [
    "pip install -r ../requirements.txt "
   ]
  },
  {
   "cell_type": "code",
   "execution_count": 3,
   "id": "6d4be625-ef8b-429f-921c-7bf85df83edc",
   "metadata": {},
   "outputs": [],
   "source": [
    "import sys\n",
    "import os\n",
    "\n",
    "# Add the superfolder path to sys.path\n",
    "sys.path.append(os.path.abspath('..'))\n",
    "\n",
    "from keys import LANGCHAIN_API_KEY , HUGGINGFACEHUB_API_TOKEN\n",
    "\n",
    "os.environ[\"LANGCHAIN_TRACING_V2\"] = \"true\"\n",
    "os.environ[\"LANGCHAIN_API_KEY\"] = LANGCHAIN_API_KEY\n",
    "os.environ[\"HUGGINGFACEHUB_API_TOKEN\"] = HUGGINGFACEHUB_API_TOKEN"
   ]
  },
  {
   "cell_type": "markdown",
   "id": "62e7178a",
   "metadata": {},
   "source": [
    "#Simple Quiry-Answer Application"
   ]
  },
  {
   "cell_type": "code",
   "execution_count": 4,
   "id": "9a5d2dff-cdac-417e-9cec-320272adfdf9",
   "metadata": {},
   "outputs": [],
   "source": [
    "from langchain import PromptTemplate, HuggingFaceHub, LLMChain\n",
    "\n",
    "template = \"\"\"Question: {question}\n",
    "\n",
    "Answer: \"\"\"\n",
    "\n",
    "prompt = PromptTemplate(template=template, input_variables=[\"question\"])"
   ]
  },
  {
   "cell_type": "code",
   "execution_count": 5,
   "id": "007c3db2-d58e-41e4-989d-030a3c780e13",
   "metadata": {},
   "outputs": [
    {
     "name": "stderr",
     "output_type": "stream",
     "text": [
      "C:\\Users\\win10\\AppData\\Local\\Temp\\ipykernel_7492\\3173133658.py:2: LangChainDeprecationWarning: The class `HuggingFaceHub` was deprecated in LangChain 0.0.21 and will be removed in 1.0. An updated version of the class exists in the :class:`~langchain-huggingface package and should be used instead. To use it run `pip install -U :class:`~langchain-huggingface` and import as `from :class:`~langchain_huggingface import HuggingFaceEndpoint``.\n",
      "  llm=HuggingFaceHub(repo_id=\"meta-llama/Llama-3.2-1B\",\n",
      "C:\\Users\\win10\\AppData\\Local\\Temp\\ipykernel_7492\\3173133658.py:1: LangChainDeprecationWarning: The class `LLMChain` was deprecated in LangChain 0.1.17 and will be removed in 1.0. Use :meth:`~RunnableSequence, e.g., `prompt | llm`` instead.\n",
      "  llm_chain = LLMChain(prompt=prompt,\n"
     ]
    }
   ],
   "source": [
    "llm_chain = LLMChain(prompt=prompt, \n",
    "                     llm=HuggingFaceHub(repo_id=\"meta-llama/Llama-3.2-1B\", \n",
    "                                        model_kwargs={\"Temperature\":0, \n",
    "                                                      \n",
    "                                                      \"max_length\":64}))"
   ]
  },
  {
   "cell_type": "markdown",
   "id": "f5f7f1c1",
   "metadata": {},
   "source": [
    "##The result of using a text generation model"
   ]
  },
  {
   "cell_type": "code",
   "execution_count": 6,
   "id": "270feba9-c2c2-4b9e-a24a-dea4457601bb",
   "metadata": {},
   "outputs": [
    {
     "name": "stderr",
     "output_type": "stream",
     "text": [
      "C:\\Users\\win10\\AppData\\Local\\Temp\\ipykernel_7492\\579392319.py:2: LangChainDeprecationWarning: The method `Chain.run` was deprecated in langchain 0.1.0 and will be removed in 1.0. Use :meth:`~invoke` instead.\n",
      "  print(llm_chain.run(question))\n"
     ]
    },
    {
     "name": "stdout",
     "output_type": "stream",
     "text": [
      "Question: What is the capital of Egypt?\n",
      "\n",
      "Answer:  Cairo\n"
     ]
    }
   ],
   "source": [
    "question=\"What is the capital of Egypt?\"\n",
    "print(llm_chain.run(question))"
   ]
  },
  {
   "cell_type": "code",
   "execution_count": 7,
   "id": "7053f4a4-b585-45d9-b520-cd53e113ed3d",
   "metadata": {},
   "outputs": [],
   "source": [
    "template = \"\"\"Question: {question}\n",
    "\n",
    "Answer: \"\"\"\n",
    "\n",
    "prompt = PromptTemplate(template=template, input_variables=[\"question\"])\n",
    "llm_chain2 = LLMChain(prompt=prompt, \n",
    "                     llm=HuggingFaceHub(repo_id=\"google/flan-t5-large\", \n",
    "                                        model_kwargs={\"max_length\":64}))"
   ]
  },
  {
   "cell_type": "markdown",
   "id": "72b92b34",
   "metadata": {},
   "source": [
    "##The result of usinf text2text generation model"
   ]
  },
  {
   "cell_type": "code",
   "execution_count": 8,
   "id": "6bec435e",
   "metadata": {},
   "outputs": [
    {
     "name": "stdout",
     "output_type": "stream",
     "text": [
      "ajo@aol.com\n"
     ]
    }
   ],
   "source": [
    "question=\"what is the email of the employee Alice Johnson\"\n",
    "print(llm_chain2.run(question))"
   ]
  },
  {
   "cell_type": "code",
   "execution_count": 9,
   "id": "b0f2ca62",
   "metadata": {},
   "outputs": [
    {
     "name": "stdout",
     "output_type": "stream",
     "text": [
      "scott mccullough\n"
     ]
    }
   ],
   "source": [
    "question=\"Who are the leadership of the marketing team?\"\n",
    "print(llm_chain2.run(question))"
   ]
  },
  {
   "cell_type": "markdown",
   "id": "9f419831",
   "metadata": {},
   "source": [
    "#Retrival Augmented Generation (RAG) Application"
   ]
  },
  {
   "cell_type": "markdown",
   "id": "cb18fa13",
   "metadata": {},
   "source": [
    "##step 1: Load local documents"
   ]
  },
  {
   "cell_type": "code",
   "execution_count": 10,
   "id": "49394121",
   "metadata": {},
   "outputs": [
    {
     "name": "stderr",
     "output_type": "stream",
     "text": [
      "100%|██████████| 1/1 [00:08<00:00,  8.52s/it]"
     ]
    },
    {
     "name": "stdout",
     "output_type": "stream",
     "text": [
      "1\n"
     ]
    },
    {
     "name": "stderr",
     "output_type": "stream",
     "text": [
      "\n"
     ]
    }
   ],
   "source": [
    "from langchain_community.document_loaders import DirectoryLoader\n",
    "loader = DirectoryLoader(\"../data\",glob=\"*.pdf\",show_progress=True)\n",
    "doc = loader.load()\n",
    "print(len(doc))"
   ]
  },
  {
   "cell_type": "markdown",
   "id": "34564ad7",
   "metadata": {},
   "source": [
    "##step 2: Split large documents into smaller chunks for embedding and retrieval"
   ]
  },
  {
   "cell_type": "code",
   "execution_count": 11,
   "id": "a0622abe",
   "metadata": {},
   "outputs": [
    {
     "name": "stdout",
     "output_type": "stream",
     "text": [
      "Split 1 document(s) into 35 chunks.\n"
     ]
    }
   ],
   "source": [
    "from langchain.text_splitter import RecursiveCharacterTextSplitter\n",
    "\n",
    "text_splitter = RecursiveCharacterTextSplitter(\n",
    "    chunk_size=200,\n",
    "    chunk_overlap=20,\n",
    "    length_function=len,\n",
    "    add_start_index=True,\n",
    ")\n",
    "chunks = text_splitter.split_documents(doc)\n",
    "print(f\"Split {len(doc)} document(s) into {len(chunks)} chunks.\")"
   ]
  },
  {
   "cell_type": "markdown",
   "metadata": {},
   "source": [
    "##Step 3: Convert document chunks into vector embeddings\n",
    "\n"
   ]
  },
  {
   "cell_type": "markdown",
   "id": "b72fa667",
   "metadata": {},
   "source": [
    "##Step 4: Vector Stores: Store the embeddings for efficient retrieval.\n"
   ]
  },
  {
   "cell_type": "code",
   "execution_count": 12,
   "id": "93bab3af",
   "metadata": {},
   "outputs": [
    {
     "name": "stdout",
     "output_type": "stream",
     "text": [
      "WARNING:tensorflow:From c:\\Users\\win10\\Desktop\\LangchianProject\\LangchainProject\\clean_venv\\Lib\\site-packages\\tf_keras\\src\\losses.py:2976: The name tf.losses.sparse_softmax_cross_entropy is deprecated. Please use tf.compat.v1.losses.sparse_softmax_cross_entropy instead.\n",
      "\n",
      "Saved 35 chunks to chroma.\n"
     ]
    },
    {
     "name": "stderr",
     "output_type": "stream",
     "text": [
      "C:\\Users\\win10\\AppData\\Local\\Temp\\ipykernel_7492\\420685358.py:15: LangChainDeprecationWarning: Since Chroma 0.4.x the manual persistence method is no longer supported as docs are automatically persisted.\n",
      "  db.persist()\n"
     ]
    }
   ],
   "source": [
    "from langchain_community.vectorstores import Chroma\n",
    "from langchain_huggingface import HuggingFaceEmbeddings\n",
    "import shutil\n",
    "\n",
    "CHROMA_PATH =\"chroma\"\n",
    "\n",
    "# Clear out the database first if exist.\n",
    "if os.path.exists(CHROMA_PATH):\n",
    "    shutil.rmtree(CHROMA_PATH)\n",
    "    \n",
    "# Create a new DB from the documents.\n",
    "db = Chroma.from_documents(\n",
    "    chunks, HuggingFaceEmbeddings(), persist_directory=CHROMA_PATH\n",
    ")\n",
    "db.persist()\n",
    "print(f\"Saved {len(chunks)} chunks to {CHROMA_PATH}.\")"
   ]
  },
  {
   "cell_type": "markdown",
   "id": "8aeaefbe",
   "metadata": {},
   "source": [
    "##step 5: Retrievers: Configure a retriever to fetch relevant documents from the vector store.\n"
   ]
  },
  {
   "cell_type": "code",
   "execution_count": 13,
   "id": "a2043cc6",
   "metadata": {},
   "outputs": [
    {
     "data": {
      "text/plain": [
       "3"
      ]
     },
     "execution_count": 13,
     "metadata": {},
     "output_type": "execute_result"
    }
   ],
   "source": [
    "query_text = \"what is the email of the employee Alice Johnson\"\n",
    "retriever = db.as_retriever(search_type=\"similarity\", search_kwargs={\"k\": 3})\n",
    "\n",
    "retrieved_docs = retriever.invoke(query_text)\n",
    "len(retrieved_docs)\n"
   ]
  },
  {
   "cell_type": "markdown",
   "id": "ad57eba9",
   "metadata": {},
   "source": [
    "##format the retrived chuncks of a document "
   ]
  },
  {
   "cell_type": "code",
   "execution_count": 14,
   "id": "2b817007",
   "metadata": {},
   "outputs": [
    {
     "name": "stdout",
     "output_type": "stream",
     "text": [
      "Human: \n",
      "Use the following retrieved context to answer the query:\n",
      "\n",
      "Employee Details Alice Johnson Software Engineer 03-15\n",
      "\n",
      "Development alice.johnson@infratech.com 2022-\n",
      "\n",
      "---\n",
      "\n",
      "Diana Williams\n",
      "\n",
      "HR Specialist Human Resources\n",
      "\n",
      "diana.williams@infratech.com\n",
      "\n",
      "2019-09-01\n",
      "\n",
      "---\n",
      "\n",
      "Employee Information Report This document contains detailed information about the employees of InfraTech. It includes their names, roles, departments, contact information, and hire dates. In this\n",
      "\n",
      "Query: what is the email of the employee Alice Johnson\n",
      "\n",
      "\n"
     ]
    }
   ],
   "source": [
    "from langchain.prompts import ChatPromptTemplate\n",
    "\n",
    "results = db.similarity_search_with_relevance_scores(query_text, k=3)\n",
    "\n",
    "PROMPT_TEMPLATE = \"\"\"\n",
    "Use the following retrieved context to answer the query:\n",
    "\n",
    "{context}\n",
    "\n",
    "Query: {query}\n",
    "{answer}\n",
    "\"\"\"\n",
    "\n",
    "context_text = \"\\n\\n---\\n\\n\".join([doc.page_content for doc, _score in results])\n",
    "prompt_template = ChatPromptTemplate.from_template(PROMPT_TEMPLATE)\n",
    "prompt_format = prompt_template.format(context=context_text, query=query_text, answer=\"\")\n",
    "print(prompt_format)"
   ]
  },
  {
   "cell_type": "markdown",
   "id": "d5309bc3",
   "metadata": {},
   "source": [
    "##step 6: LLM Integration: integerate the retrived chuncks in the LLM query"
   ]
  },
  {
   "cell_type": "code",
   "execution_count": 15,
   "id": "4c714aa9",
   "metadata": {},
   "outputs": [
    {
     "name": "stdout",
     "output_type": "stream",
     "text": [
      "Human: \n",
      "Use the following retrieved context to answer the query:\n",
      "\n",
      "Employee Details Alice Johnson Software Engineer 03-15\n",
      "\n",
      "Development alice.johnson@infratech.com 2022-\n",
      "\n",
      "---\n",
      "\n",
      "Diana Williams\n",
      "\n",
      "HR Specialist Human Resources\n",
      "\n",
      "diana.williams@infratech.com\n",
      "\n",
      "2019-09-01\n",
      "\n",
      "---\n",
      "\n",
      "Employee Information Report This document contains detailed information about the employees of InfraTech. It includes their names, roles, departments, contact information, and hire dates. In this\n",
      "\n",
      "Query: what is the email of the employee Alice Johnson\n",
      "Response: alice.johnson@infratech.com\n",
      "Sources: ['..\\\\data\\\\InfraTech_Employee_Information_Report.pdf', '..\\\\data\\\\InfraTech_Employee_Information_Report.pdf', '..\\\\data\\\\InfraTech_Employee_Information_Report.pdf']\n",
      "\n"
     ]
    }
   ],
   "source": [
    "# Create the LLM chain\n",
    "# Initialize the LLM from Hugging Face Hub\n",
    "llm_chain3 = LLMChain(prompt=prompt_template, \n",
    "                      llm=HuggingFaceHub(\n",
    "                        repo_id=\"google/flan-t5-large\",\n",
    "                        model_kwargs={\"max_length\": 64, \"temperature\": 0.5})  \n",
    "                      )\n",
    "\n",
    "# Run the chain with context and query\n",
    "response_text = llm_chain3.run({\"context\": context_text, \"query\": query_text, \"answer\":\"\"})\n",
    "\n",
    "# Extract sources from metadata\n",
    "sources = [doc.metadata.get(\"source\", None) for doc in retrieved_docs]\n",
    "\n",
    "# Format the response\n",
    "formatted_response = f\"Response: {response_text}\\nSources: {sources}\"\n",
    "prompt_format = prompt_template.format(context=context_text, query=query_text, answer=formatted_response)\n",
    "print(prompt_format)\n",
    "#print(formatted_response)\n"
   ]
  },
  {
   "cell_type": "markdown",
   "id": "a410f7d0",
   "metadata": {},
   "source": [
    "#Combine the RAG components in a function for easy testing"
   ]
  },
  {
   "cell_type": "code",
   "execution_count": 16,
   "id": "0fc4b22c",
   "metadata": {},
   "outputs": [],
   "source": [
    "def RAG_query(query_text):\n",
    "\n",
    "    #Retrieve documents\n",
    "    retriever = db.as_retriever(search_type=\"similarity\", search_kwargs={\"k\": 3})\n",
    "    retrieved_docs = retriever.get_relevant_documents(query_text)\n",
    "\n",
    "    #Prepare context\n",
    "    context_text = \"\\n\\n---\\n\\n\".join([doc.page_content for doc in retrieved_docs])\n",
    "\n",
    "    #Define prompt template\n",
    "    PROMPT_TEMPLATE = \"\"\"\n",
    "    Use the following retrieved context to answer the query:\n",
    "\n",
    "    {context}\n",
    "\n",
    "    Query: {query}\n",
    "    Answer:\n",
    "    \"\"\"\n",
    "\n",
    "    #Create the prompt template\n",
    "    prompt_template = ChatPromptTemplate.from_template(PROMPT_TEMPLATE)\n",
    "\n",
    "    #Initialize the LLM\n",
    "    llm_chain = LLMChain(\n",
    "        prompt=prompt_template,\n",
    "        llm=HuggingFaceHub(\n",
    "            repo_id=\"google/flan-t5-large\",\n",
    "            model_kwargs={\"max_length\": 64, \"temperature\": 0}\n",
    "        )\n",
    "    )\n",
    "\n",
    "    #Run the LLM chain with context and query\n",
    "    response_text = llm_chain.run({\"context\": context_text, \"query\": query_text})\n",
    "\n",
    "    #Extract the most relvent source\n",
    "    sources = retrieved_docs[0].metadata.get(\"source\", \"Unknown\") if retrieved_docs else \"No sources available\"\n",
    "\n",
    "    #Format the final response\n",
    "    formatted_response = f\"Response: {response_text}\\nSources: {sources}\"\n",
    "\n",
    "    return formatted_response\n"
   ]
  },
  {
   "cell_type": "markdown",
   "id": "32a49102",
   "metadata": {},
   "source": [
    "#Test the function"
   ]
  },
  {
   "cell_type": "code",
   "execution_count": 17,
   "id": "7fce2882",
   "metadata": {},
   "outputs": [
    {
     "name": "stderr",
     "output_type": "stream",
     "text": [
      "C:\\Users\\win10\\AppData\\Local\\Temp\\ipykernel_7492\\4164212226.py:5: LangChainDeprecationWarning: The method `BaseRetriever.get_relevant_documents` was deprecated in langchain-core 0.1.46 and will be removed in 1.0. Use :meth:`~invoke` instead.\n",
      "  retrieved_docs = retriever.get_relevant_documents(query_text)\n"
     ]
    },
    {
     "name": "stdout",
     "output_type": "stream",
     "text": [
      "Response: Bob Smith and Peter Davis\n",
      "Sources: ..\\data\\InfraTech_Employee_Information_Report.pdf\n"
     ]
    }
   ],
   "source": [
    "query_text = \"Who are the leadership of the marketing team?\"\n",
    "response = RAG_query(query_text)\n",
    "print(response)"
   ]
  },
  {
   "cell_type": "code",
   "execution_count": null,
   "id": "cfedf5b0",
   "metadata": {},
   "outputs": [],
   "source": []
  }
 ],
 "metadata": {
  "kernelspec": {
   "display_name": "clean_venv",
   "language": "python",
   "name": "python3"
  },
  "language_info": {
   "codemirror_mode": {
    "name": "ipython",
    "version": 3
   },
   "file_extension": ".py",
   "mimetype": "text/x-python",
   "name": "python",
   "nbconvert_exporter": "python",
   "pygments_lexer": "ipython3",
   "version": "3.12.5"
  }
 },
 "nbformat": 4,
 "nbformat_minor": 5
}
