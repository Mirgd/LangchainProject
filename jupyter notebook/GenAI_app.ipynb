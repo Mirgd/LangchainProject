{
 "cells": [
  {
   "cell_type": "markdown",
   "id": "b836e543",
   "metadata": {},
   "source": [
    "##Hide warnings"
   ]
  },
  {
   "cell_type": "code",
   "execution_count": 33,
   "id": "3e0f0ed0-8772-47a2-bdb3-f13c0861442f",
   "metadata": {},
   "outputs": [],
   "source": [
    "import warnings \n",
    "warnings.filterwarnings(\"ignore\")"
   ]
  },
  {
   "cell_type": "markdown",
   "id": "e38a391e",
   "metadata": {},
   "source": [
    "##Install required libraries"
   ]
  },
  {
   "cell_type": "code",
   "execution_count": 34,
   "id": "fe0aa02a",
   "metadata": {},
   "outputs": [
    {
     "name": "stdout",
     "output_type": "stream",
     "text": [
      "Requirement already satisfied: streamlit in c:\\users\\win10\\desktop\\langchianproject\\langchainproject\\.venv\\lib\\site-packages (from -r ../requirements.txt (line 1)) (1.41.1)\n",
      "Requirement already satisfied: keras in c:\\users\\win10\\desktop\\langchianproject\\langchainproject\\.venv\\lib\\site-packages (from -r ../requirements.txt (line 2)) (3.7.0)\n",
      "Requirement already satisfied: tensorflow in c:\\users\\win10\\desktop\\langchianproject\\langchainproject\\.venv\\lib\\site-packages (from -r ../requirements.txt (line 3)) (2.18.0)\n",
      "Requirement already satisfied: langchain in c:\\users\\win10\\desktop\\langchianproject\\langchainproject\\.venv\\lib\\site-packages (from -r ../requirements.txt (line 4)) (0.3.13)\n",
      "Requirement already satisfied: langchain_community in c:\\users\\win10\\desktop\\langchianproject\\langchainproject\\.venv\\lib\\site-packages (from -r ../requirements.txt (line 5)) (0.3.13)\n",
      "Requirement already satisfied: langchain_huggingface in c:\\users\\win10\\desktop\\langchianproject\\langchainproject\\.venv\\lib\\site-packages (from -r ../requirements.txt (line 6)) (0.1.2)\n",
      "Requirement already satisfied: huggingface_hub in c:\\users\\win10\\desktop\\langchianproject\\langchainproject\\.venv\\lib\\site-packages (from -r ../requirements.txt (line 7)) (0.27.0)\n",
      "Requirement already satisfied: onnxruntime==1.17.1 in c:\\users\\win10\\desktop\\langchianproject\\langchainproject\\.venv\\lib\\site-packages (from -r ../requirements.txt (line 8)) (1.17.1)\n",
      "Requirement already satisfied: chromadb==0.5.0 in c:\\users\\win10\\desktop\\langchianproject\\langchainproject\\.venv\\lib\\site-packages (from -r ../requirements.txt (line 10)) (0.5.0)\n",
      "Requirement already satisfied: tiktoken==0.7.0 in c:\\users\\win10\\desktop\\langchianproject\\langchainproject\\.venv\\lib\\site-packages (from -r ../requirements.txt (line 11)) (0.7.0)\n",
      "Requirement already satisfied: tqdm in c:\\users\\win10\\desktop\\langchianproject\\langchainproject\\.venv\\lib\\site-packages (from -r ../requirements.txt (line 12)) (4.67.1)\n",
      "Requirement already satisfied: torch in c:\\users\\win10\\desktop\\langchianproject\\langchainproject\\.venv\\lib\\site-packages (from -r ../requirements.txt (line 13)) (2.5.1)\n",
      "Requirement already satisfied: transformers<4.45.0 in c:\\users\\win10\\desktop\\langchianproject\\langchainproject\\.venv\\lib\\site-packages (from -r ../requirements.txt (line 14)) (4.44.2)\n",
      "Requirement already satisfied: unstructured[pdf] in c:\\users\\win10\\desktop\\langchianproject\\langchainproject\\.venv\\lib\\site-packages (from -r ../requirements.txt (line 9)) (0.16.11)\n",
      "Requirement already satisfied: coloredlogs in c:\\users\\win10\\desktop\\langchianproject\\langchainproject\\.venv\\lib\\site-packages (from onnxruntime==1.17.1->-r ../requirements.txt (line 8)) (15.0.1)\n",
      "Requirement already satisfied: flatbuffers in c:\\users\\win10\\desktop\\langchianproject\\langchainproject\\.venv\\lib\\site-packages (from onnxruntime==1.17.1->-r ../requirements.txt (line 8)) (24.12.23)\n",
      "Requirement already satisfied: numpy>=1.26.4 in c:\\users\\win10\\desktop\\langchianproject\\langchainproject\\.venv\\lib\\site-packages (from onnxruntime==1.17.1->-r ../requirements.txt (line 8)) (1.26.4)\n",
      "Requirement already satisfied: packaging in c:\\users\\win10\\desktop\\langchianproject\\langchainproject\\.venv\\lib\\site-packages (from onnxruntime==1.17.1->-r ../requirements.txt (line 8)) (24.2)\n",
      "Requirement already satisfied: protobuf in c:\\users\\win10\\desktop\\langchianproject\\langchainproject\\.venv\\lib\\site-packages (from onnxruntime==1.17.1->-r ../requirements.txt (line 8)) (5.29.2)\n",
      "Requirement already satisfied: sympy in c:\\users\\win10\\desktop\\langchianproject\\langchainproject\\.venv\\lib\\site-packages (from onnxruntime==1.17.1->-r ../requirements.txt (line 8)) (1.13.1)\n",
      "Requirement already satisfied: build>=1.0.3 in c:\\users\\win10\\desktop\\langchianproject\\langchainproject\\.venv\\lib\\site-packages (from chromadb==0.5.0->-r ../requirements.txt (line 10)) (1.2.2.post1)\n",
      "Requirement already satisfied: requests>=2.28 in c:\\users\\win10\\desktop\\langchianproject\\langchainproject\\.venv\\lib\\site-packages (from chromadb==0.5.0->-r ../requirements.txt (line 10)) (2.32.3)\n",
      "Requirement already satisfied: pydantic>=1.9 in c:\\users\\win10\\desktop\\langchianproject\\langchainproject\\.venv\\lib\\site-packages (from chromadb==0.5.0->-r ../requirements.txt (line 10)) (2.9.2)\n",
      "Requirement already satisfied: chroma-hnswlib==0.7.3 in c:\\users\\win10\\desktop\\langchianproject\\langchainproject\\.venv\\lib\\site-packages (from chromadb==0.5.0->-r ../requirements.txt (line 10)) (0.7.3)\n",
      "Requirement already satisfied: fastapi>=0.95.2 in c:\\users\\win10\\desktop\\langchianproject\\langchainproject\\.venv\\lib\\site-packages (from chromadb==0.5.0->-r ../requirements.txt (line 10)) (0.115.6)\n",
      "Requirement already satisfied: uvicorn>=0.18.3 in c:\\users\\win10\\desktop\\langchianproject\\langchainproject\\.venv\\lib\\site-packages (from uvicorn[standard]>=0.18.3->chromadb==0.5.0->-r ../requirements.txt (line 10)) (0.34.0)\n",
      "Requirement already satisfied: posthog>=2.4.0 in c:\\users\\win10\\desktop\\langchianproject\\langchainproject\\.venv\\lib\\site-packages (from chromadb==0.5.0->-r ../requirements.txt (line 10)) (3.7.4)\n",
      "Requirement already satisfied: typing-extensions>=4.5.0 in c:\\users\\win10\\desktop\\langchianproject\\langchainproject\\.venv\\lib\\site-packages (from chromadb==0.5.0->-r ../requirements.txt (line 10)) (4.12.2)\n",
      "Requirement already satisfied: opentelemetry-api>=1.2.0 in c:\\users\\win10\\desktop\\langchianproject\\langchainproject\\.venv\\lib\\site-packages (from chromadb==0.5.0->-r ../requirements.txt (line 10)) (1.29.0)\n",
      "Requirement already satisfied: opentelemetry-exporter-otlp-proto-grpc>=1.2.0 in c:\\users\\win10\\desktop\\langchianproject\\langchainproject\\.venv\\lib\\site-packages (from chromadb==0.5.0->-r ../requirements.txt (line 10)) (1.29.0)\n",
      "Requirement already satisfied: opentelemetry-instrumentation-fastapi>=0.41b0 in c:\\users\\win10\\desktop\\langchianproject\\langchainproject\\.venv\\lib\\site-packages (from chromadb==0.5.0->-r ../requirements.txt (line 10)) (0.50b0)\n",
      "Requirement already satisfied: opentelemetry-sdk>=1.2.0 in c:\\users\\win10\\desktop\\langchianproject\\langchainproject\\.venv\\lib\\site-packages (from chromadb==0.5.0->-r ../requirements.txt (line 10)) (1.29.0)\n",
      "Requirement already satisfied: tokenizers>=0.13.2 in c:\\users\\win10\\desktop\\langchianproject\\langchainproject\\.venv\\lib\\site-packages (from chromadb==0.5.0->-r ../requirements.txt (line 10)) (0.19.1)\n",
      "Requirement already satisfied: pypika>=0.48.9 in c:\\users\\win10\\desktop\\langchianproject\\langchainproject\\.venv\\lib\\site-packages (from chromadb==0.5.0->-r ../requirements.txt (line 10)) (0.48.9)\n",
      "Requirement already satisfied: overrides>=7.3.1 in c:\\users\\win10\\desktop\\langchianproject\\langchainproject\\.venv\\lib\\site-packages (from chromadb==0.5.0->-r ../requirements.txt (line 10)) (7.7.0)\n",
      "Requirement already satisfied: importlib-resources in c:\\users\\win10\\desktop\\langchianproject\\langchainproject\\.venv\\lib\\site-packages (from chromadb==0.5.0->-r ../requirements.txt (line 10)) (6.4.5)\n",
      "Requirement already satisfied: grpcio>=1.58.0 in c:\\users\\win10\\desktop\\langchianproject\\langchainproject\\.venv\\lib\\site-packages (from chromadb==0.5.0->-r ../requirements.txt (line 10)) (1.68.1)\n",
      "Requirement already satisfied: bcrypt>=4.0.1 in c:\\users\\win10\\desktop\\langchianproject\\langchainproject\\.venv\\lib\\site-packages (from chromadb==0.5.0->-r ../requirements.txt (line 10)) (4.2.1)\n",
      "Requirement already satisfied: typer>=0.9.0 in c:\\users\\win10\\desktop\\langchianproject\\langchainproject\\.venv\\lib\\site-packages (from chromadb==0.5.0->-r ../requirements.txt (line 10)) (0.15.1)\n",
      "Requirement already satisfied: kubernetes>=28.1.0 in c:\\users\\win10\\desktop\\langchianproject\\langchainproject\\.venv\\lib\\site-packages (from chromadb==0.5.0->-r ../requirements.txt (line 10)) (31.0.0)\n",
      "Requirement already satisfied: tenacity>=8.2.3 in c:\\users\\win10\\desktop\\langchianproject\\langchainproject\\.venv\\lib\\site-packages (from chromadb==0.5.0->-r ../requirements.txt (line 10)) (9.0.0)\n",
      "Requirement already satisfied: PyYAML>=6.0.0 in c:\\users\\win10\\desktop\\langchianproject\\langchainproject\\.venv\\lib\\site-packages (from chromadb==0.5.0->-r ../requirements.txt (line 10)) (6.0.2)\n",
      "Requirement already satisfied: mmh3>=4.0.1 in c:\\users\\win10\\desktop\\langchianproject\\langchainproject\\.venv\\lib\\site-packages (from chromadb==0.5.0->-r ../requirements.txt (line 10)) (5.0.1)\n",
      "Requirement already satisfied: orjson>=3.9.12 in c:\\users\\win10\\desktop\\langchianproject\\langchainproject\\.venv\\lib\\site-packages (from chromadb==0.5.0->-r ../requirements.txt (line 10)) (3.10.12)\n",
      "Requirement already satisfied: regex>=2022.1.18 in c:\\users\\win10\\desktop\\langchianproject\\langchainproject\\.venv\\lib\\site-packages (from tiktoken==0.7.0->-r ../requirements.txt (line 11)) (2024.11.6)\n",
      "Requirement already satisfied: altair<6,>=4.0 in c:\\users\\win10\\desktop\\langchianproject\\langchainproject\\.venv\\lib\\site-packages (from streamlit->-r ../requirements.txt (line 1)) (5.5.0)\n",
      "Requirement already satisfied: blinker<2,>=1.0.0 in c:\\users\\win10\\desktop\\langchianproject\\langchainproject\\.venv\\lib\\site-packages (from streamlit->-r ../requirements.txt (line 1)) (1.9.0)\n",
      "Requirement already satisfied: cachetools<6,>=4.0 in c:\\users\\win10\\desktop\\langchianproject\\langchainproject\\.venv\\lib\\site-packages (from streamlit->-r ../requirements.txt (line 1)) (5.5.0)\n",
      "Requirement already satisfied: click<9,>=7.0 in c:\\users\\win10\\desktop\\langchianproject\\langchainproject\\.venv\\lib\\site-packages (from streamlit->-r ../requirements.txt (line 1)) (8.1.8)\n",
      "Requirement already satisfied: pandas<3,>=1.4.0 in c:\\users\\win10\\desktop\\langchianproject\\langchainproject\\.venv\\lib\\site-packages (from streamlit->-r ../requirements.txt (line 1)) (2.2.3)\n",
      "Requirement already satisfied: pillow<12,>=7.1.0 in c:\\users\\win10\\desktop\\langchianproject\\langchainproject\\.venv\\lib\\site-packages (from streamlit->-r ../requirements.txt (line 1)) (11.0.0)\n",
      "Requirement already satisfied: pyarrow>=7.0 in c:\\users\\win10\\desktop\\langchianproject\\langchainproject\\.venv\\lib\\site-packages (from streamlit->-r ../requirements.txt (line 1)) (18.1.0)\n",
      "Requirement already satisfied: rich<14,>=10.14.0 in c:\\users\\win10\\desktop\\langchianproject\\langchainproject\\.venv\\lib\\site-packages (from streamlit->-r ../requirements.txt (line 1)) (13.9.4)\n",
      "Requirement already satisfied: toml<2,>=0.10.1 in c:\\users\\win10\\desktop\\langchianproject\\langchainproject\\.venv\\lib\\site-packages (from streamlit->-r ../requirements.txt (line 1)) (0.10.2)\n",
      "Requirement already satisfied: watchdog<7,>=2.1.5 in c:\\users\\win10\\desktop\\langchianproject\\langchainproject\\.venv\\lib\\site-packages (from streamlit->-r ../requirements.txt (line 1)) (6.0.0)\n",
      "Requirement already satisfied: gitpython!=3.1.19,<4,>=3.0.7 in c:\\users\\win10\\desktop\\langchianproject\\langchainproject\\.venv\\lib\\site-packages (from streamlit->-r ../requirements.txt (line 1)) (3.1.43)\n",
      "Requirement already satisfied: pydeck<1,>=0.8.0b4 in c:\\users\\win10\\desktop\\langchianproject\\langchainproject\\.venv\\lib\\site-packages (from streamlit->-r ../requirements.txt (line 1)) (0.9.1)\n",
      "Requirement already satisfied: tornado<7,>=6.0.3 in c:\\users\\win10\\desktop\\langchianproject\\langchainproject\\.venv\\lib\\site-packages (from streamlit->-r ../requirements.txt (line 1)) (6.4.2)\n",
      "Requirement already satisfied: absl-py in c:\\users\\win10\\desktop\\langchianproject\\langchainproject\\.venv\\lib\\site-packages (from keras->-r ../requirements.txt (line 2)) (2.1.0)\n",
      "Requirement already satisfied: namex in c:\\users\\win10\\desktop\\langchianproject\\langchainproject\\.venv\\lib\\site-packages (from keras->-r ../requirements.txt (line 2)) (0.0.8)\n",
      "Requirement already satisfied: h5py in c:\\users\\win10\\desktop\\langchianproject\\langchainproject\\.venv\\lib\\site-packages (from keras->-r ../requirements.txt (line 2)) (3.12.1)\n",
      "Requirement already satisfied: optree in c:\\users\\win10\\desktop\\langchianproject\\langchainproject\\.venv\\lib\\site-packages (from keras->-r ../requirements.txt (line 2)) (0.13.1)\n",
      "Requirement already satisfied: ml-dtypes in c:\\users\\win10\\desktop\\langchianproject\\langchainproject\\.venv\\lib\\site-packages (from keras->-r ../requirements.txt (line 2)) (0.4.1)\n",
      "Requirement already satisfied: tensorflow-intel==2.18.0 in c:\\users\\win10\\desktop\\langchianproject\\langchainproject\\.venv\\lib\\site-packages (from tensorflow->-r ../requirements.txt (line 3)) (2.18.0)\n",
      "Requirement already satisfied: astunparse>=1.6.0 in c:\\users\\win10\\desktop\\langchianproject\\langchainproject\\.venv\\lib\\site-packages (from tensorflow-intel==2.18.0->tensorflow->-r ../requirements.txt (line 3)) (1.6.3)\n",
      "Requirement already satisfied: gast!=0.5.0,!=0.5.1,!=0.5.2,>=0.2.1 in c:\\users\\win10\\desktop\\langchianproject\\langchainproject\\.venv\\lib\\site-packages (from tensorflow-intel==2.18.0->tensorflow->-r ../requirements.txt (line 3)) (0.6.0)\n",
      "Requirement already satisfied: google-pasta>=0.1.1 in c:\\users\\win10\\desktop\\langchianproject\\langchainproject\\.venv\\lib\\site-packages (from tensorflow-intel==2.18.0->tensorflow->-r ../requirements.txt (line 3)) (0.2.0)\n",
      "Requirement already satisfied: libclang>=13.0.0 in c:\\users\\win10\\desktop\\langchianproject\\langchainproject\\.venv\\lib\\site-packages (from tensorflow-intel==2.18.0->tensorflow->-r ../requirements.txt (line 3)) (18.1.1)\n",
      "Requirement already satisfied: opt-einsum>=2.3.2 in c:\\users\\win10\\desktop\\langchianproject\\langchainproject\\.venv\\lib\\site-packages (from tensorflow-intel==2.18.0->tensorflow->-r ../requirements.txt (line 3)) (3.4.0)\n",
      "Requirement already satisfied: setuptools in c:\\users\\win10\\desktop\\langchianproject\\langchainproject\\.venv\\lib\\site-packages (from tensorflow-intel==2.18.0->tensorflow->-r ../requirements.txt (line 3)) (75.6.0)\n",
      "Requirement already satisfied: six>=1.12.0 in c:\\users\\win10\\desktop\\langchianproject\\langchainproject\\.venv\\lib\\site-packages (from tensorflow-intel==2.18.0->tensorflow->-r ../requirements.txt (line 3)) (1.17.0)\n",
      "Requirement already satisfied: termcolor>=1.1.0 in c:\\users\\win10\\desktop\\langchianproject\\langchainproject\\.venv\\lib\\site-packages (from tensorflow-intel==2.18.0->tensorflow->-r ../requirements.txt (line 3)) (2.5.0)\n",
      "Requirement already satisfied: wrapt>=1.11.0 in c:\\users\\win10\\desktop\\langchianproject\\langchainproject\\.venv\\lib\\site-packages (from tensorflow-intel==2.18.0->tensorflow->-r ../requirements.txt (line 3)) (1.17.0)\n",
      "Requirement already satisfied: tensorboard<2.19,>=2.18 in c:\\users\\win10\\desktop\\langchianproject\\langchainproject\\.venv\\lib\\site-packages (from tensorflow-intel==2.18.0->tensorflow->-r ../requirements.txt (line 3)) (2.18.0)\n",
      "Requirement already satisfied: SQLAlchemy<3,>=1.4 in c:\\users\\win10\\desktop\\langchianproject\\langchainproject\\.venv\\lib\\site-packages (from langchain->-r ../requirements.txt (line 4)) (2.0.36)\n",
      "Requirement already satisfied: aiohttp<4.0.0,>=3.8.3 in c:\\users\\win10\\desktop\\langchianproject\\langchainproject\\.venv\\lib\\site-packages (from langchain->-r ../requirements.txt (line 4)) (3.11.11)\n",
      "Requirement already satisfied: langchain-core<0.4.0,>=0.3.26 in c:\\users\\win10\\desktop\\langchianproject\\langchainproject\\.venv\\lib\\site-packages (from langchain->-r ../requirements.txt (line 4)) (0.3.28)\n",
      "Requirement already satisfied: langchain-text-splitters<0.4.0,>=0.3.3 in c:\\users\\win10\\desktop\\langchianproject\\langchainproject\\.venv\\lib\\site-packages (from langchain->-r ../requirements.txt (line 4)) (0.3.4)\n",
      "Requirement already satisfied: langsmith<0.3,>=0.1.17 in c:\\users\\win10\\desktop\\langchianproject\\langchainproject\\.venv\\lib\\site-packages (from langchain->-r ../requirements.txt (line 4)) (0.2.6)\n",
      "Requirement already satisfied: dataclasses-json<0.7,>=0.5.7 in c:\\users\\win10\\desktop\\langchianproject\\langchainproject\\.venv\\lib\\site-packages (from langchain_community->-r ../requirements.txt (line 5)) (0.6.7)\n",
      "Requirement already satisfied: httpx-sse<0.5.0,>=0.4.0 in c:\\users\\win10\\desktop\\langchianproject\\langchainproject\\.venv\\lib\\site-packages (from langchain_community->-r ../requirements.txt (line 5)) (0.4.0)\n",
      "Requirement already satisfied: pydantic-settings<3.0.0,>=2.4.0 in c:\\users\\win10\\desktop\\langchianproject\\langchainproject\\.venv\\lib\\site-packages (from langchain_community->-r ../requirements.txt (line 5)) (2.7.0)\n",
      "Requirement already satisfied: sentence-transformers>=2.6.0 in c:\\users\\win10\\desktop\\langchianproject\\langchainproject\\.venv\\lib\\site-packages (from langchain_huggingface->-r ../requirements.txt (line 6)) (3.3.1)\n",
      "Requirement already satisfied: filelock in c:\\users\\win10\\desktop\\langchianproject\\langchainproject\\.venv\\lib\\site-packages (from huggingface_hub->-r ../requirements.txt (line 7)) (3.16.1)\n",
      "Requirement already satisfied: fsspec>=2023.5.0 in c:\\users\\win10\\desktop\\langchianproject\\langchainproject\\.venv\\lib\\site-packages (from huggingface_hub->-r ../requirements.txt (line 7)) (2024.12.0)\n",
      "Requirement already satisfied: chardet in c:\\users\\win10\\desktop\\langchianproject\\langchainproject\\.venv\\lib\\site-packages (from unstructured[pdf]->-r ../requirements.txt (line 9)) (5.2.0)\n",
      "Requirement already satisfied: filetype in c:\\users\\win10\\desktop\\langchianproject\\langchainproject\\.venv\\lib\\site-packages (from unstructured[pdf]->-r ../requirements.txt (line 9)) (1.2.0)\n",
      "Requirement already satisfied: python-magic in c:\\users\\win10\\desktop\\langchianproject\\langchainproject\\.venv\\lib\\site-packages (from unstructured[pdf]->-r ../requirements.txt (line 9)) (0.4.27)\n",
      "Requirement already satisfied: lxml in c:\\users\\win10\\desktop\\langchianproject\\langchainproject\\.venv\\lib\\site-packages (from unstructured[pdf]->-r ../requirements.txt (line 9)) (5.3.0)\n",
      "Requirement already satisfied: nltk in c:\\users\\win10\\desktop\\langchianproject\\langchainproject\\.venv\\lib\\site-packages (from unstructured[pdf]->-r ../requirements.txt (line 9)) (3.9.1)\n",
      "Requirement already satisfied: beautifulsoup4 in c:\\users\\win10\\desktop\\langchianproject\\langchainproject\\.venv\\lib\\site-packages (from unstructured[pdf]->-r ../requirements.txt (line 9)) (4.12.3)\n",
      "Requirement already satisfied: emoji in c:\\users\\win10\\desktop\\langchianproject\\langchainproject\\.venv\\lib\\site-packages (from unstructured[pdf]->-r ../requirements.txt (line 9)) (2.14.0)\n",
      "Requirement already satisfied: python-iso639 in c:\\users\\win10\\desktop\\langchianproject\\langchainproject\\.venv\\lib\\site-packages (from unstructured[pdf]->-r ../requirements.txt (line 9)) (2024.10.22)\n",
      "Requirement already satisfied: langdetect in c:\\users\\win10\\desktop\\langchianproject\\langchainproject\\.venv\\lib\\site-packages (from unstructured[pdf]->-r ../requirements.txt (line 9)) (1.0.9)\n",
      "Requirement already satisfied: rapidfuzz in c:\\users\\win10\\desktop\\langchianproject\\langchainproject\\.venv\\lib\\site-packages (from unstructured[pdf]->-r ../requirements.txt (line 9)) (3.11.0)\n",
      "Requirement already satisfied: backoff in c:\\users\\win10\\desktop\\langchianproject\\langchainproject\\.venv\\lib\\site-packages (from unstructured[pdf]->-r ../requirements.txt (line 9)) (2.2.1)\n",
      "Requirement already satisfied: unstructured-client in c:\\users\\win10\\desktop\\langchianproject\\langchainproject\\.venv\\lib\\site-packages (from unstructured[pdf]->-r ../requirements.txt (line 9)) (0.28.1)\n",
      "Requirement already satisfied: psutil in c:\\users\\win10\\desktop\\langchianproject\\langchainproject\\.venv\\lib\\site-packages (from unstructured[pdf]->-r ../requirements.txt (line 9)) (6.1.1)\n",
      "Requirement already satisfied: python-oxmsg in c:\\users\\win10\\desktop\\langchianproject\\langchainproject\\.venv\\lib\\site-packages (from unstructured[pdf]->-r ../requirements.txt (line 9)) (0.0.1)\n",
      "Requirement already satisfied: html5lib in c:\\users\\win10\\desktop\\langchianproject\\langchainproject\\.venv\\lib\\site-packages (from unstructured[pdf]->-r ../requirements.txt (line 9)) (1.1)\n",
      "Requirement already satisfied: onnx in c:\\users\\win10\\desktop\\langchianproject\\langchainproject\\.venv\\lib\\site-packages (from unstructured[pdf]->-r ../requirements.txt (line 9)) (1.17.0)\n",
      "Requirement already satisfied: pdf2image in c:\\users\\win10\\desktop\\langchianproject\\langchainproject\\.venv\\lib\\site-packages (from unstructured[pdf]->-r ../requirements.txt (line 9)) (1.17.0)\n",
      "Requirement already satisfied: pdfminer.six in c:\\users\\win10\\desktop\\langchianproject\\langchainproject\\.venv\\lib\\site-packages (from unstructured[pdf]->-r ../requirements.txt (line 9)) (20231228)\n",
      "Requirement already satisfied: pikepdf in c:\\users\\win10\\desktop\\langchianproject\\langchainproject\\.venv\\lib\\site-packages (from unstructured[pdf]->-r ../requirements.txt (line 9)) (9.4.2)\n",
      "Requirement already satisfied: pi-heif in c:\\users\\win10\\desktop\\langchianproject\\langchainproject\\.venv\\lib\\site-packages (from unstructured[pdf]->-r ../requirements.txt (line 9)) (0.21.0)\n",
      "Requirement already satisfied: pypdf in c:\\users\\win10\\desktop\\langchianproject\\langchainproject\\.venv\\lib\\site-packages (from unstructured[pdf]->-r ../requirements.txt (line 9)) (5.1.0)\n",
      "Requirement already satisfied: google-cloud-vision in c:\\users\\win10\\desktop\\langchianproject\\langchainproject\\.venv\\lib\\site-packages (from unstructured[pdf]->-r ../requirements.txt (line 9)) (3.9.0)\n",
      "Requirement already satisfied: effdet in c:\\users\\win10\\desktop\\langchianproject\\langchainproject\\.venv\\lib\\site-packages (from unstructured[pdf]->-r ../requirements.txt (line 9)) (0.4.1)\n",
      "Requirement already satisfied: unstructured-inference==0.8.1 in c:\\users\\win10\\desktop\\langchianproject\\langchainproject\\.venv\\lib\\site-packages (from unstructured[pdf]->-r ../requirements.txt (line 9)) (0.8.1)\n",
      "Requirement already satisfied: unstructured.pytesseract>=0.3.12 in c:\\users\\win10\\desktop\\langchianproject\\langchainproject\\.venv\\lib\\site-packages (from unstructured[pdf]->-r ../requirements.txt (line 9)) (0.3.13)\n",
      "Requirement already satisfied: layoutparser in c:\\users\\win10\\desktop\\langchianproject\\langchainproject\\.venv\\lib\\site-packages (from unstructured-inference==0.8.1->unstructured[pdf]->-r ../requirements.txt (line 9)) (0.3.4)\n",
      "Requirement already satisfied: python-multipart in c:\\users\\win10\\desktop\\langchianproject\\langchainproject\\.venv\\lib\\site-packages (from unstructured-inference==0.8.1->unstructured[pdf]->-r ../requirements.txt (line 9)) (0.0.20)\n",
      "Requirement already satisfied: opencv-python!=4.7.0.68 in c:\\users\\win10\\desktop\\langchianproject\\langchainproject\\.venv\\lib\\site-packages (from unstructured-inference==0.8.1->unstructured[pdf]->-r ../requirements.txt (line 9)) (4.10.0.84)\n",
      "Requirement already satisfied: matplotlib in c:\\users\\win10\\desktop\\langchianproject\\langchainproject\\.venv\\lib\\site-packages (from unstructured-inference==0.8.1->unstructured[pdf]->-r ../requirements.txt (line 9)) (3.10.0)\n",
      "Requirement already satisfied: timm in c:\\users\\win10\\desktop\\langchianproject\\langchainproject\\.venv\\lib\\site-packages (from unstructured-inference==0.8.1->unstructured[pdf]->-r ../requirements.txt (line 9)) (1.0.12)\n",
      "Requirement already satisfied: colorama in c:\\users\\win10\\desktop\\langchianproject\\langchainproject\\.venv\\lib\\site-packages (from tqdm->-r ../requirements.txt (line 12)) (0.4.6)\n",
      "Requirement already satisfied: networkx in c:\\users\\win10\\desktop\\langchianproject\\langchainproject\\.venv\\lib\\site-packages (from torch->-r ../requirements.txt (line 13)) (3.4.2)\n",
      "Requirement already satisfied: jinja2 in c:\\users\\win10\\desktop\\langchianproject\\langchainproject\\.venv\\lib\\site-packages (from torch->-r ../requirements.txt (line 13)) (3.1.5)\n",
      "Requirement already satisfied: mpmath<1.4,>=1.1.0 in c:\\users\\win10\\desktop\\langchianproject\\langchainproject\\.venv\\lib\\site-packages (from sympy->onnxruntime==1.17.1->-r ../requirements.txt (line 8)) (1.3.0)\n",
      "Requirement already satisfied: safetensors>=0.4.1 in c:\\users\\win10\\desktop\\langchianproject\\langchainproject\\.venv\\lib\\site-packages (from transformers<4.45.0->-r ../requirements.txt (line 14)) (0.4.5)\n",
      "Requirement already satisfied: aiohappyeyeballs>=2.3.0 in c:\\users\\win10\\desktop\\langchianproject\\langchainproject\\.venv\\lib\\site-packages (from aiohttp<4.0.0,>=3.8.3->langchain->-r ../requirements.txt (line 4)) (2.4.4)\n",
      "Requirement already satisfied: aiosignal>=1.1.2 in c:\\users\\win10\\desktop\\langchianproject\\langchainproject\\.venv\\lib\\site-packages (from aiohttp<4.0.0,>=3.8.3->langchain->-r ../requirements.txt (line 4)) (1.3.2)\n",
      "Requirement already satisfied: attrs>=17.3.0 in c:\\users\\win10\\desktop\\langchianproject\\langchainproject\\.venv\\lib\\site-packages (from aiohttp<4.0.0,>=3.8.3->langchain->-r ../requirements.txt (line 4)) (24.3.0)\n",
      "Requirement already satisfied: frozenlist>=1.1.1 in c:\\users\\win10\\desktop\\langchianproject\\langchainproject\\.venv\\lib\\site-packages (from aiohttp<4.0.0,>=3.8.3->langchain->-r ../requirements.txt (line 4)) (1.5.0)\n",
      "Requirement already satisfied: multidict<7.0,>=4.5 in c:\\users\\win10\\desktop\\langchianproject\\langchainproject\\.venv\\lib\\site-packages (from aiohttp<4.0.0,>=3.8.3->langchain->-r ../requirements.txt (line 4)) (6.1.0)\n",
      "Requirement already satisfied: propcache>=0.2.0 in c:\\users\\win10\\desktop\\langchianproject\\langchainproject\\.venv\\lib\\site-packages (from aiohttp<4.0.0,>=3.8.3->langchain->-r ../requirements.txt (line 4)) (0.2.1)\n",
      "Requirement already satisfied: yarl<2.0,>=1.17.0 in c:\\users\\win10\\desktop\\langchianproject\\langchainproject\\.venv\\lib\\site-packages (from aiohttp<4.0.0,>=3.8.3->langchain->-r ../requirements.txt (line 4)) (1.18.3)\n",
      "Requirement already satisfied: jsonschema>=3.0 in c:\\users\\win10\\desktop\\langchianproject\\langchainproject\\.venv\\lib\\site-packages (from altair<6,>=4.0->streamlit->-r ../requirements.txt (line 1)) (4.23.0)\n",
      "Requirement already satisfied: narwhals>=1.14.2 in c:\\users\\win10\\desktop\\langchianproject\\langchainproject\\.venv\\lib\\site-packages (from altair<6,>=4.0->streamlit->-r ../requirements.txt (line 1)) (1.19.1)\n",
      "Requirement already satisfied: pyproject_hooks in c:\\users\\win10\\desktop\\langchianproject\\langchainproject\\.venv\\lib\\site-packages (from build>=1.0.3->chromadb==0.5.0->-r ../requirements.txt (line 10)) (1.2.0)\n",
      "Requirement already satisfied: marshmallow<4.0.0,>=3.18.0 in c:\\users\\win10\\desktop\\langchianproject\\langchainproject\\.venv\\lib\\site-packages (from dataclasses-json<0.7,>=0.5.7->langchain_community->-r ../requirements.txt (line 5)) (3.23.2)\n",
      "Requirement already satisfied: typing-inspect<1,>=0.4.0 in c:\\users\\win10\\desktop\\langchianproject\\langchainproject\\.venv\\lib\\site-packages (from dataclasses-json<0.7,>=0.5.7->langchain_community->-r ../requirements.txt (line 5)) (0.9.0)\n",
      "Requirement already satisfied: starlette<0.42.0,>=0.40.0 in c:\\users\\win10\\desktop\\langchianproject\\langchainproject\\.venv\\lib\\site-packages (from fastapi>=0.95.2->chromadb==0.5.0->-r ../requirements.txt (line 10)) (0.41.3)\n",
      "Requirement already satisfied: gitdb<5,>=4.0.1 in c:\\users\\win10\\desktop\\langchianproject\\langchainproject\\.venv\\lib\\site-packages (from gitpython!=3.1.19,<4,>=3.0.7->streamlit->-r ../requirements.txt (line 1)) (4.0.11)\n",
      "Requirement already satisfied: certifi>=14.05.14 in c:\\users\\win10\\desktop\\langchianproject\\langchainproject\\.venv\\lib\\site-packages (from kubernetes>=28.1.0->chromadb==0.5.0->-r ../requirements.txt (line 10)) (2024.12.14)\n",
      "Requirement already satisfied: python-dateutil>=2.5.3 in c:\\users\\win10\\desktop\\langchianproject\\langchainproject\\.venv\\lib\\site-packages (from kubernetes>=28.1.0->chromadb==0.5.0->-r ../requirements.txt (line 10)) (2.9.0.post0)\n",
      "Requirement already satisfied: google-auth>=1.0.1 in c:\\users\\win10\\desktop\\langchianproject\\langchainproject\\.venv\\lib\\site-packages (from kubernetes>=28.1.0->chromadb==0.5.0->-r ../requirements.txt (line 10)) (2.37.0)\n",
      "Requirement already satisfied: websocket-client!=0.40.0,!=0.41.*,!=0.42.*,>=0.32.0 in c:\\users\\win10\\desktop\\langchianproject\\langchainproject\\.venv\\lib\\site-packages (from kubernetes>=28.1.0->chromadb==0.5.0->-r ../requirements.txt (line 10)) (1.8.0)\n",
      "Requirement already satisfied: requests-oauthlib in c:\\users\\win10\\desktop\\langchianproject\\langchainproject\\.venv\\lib\\site-packages (from kubernetes>=28.1.0->chromadb==0.5.0->-r ../requirements.txt (line 10)) (2.0.0)\n",
      "Requirement already satisfied: oauthlib>=3.2.2 in c:\\users\\win10\\desktop\\langchianproject\\langchainproject\\.venv\\lib\\site-packages (from kubernetes>=28.1.0->chromadb==0.5.0->-r ../requirements.txt (line 10)) (3.2.2)\n",
      "Requirement already satisfied: urllib3>=1.24.2 in c:\\users\\win10\\desktop\\langchianproject\\langchainproject\\.venv\\lib\\site-packages (from kubernetes>=28.1.0->chromadb==0.5.0->-r ../requirements.txt (line 10)) (1.26.20)\n",
      "Requirement already satisfied: durationpy>=0.7 in c:\\users\\win10\\desktop\\langchianproject\\langchainproject\\.venv\\lib\\site-packages (from kubernetes>=28.1.0->chromadb==0.5.0->-r ../requirements.txt (line 10)) (0.9)\n",
      "Requirement already satisfied: jsonpatch<2.0,>=1.33 in c:\\users\\win10\\desktop\\langchianproject\\langchainproject\\.venv\\lib\\site-packages (from langchain-core<0.4.0,>=0.3.26->langchain->-r ../requirements.txt (line 4)) (1.33)\n",
      "Requirement already satisfied: httpx<1,>=0.23.0 in c:\\users\\win10\\desktop\\langchianproject\\langchainproject\\.venv\\lib\\site-packages (from langsmith<0.3,>=0.1.17->langchain->-r ../requirements.txt (line 4)) (0.28.1)\n",
      "Requirement already satisfied: requests-toolbelt<2.0.0,>=1.0.0 in c:\\users\\win10\\desktop\\langchianproject\\langchainproject\\.venv\\lib\\site-packages (from langsmith<0.3,>=0.1.17->langchain->-r ../requirements.txt (line 4)) (1.0.0)\n",
      "Requirement already satisfied: deprecated>=1.2.6 in c:\\users\\win10\\desktop\\langchianproject\\langchainproject\\.venv\\lib\\site-packages (from opentelemetry-api>=1.2.0->chromadb==0.5.0->-r ../requirements.txt (line 10)) (1.2.15)\n",
      "Requirement already satisfied: importlib-metadata<=8.5.0,>=6.0 in c:\\users\\win10\\desktop\\langchianproject\\langchainproject\\.venv\\lib\\site-packages (from opentelemetry-api>=1.2.0->chromadb==0.5.0->-r ../requirements.txt (line 10)) (8.5.0)\n",
      "Requirement already satisfied: googleapis-common-protos~=1.52 in c:\\users\\win10\\desktop\\langchianproject\\langchainproject\\.venv\\lib\\site-packages (from opentelemetry-exporter-otlp-proto-grpc>=1.2.0->chromadb==0.5.0->-r ../requirements.txt (line 10)) (1.66.0)\n",
      "Requirement already satisfied: opentelemetry-exporter-otlp-proto-common==1.29.0 in c:\\users\\win10\\desktop\\langchianproject\\langchainproject\\.venv\\lib\\site-packages (from opentelemetry-exporter-otlp-proto-grpc>=1.2.0->chromadb==0.5.0->-r ../requirements.txt (line 10)) (1.29.0)\n",
      "Requirement already satisfied: opentelemetry-proto==1.29.0 in c:\\users\\win10\\desktop\\langchianproject\\langchainproject\\.venv\\lib\\site-packages (from opentelemetry-exporter-otlp-proto-grpc>=1.2.0->chromadb==0.5.0->-r ../requirements.txt (line 10)) (1.29.0)\n",
      "Requirement already satisfied: opentelemetry-instrumentation-asgi==0.50b0 in c:\\users\\win10\\desktop\\langchianproject\\langchainproject\\.venv\\lib\\site-packages (from opentelemetry-instrumentation-fastapi>=0.41b0->chromadb==0.5.0->-r ../requirements.txt (line 10)) (0.50b0)\n",
      "Requirement already satisfied: opentelemetry-instrumentation==0.50b0 in c:\\users\\win10\\desktop\\langchianproject\\langchainproject\\.venv\\lib\\site-packages (from opentelemetry-instrumentation-fastapi>=0.41b0->chromadb==0.5.0->-r ../requirements.txt (line 10)) (0.50b0)\n",
      "Requirement already satisfied: opentelemetry-semantic-conventions==0.50b0 in c:\\users\\win10\\desktop\\langchianproject\\langchainproject\\.venv\\lib\\site-packages (from opentelemetry-instrumentation-fastapi>=0.41b0->chromadb==0.5.0->-r ../requirements.txt (line 10)) (0.50b0)\n",
      "Requirement already satisfied: opentelemetry-util-http==0.50b0 in c:\\users\\win10\\desktop\\langchianproject\\langchainproject\\.venv\\lib\\site-packages (from opentelemetry-instrumentation-fastapi>=0.41b0->chromadb==0.5.0->-r ../requirements.txt (line 10)) (0.50b0)\n",
      "Requirement already satisfied: asgiref~=3.0 in c:\\users\\win10\\desktop\\langchianproject\\langchainproject\\.venv\\lib\\site-packages (from opentelemetry-instrumentation-asgi==0.50b0->opentelemetry-instrumentation-fastapi>=0.41b0->chromadb==0.5.0->-r ../requirements.txt (line 10)) (3.8.1)\n",
      "Requirement already satisfied: pytz>=2020.1 in c:\\users\\win10\\desktop\\langchianproject\\langchainproject\\.venv\\lib\\site-packages (from pandas<3,>=1.4.0->streamlit->-r ../requirements.txt (line 1)) (2024.2)\n",
      "Requirement already satisfied: tzdata>=2022.7 in c:\\users\\win10\\desktop\\langchianproject\\langchainproject\\.venv\\lib\\site-packages (from pandas<3,>=1.4.0->streamlit->-r ../requirements.txt (line 1)) (2024.2)\n",
      "Requirement already satisfied: monotonic>=1.5 in c:\\users\\win10\\desktop\\langchianproject\\langchainproject\\.venv\\lib\\site-packages (from posthog>=2.4.0->chromadb==0.5.0->-r ../requirements.txt (line 10)) (1.6)\n",
      "Requirement already satisfied: annotated-types>=0.6.0 in c:\\users\\win10\\desktop\\langchianproject\\langchainproject\\.venv\\lib\\site-packages (from pydantic>=1.9->chromadb==0.5.0->-r ../requirements.txt (line 10)) (0.7.0)\n",
      "Requirement already satisfied: pydantic-core==2.23.4 in c:\\users\\win10\\desktop\\langchianproject\\langchainproject\\.venv\\lib\\site-packages (from pydantic>=1.9->chromadb==0.5.0->-r ../requirements.txt (line 10)) (2.23.4)\n",
      "Requirement already satisfied: python-dotenv>=0.21.0 in c:\\users\\win10\\desktop\\langchianproject\\langchainproject\\.venv\\lib\\site-packages (from pydantic-settings<3.0.0,>=2.4.0->langchain_community->-r ../requirements.txt (line 5)) (1.0.1)\n",
      "Requirement already satisfied: MarkupSafe>=2.0 in c:\\users\\win10\\desktop\\langchianproject\\langchainproject\\.venv\\lib\\site-packages (from jinja2->torch->-r ../requirements.txt (line 13)) (3.0.2)\n",
      "Requirement already satisfied: charset-normalizer<4,>=2 in c:\\users\\win10\\desktop\\langchianproject\\langchainproject\\.venv\\lib\\site-packages (from requests>=2.28->chromadb==0.5.0->-r ../requirements.txt (line 10)) (3.4.1)\n",
      "Requirement already satisfied: idna<4,>=2.5 in c:\\users\\win10\\desktop\\langchianproject\\langchainproject\\.venv\\lib\\site-packages (from requests>=2.28->chromadb==0.5.0->-r ../requirements.txt (line 10)) (3.10)\n",
      "Requirement already satisfied: markdown-it-py>=2.2.0 in c:\\users\\win10\\desktop\\langchianproject\\langchainproject\\.venv\\lib\\site-packages (from rich<14,>=10.14.0->streamlit->-r ../requirements.txt (line 1)) (3.0.0)\n",
      "Requirement already satisfied: pygments<3.0.0,>=2.13.0 in c:\\users\\win10\\desktop\\langchianproject\\langchainproject\\.venv\\lib\\site-packages (from rich<14,>=10.14.0->streamlit->-r ../requirements.txt (line 1)) (2.18.0)\n",
      "Requirement already satisfied: scikit-learn in c:\\users\\win10\\desktop\\langchianproject\\langchainproject\\.venv\\lib\\site-packages (from sentence-transformers>=2.6.0->langchain_huggingface->-r ../requirements.txt (line 6)) (1.6.0)\n",
      "Requirement already satisfied: scipy in c:\\users\\win10\\desktop\\langchianproject\\langchainproject\\.venv\\lib\\site-packages (from sentence-transformers>=2.6.0->langchain_huggingface->-r ../requirements.txt (line 6)) (1.14.1)\n",
      "Requirement already satisfied: greenlet!=0.4.17 in c:\\users\\win10\\desktop\\langchianproject\\langchainproject\\.venv\\lib\\site-packages (from SQLAlchemy<3,>=1.4->langchain->-r ../requirements.txt (line 4)) (3.1.1)\n",
      "Requirement already satisfied: shellingham>=1.3.0 in c:\\users\\win10\\desktop\\langchianproject\\langchainproject\\.venv\\lib\\site-packages (from typer>=0.9.0->chromadb==0.5.0->-r ../requirements.txt (line 10)) (1.5.4)\n",
      "Requirement already satisfied: h11>=0.8 in c:\\users\\win10\\desktop\\langchianproject\\langchainproject\\.venv\\lib\\site-packages (from uvicorn>=0.18.3->uvicorn[standard]>=0.18.3->chromadb==0.5.0->-r ../requirements.txt (line 10)) (0.14.0)\n",
      "Requirement already satisfied: httptools>=0.6.3 in c:\\users\\win10\\desktop\\langchianproject\\langchainproject\\.venv\\lib\\site-packages (from uvicorn[standard]>=0.18.3->chromadb==0.5.0->-r ../requirements.txt (line 10)) (0.6.4)\n",
      "Requirement already satisfied: watchfiles>=0.13 in c:\\users\\win10\\desktop\\langchianproject\\langchainproject\\.venv\\lib\\site-packages (from uvicorn[standard]>=0.18.3->chromadb==0.5.0->-r ../requirements.txt (line 10)) (1.0.3)\n",
      "Requirement already satisfied: websockets>=10.4 in c:\\users\\win10\\desktop\\langchianproject\\langchainproject\\.venv\\lib\\site-packages (from uvicorn[standard]>=0.18.3->chromadb==0.5.0->-r ../requirements.txt (line 10)) (14.1)\n",
      "Requirement already satisfied: soupsieve>1.2 in c:\\users\\win10\\desktop\\langchianproject\\langchainproject\\.venv\\lib\\site-packages (from beautifulsoup4->unstructured[pdf]->-r ../requirements.txt (line 9)) (2.6)\n",
      "Requirement already satisfied: humanfriendly>=9.1 in c:\\users\\win10\\desktop\\langchianproject\\langchainproject\\.venv\\lib\\site-packages (from coloredlogs->onnxruntime==1.17.1->-r ../requirements.txt (line 8)) (10.0)\n",
      "Requirement already satisfied: torchvision in c:\\users\\win10\\desktop\\langchianproject\\langchainproject\\.venv\\lib\\site-packages (from effdet->unstructured[pdf]->-r ../requirements.txt (line 9)) (0.20.1)\n",
      "Requirement already satisfied: pycocotools>=2.0.2 in c:\\users\\win10\\desktop\\langchianproject\\langchainproject\\.venv\\lib\\site-packages (from effdet->unstructured[pdf]->-r ../requirements.txt (line 9)) (2.0.8)\n",
      "Requirement already satisfied: omegaconf>=2.0 in c:\\users\\win10\\desktop\\langchianproject\\langchainproject\\.venv\\lib\\site-packages (from effdet->unstructured[pdf]->-r ../requirements.txt (line 9)) (2.3.0)\n",
      "Requirement already satisfied: google-api-core!=2.0.*,!=2.1.*,!=2.10.*,!=2.2.*,!=2.3.*,!=2.4.*,!=2.5.*,!=2.6.*,!=2.7.*,!=2.8.*,!=2.9.*,<3.0.0dev,>=1.34.1 in c:\\users\\win10\\desktop\\langchianproject\\langchainproject\\.venv\\lib\\site-packages (from google-api-core[grpc]!=2.0.*,!=2.1.*,!=2.10.*,!=2.2.*,!=2.3.*,!=2.4.*,!=2.5.*,!=2.6.*,!=2.7.*,!=2.8.*,!=2.9.*,<3.0.0dev,>=1.34.1->google-cloud-vision->unstructured[pdf]->-r ../requirements.txt (line 9)) (2.24.0)\n",
      "Requirement already satisfied: proto-plus<2.0.0dev,>=1.22.3 in c:\\users\\win10\\desktop\\langchianproject\\langchainproject\\.venv\\lib\\site-packages (from google-cloud-vision->unstructured[pdf]->-r ../requirements.txt (line 9)) (1.25.0)\n",
      "Requirement already satisfied: webencodings in c:\\users\\win10\\desktop\\langchianproject\\langchainproject\\.venv\\lib\\site-packages (from html5lib->unstructured[pdf]->-r ../requirements.txt (line 9)) (0.5.1)\n",
      "Requirement already satisfied: joblib in c:\\users\\win10\\desktop\\langchianproject\\langchainproject\\.venv\\lib\\site-packages (from nltk->unstructured[pdf]->-r ../requirements.txt (line 9)) (1.4.2)\n",
      "Requirement already satisfied: cryptography>=36.0.0 in c:\\users\\win10\\desktop\\langchianproject\\langchainproject\\.venv\\lib\\site-packages (from pdfminer.six->unstructured[pdf]->-r ../requirements.txt (line 9)) (44.0.0)\n",
      "Requirement already satisfied: olefile in c:\\users\\win10\\desktop\\langchianproject\\langchainproject\\.venv\\lib\\site-packages (from python-oxmsg->unstructured[pdf]->-r ../requirements.txt (line 9)) (0.47)\n",
      "Requirement already satisfied: aiofiles>=24.1.0 in c:\\users\\win10\\desktop\\langchianproject\\langchainproject\\.venv\\lib\\site-packages (from unstructured-client->unstructured[pdf]->-r ../requirements.txt (line 9)) (24.1.0)\n",
      "Requirement already satisfied: eval-type-backport<0.3.0,>=0.2.0 in c:\\users\\win10\\desktop\\langchianproject\\langchainproject\\.venv\\lib\\site-packages (from unstructured-client->unstructured[pdf]->-r ../requirements.txt (line 9)) (0.2.2)\n",
      "Requirement already satisfied: jsonpath-python<2.0.0,>=1.0.6 in c:\\users\\win10\\desktop\\langchianproject\\langchainproject\\.venv\\lib\\site-packages (from unstructured-client->unstructured[pdf]->-r ../requirements.txt (line 9)) (1.0.6)\n",
      "Requirement already satisfied: nest-asyncio>=1.6.0 in c:\\users\\win10\\desktop\\langchianproject\\langchainproject\\.venv\\lib\\site-packages (from unstructured-client->unstructured[pdf]->-r ../requirements.txt (line 9)) (1.6.0)\n",
      "Requirement already satisfied: wheel<1.0,>=0.23.0 in c:\\users\\win10\\desktop\\langchianproject\\langchainproject\\.venv\\lib\\site-packages (from astunparse>=1.6.0->tensorflow-intel==2.18.0->tensorflow->-r ../requirements.txt (line 3)) (0.45.1)\n",
      "Requirement already satisfied: cffi>=1.12 in c:\\users\\win10\\desktop\\langchianproject\\langchainproject\\.venv\\lib\\site-packages (from cryptography>=36.0.0->pdfminer.six->unstructured[pdf]->-r ../requirements.txt (line 9)) (1.17.1)\n",
      "Requirement already satisfied: smmap<6,>=3.0.1 in c:\\users\\win10\\desktop\\langchianproject\\langchainproject\\.venv\\lib\\site-packages (from gitdb<5,>=4.0.1->gitpython!=3.1.19,<4,>=3.0.7->streamlit->-r ../requirements.txt (line 1)) (5.0.1)\n",
      "Requirement already satisfied: grpcio-status<2.0.dev0,>=1.33.2 in c:\\users\\win10\\desktop\\langchianproject\\langchainproject\\.venv\\lib\\site-packages (from google-api-core[grpc]!=2.0.*,!=2.1.*,!=2.10.*,!=2.2.*,!=2.3.*,!=2.4.*,!=2.5.*,!=2.6.*,!=2.7.*,!=2.8.*,!=2.9.*,<3.0.0dev,>=1.34.1->google-cloud-vision->unstructured[pdf]->-r ../requirements.txt (line 9)) (1.68.1)\n",
      "Requirement already satisfied: pyasn1-modules>=0.2.1 in c:\\users\\win10\\desktop\\langchianproject\\langchainproject\\.venv\\lib\\site-packages (from google-auth>=1.0.1->kubernetes>=28.1.0->chromadb==0.5.0->-r ../requirements.txt (line 10)) (0.4.1)\n",
      "Requirement already satisfied: rsa<5,>=3.1.4 in c:\\users\\win10\\desktop\\langchianproject\\langchainproject\\.venv\\lib\\site-packages (from google-auth>=1.0.1->kubernetes>=28.1.0->chromadb==0.5.0->-r ../requirements.txt (line 10)) (4.9)\n",
      "Requirement already satisfied: anyio in c:\\users\\win10\\desktop\\langchianproject\\langchainproject\\.venv\\lib\\site-packages (from httpx<1,>=0.23.0->langsmith<0.3,>=0.1.17->langchain->-r ../requirements.txt (line 4)) (4.7.0)\n",
      "Requirement already satisfied: httpcore==1.* in c:\\users\\win10\\desktop\\langchianproject\\langchainproject\\.venv\\lib\\site-packages (from httpx<1,>=0.23.0->langsmith<0.3,>=0.1.17->langchain->-r ../requirements.txt (line 4)) (1.0.7)\n",
      "Requirement already satisfied: pyreadline3 in c:\\users\\win10\\desktop\\langchianproject\\langchainproject\\.venv\\lib\\site-packages (from humanfriendly>=9.1->coloredlogs->onnxruntime==1.17.1->-r ../requirements.txt (line 8)) (3.5.4)\n",
      "Requirement already satisfied: zipp>=3.20 in c:\\users\\win10\\desktop\\langchianproject\\langchainproject\\.venv\\lib\\site-packages (from importlib-metadata<=8.5.0,>=6.0->opentelemetry-api>=1.2.0->chromadb==0.5.0->-r ../requirements.txt (line 10)) (3.21.0)\n",
      "Requirement already satisfied: jsonpointer>=1.9 in c:\\users\\win10\\desktop\\langchianproject\\langchainproject\\.venv\\lib\\site-packages (from jsonpatch<2.0,>=1.33->langchain-core<0.4.0,>=0.3.26->langchain->-r ../requirements.txt (line 4)) (3.0.0)\n",
      "Requirement already satisfied: jsonschema-specifications>=2023.03.6 in c:\\users\\win10\\desktop\\langchianproject\\langchainproject\\.venv\\lib\\site-packages (from jsonschema>=3.0->altair<6,>=4.0->streamlit->-r ../requirements.txt (line 1)) (2024.10.1)\n",
      "Requirement already satisfied: referencing>=0.28.4 in c:\\users\\win10\\desktop\\langchianproject\\langchainproject\\.venv\\lib\\site-packages (from jsonschema>=3.0->altair<6,>=4.0->streamlit->-r ../requirements.txt (line 1)) (0.35.1)\n",
      "Requirement already satisfied: rpds-py>=0.7.1 in c:\\users\\win10\\desktop\\langchianproject\\langchainproject\\.venv\\lib\\site-packages (from jsonschema>=3.0->altair<6,>=4.0->streamlit->-r ../requirements.txt (line 1)) (0.22.3)\n",
      "Requirement already satisfied: mdurl~=0.1 in c:\\users\\win10\\desktop\\langchianproject\\langchainproject\\.venv\\lib\\site-packages (from markdown-it-py>=2.2.0->rich<14,>=10.14.0->streamlit->-r ../requirements.txt (line 1)) (0.1.2)\n",
      "Requirement already satisfied: antlr4-python3-runtime==4.9.* in c:\\users\\win10\\desktop\\langchianproject\\langchainproject\\.venv\\lib\\site-packages (from omegaconf>=2.0->effdet->unstructured[pdf]->-r ../requirements.txt (line 9)) (4.9.3)\n",
      "Requirement already satisfied: contourpy>=1.0.1 in c:\\users\\win10\\desktop\\langchianproject\\langchainproject\\.venv\\lib\\site-packages (from matplotlib->unstructured-inference==0.8.1->unstructured[pdf]->-r ../requirements.txt (line 9)) (1.3.1)\n",
      "Requirement already satisfied: cycler>=0.10 in c:\\users\\win10\\desktop\\langchianproject\\langchainproject\\.venv\\lib\\site-packages (from matplotlib->unstructured-inference==0.8.1->unstructured[pdf]->-r ../requirements.txt (line 9)) (0.12.1)\n",
      "Requirement already satisfied: fonttools>=4.22.0 in c:\\users\\win10\\desktop\\langchianproject\\langchainproject\\.venv\\lib\\site-packages (from matplotlib->unstructured-inference==0.8.1->unstructured[pdf]->-r ../requirements.txt (line 9)) (4.55.3)\n",
      "Requirement already satisfied: kiwisolver>=1.3.1 in c:\\users\\win10\\desktop\\langchianproject\\langchainproject\\.venv\\lib\\site-packages (from matplotlib->unstructured-inference==0.8.1->unstructured[pdf]->-r ../requirements.txt (line 9)) (1.4.8)\n",
      "Requirement already satisfied: pyparsing>=2.3.1 in c:\\users\\win10\\desktop\\langchianproject\\langchainproject\\.venv\\lib\\site-packages (from matplotlib->unstructured-inference==0.8.1->unstructured[pdf]->-r ../requirements.txt (line 9)) (3.2.0)\n",
      "Requirement already satisfied: markdown>=2.6.8 in c:\\users\\win10\\desktop\\langchianproject\\langchainproject\\.venv\\lib\\site-packages (from tensorboard<2.19,>=2.18->tensorflow-intel==2.18.0->tensorflow->-r ../requirements.txt (line 3)) (3.7)\n",
      "Requirement already satisfied: tensorboard-data-server<0.8.0,>=0.7.0 in c:\\users\\win10\\desktop\\langchianproject\\langchainproject\\.venv\\lib\\site-packages (from tensorboard<2.19,>=2.18->tensorflow-intel==2.18.0->tensorflow->-r ../requirements.txt (line 3)) (0.7.2)\n",
      "Requirement already satisfied: werkzeug>=1.0.1 in c:\\users\\win10\\desktop\\langchianproject\\langchainproject\\.venv\\lib\\site-packages (from tensorboard<2.19,>=2.18->tensorflow-intel==2.18.0->tensorflow->-r ../requirements.txt (line 3)) (3.1.3)\n",
      "Requirement already satisfied: mypy-extensions>=0.3.0 in c:\\users\\win10\\desktop\\langchianproject\\langchainproject\\.venv\\lib\\site-packages (from typing-inspect<1,>=0.4.0->dataclasses-json<0.7,>=0.5.7->langchain_community->-r ../requirements.txt (line 5)) (1.0.0)\n",
      "Requirement already satisfied: iopath in c:\\users\\win10\\desktop\\langchianproject\\langchainproject\\.venv\\lib\\site-packages (from layoutparser->unstructured-inference==0.8.1->unstructured[pdf]->-r ../requirements.txt (line 9)) (0.1.10)\n",
      "Requirement already satisfied: pdfplumber in c:\\users\\win10\\desktop\\langchianproject\\langchainproject\\.venv\\lib\\site-packages (from layoutparser->unstructured-inference==0.8.1->unstructured[pdf]->-r ../requirements.txt (line 9)) (0.11.4)\n",
      "Requirement already satisfied: threadpoolctl>=3.1.0 in c:\\users\\win10\\desktop\\langchianproject\\langchainproject\\.venv\\lib\\site-packages (from scikit-learn->sentence-transformers>=2.6.0->langchain_huggingface->-r ../requirements.txt (line 6)) (3.5.0)\n",
      "Requirement already satisfied: sniffio>=1.1 in c:\\users\\win10\\desktop\\langchianproject\\langchainproject\\.venv\\lib\\site-packages (from anyio->httpx<1,>=0.23.0->langsmith<0.3,>=0.1.17->langchain->-r ../requirements.txt (line 4)) (1.3.1)\n",
      "Requirement already satisfied: pycparser in c:\\users\\win10\\desktop\\langchianproject\\langchainproject\\.venv\\lib\\site-packages (from cffi>=1.12->cryptography>=36.0.0->pdfminer.six->unstructured[pdf]->-r ../requirements.txt (line 9)) (2.22)\n",
      "Requirement already satisfied: pyasn1<0.7.0,>=0.4.6 in c:\\users\\win10\\desktop\\langchianproject\\langchainproject\\.venv\\lib\\site-packages (from pyasn1-modules>=0.2.1->google-auth>=1.0.1->kubernetes>=28.1.0->chromadb==0.5.0->-r ../requirements.txt (line 10)) (0.6.1)\n",
      "Requirement already satisfied: portalocker in c:\\users\\win10\\desktop\\langchianproject\\langchainproject\\.venv\\lib\\site-packages (from iopath->layoutparser->unstructured-inference==0.8.1->unstructured[pdf]->-r ../requirements.txt (line 9)) (3.0.0)\n",
      "Requirement already satisfied: pypdfium2>=4.18.0 in c:\\users\\win10\\desktop\\langchianproject\\langchainproject\\.venv\\lib\\site-packages (from pdfplumber->layoutparser->unstructured-inference==0.8.1->unstructured[pdf]->-r ../requirements.txt (line 9)) (4.30.1)\n",
      "Requirement already satisfied: pywin32>=226 in c:\\users\\win10\\desktop\\langchianproject\\langchainproject\\.venv\\lib\\site-packages (from portalocker->iopath->layoutparser->unstructured-inference==0.8.1->unstructured[pdf]->-r ../requirements.txt (line 9)) (308)\n",
      "Note: you may need to restart the kernel to use updated packages.\n"
     ]
    }
   ],
   "source": [
    "pip install -r ../requirements.txt "
   ]
  },
  {
   "cell_type": "code",
   "execution_count": 35,
   "id": "6d4be625-ef8b-429f-921c-7bf85df83edc",
   "metadata": {},
   "outputs": [],
   "source": [
    "import sys\n",
    "import os\n",
    "\n",
    "# Add the superfolder path to sys.path\n",
    "sys.path.append(os.path.abspath('..'))\n",
    "\n",
    "from keys import LANGCHAIN_API_KEY , HUGGINGFACEHUB_API_TOKEN\n",
    "\n",
    "os.environ[\"LANGCHAIN_TRACING_V2\"] = \"true\"\n",
    "os.environ[\"LANGCHAIN_API_KEY\"] = LANGCHAIN_API_KEY\n",
    "os.environ[\"HUGGINGFACEHUB_API_TOKEN\"] = HUGGINGFACEHUB_API_TOKEN"
   ]
  },
  {
   "cell_type": "markdown",
   "id": "62e7178a",
   "metadata": {},
   "source": [
    "#Simple Quiry-Answer Application"
   ]
  },
  {
   "cell_type": "code",
   "execution_count": 36,
   "id": "9a5d2dff-cdac-417e-9cec-320272adfdf9",
   "metadata": {},
   "outputs": [],
   "source": [
    "from langchain import PromptTemplate, HuggingFaceHub, LLMChain\n",
    "\n",
    "template = \"\"\"Question: {question}\n",
    "\n",
    "Answer: \"\"\"\n",
    "\n",
    "prompt = PromptTemplate(template=template, input_variables=[\"question\"])"
   ]
  },
  {
   "cell_type": "code",
   "execution_count": 37,
   "id": "007c3db2-d58e-41e4-989d-030a3c780e13",
   "metadata": {},
   "outputs": [],
   "source": [
    "llm_chain = LLMChain(prompt=prompt, \n",
    "                     llm=HuggingFaceHub(repo_id=\"meta-llama/Llama-3.2-1B\", \n",
    "                                        model_kwargs={\"Temperature\":0, \n",
    "                                                      \n",
    "                                                      \"max_length\":64}))"
   ]
  },
  {
   "cell_type": "markdown",
   "id": "f5f7f1c1",
   "metadata": {},
   "source": [
    "##The result of using a text generation model"
   ]
  },
  {
   "cell_type": "code",
   "execution_count": 38,
   "id": "270feba9-c2c2-4b9e-a24a-dea4457601bb",
   "metadata": {},
   "outputs": [
    {
     "name": "stdout",
     "output_type": "stream",
     "text": [
      "Question: What is the capital of Egypt?\n",
      "\n",
      "Answer:  Cairo\n"
     ]
    }
   ],
   "source": [
    "question=\"What is the capital of Egypt?\"\n",
    "print(llm_chain.run(question))"
   ]
  },
  {
   "cell_type": "code",
   "execution_count": 39,
   "id": "7053f4a4-b585-45d9-b520-cd53e113ed3d",
   "metadata": {},
   "outputs": [],
   "source": [
    "template = \"\"\"Question: {question}\n",
    "\n",
    "Answer: \"\"\"\n",
    "\n",
    "prompt = PromptTemplate(template=template, input_variables=[\"question\"])\n",
    "llm_chain2 = LLMChain(prompt=prompt, \n",
    "                     llm=HuggingFaceHub(repo_id=\"google/flan-t5-large\", \n",
    "                                        model_kwargs={\"max_length\":64}))"
   ]
  },
  {
   "cell_type": "markdown",
   "id": "72b92b34",
   "metadata": {},
   "source": [
    "##The result of usinf text2text generation model"
   ]
  },
  {
   "cell_type": "code",
   "execution_count": 40,
   "id": "6bec435e",
   "metadata": {},
   "outputs": [
    {
     "ename": "HfHubHTTPError",
     "evalue": "500 Server Error: Internal Server Error for url: https://api-inference.huggingface.co/models/google/flan-t5-large (Request ID: CthLwpK1eNLK9fPGBIyBD)",
     "output_type": "error",
     "traceback": [
      "\u001b[1;31m---------------------------------------------------------------------------\u001b[0m",
      "\u001b[1;31mHTTPError\u001b[0m                                 Traceback (most recent call last)",
      "File \u001b[1;32mc:\\Users\\win10\\Desktop\\LangchianProject\\LangchainProject\\.venv\\Lib\\site-packages\\huggingface_hub\\utils\\_http.py:406\u001b[0m, in \u001b[0;36mhf_raise_for_status\u001b[1;34m(response, endpoint_name)\u001b[0m\n\u001b[0;32m    405\u001b[0m \u001b[38;5;28;01mtry\u001b[39;00m:\n\u001b[1;32m--> 406\u001b[0m     \u001b[43mresponse\u001b[49m\u001b[38;5;241;43m.\u001b[39;49m\u001b[43mraise_for_status\u001b[49m\u001b[43m(\u001b[49m\u001b[43m)\u001b[49m\n\u001b[0;32m    407\u001b[0m \u001b[38;5;28;01mexcept\u001b[39;00m HTTPError \u001b[38;5;28;01mas\u001b[39;00m e:\n",
      "File \u001b[1;32mc:\\Users\\win10\\Desktop\\LangchianProject\\LangchainProject\\.venv\\Lib\\site-packages\\requests\\models.py:1024\u001b[0m, in \u001b[0;36mResponse.raise_for_status\u001b[1;34m(self)\u001b[0m\n\u001b[0;32m   1023\u001b[0m \u001b[38;5;28;01mif\u001b[39;00m http_error_msg:\n\u001b[1;32m-> 1024\u001b[0m     \u001b[38;5;28;01mraise\u001b[39;00m HTTPError(http_error_msg, response\u001b[38;5;241m=\u001b[39m\u001b[38;5;28mself\u001b[39m)\n",
      "\u001b[1;31mHTTPError\u001b[0m: 500 Server Error: Internal Server Error for url: https://api-inference.huggingface.co/models/google/flan-t5-large",
      "\nThe above exception was the direct cause of the following exception:\n",
      "\u001b[1;31mHfHubHTTPError\u001b[0m                            Traceback (most recent call last)",
      "Cell \u001b[1;32mIn[40], line 2\u001b[0m\n\u001b[0;32m      1\u001b[0m question\u001b[38;5;241m=\u001b[39m\u001b[38;5;124m\"\u001b[39m\u001b[38;5;124mwhat is the email of the employee Alice Johnson\u001b[39m\u001b[38;5;124m\"\u001b[39m\n\u001b[1;32m----> 2\u001b[0m \u001b[38;5;28mprint\u001b[39m(\u001b[43mllm_chain2\u001b[49m\u001b[38;5;241;43m.\u001b[39;49m\u001b[43mrun\u001b[49m\u001b[43m(\u001b[49m\u001b[43mquestion\u001b[49m\u001b[43m)\u001b[49m)\n",
      "File \u001b[1;32mc:\\Users\\win10\\Desktop\\LangchianProject\\LangchainProject\\.venv\\Lib\\site-packages\\langchain_core\\_api\\deprecation.py:182\u001b[0m, in \u001b[0;36mdeprecated.<locals>.deprecate.<locals>.warning_emitting_wrapper\u001b[1;34m(*args, **kwargs)\u001b[0m\n\u001b[0;32m    180\u001b[0m     warned \u001b[38;5;241m=\u001b[39m \u001b[38;5;28;01mTrue\u001b[39;00m\n\u001b[0;32m    181\u001b[0m     emit_warning()\n\u001b[1;32m--> 182\u001b[0m \u001b[38;5;28;01mreturn\u001b[39;00m \u001b[43mwrapped\u001b[49m\u001b[43m(\u001b[49m\u001b[38;5;241;43m*\u001b[39;49m\u001b[43margs\u001b[49m\u001b[43m,\u001b[49m\u001b[43m \u001b[49m\u001b[38;5;241;43m*\u001b[39;49m\u001b[38;5;241;43m*\u001b[39;49m\u001b[43mkwargs\u001b[49m\u001b[43m)\u001b[49m\n",
      "File \u001b[1;32mc:\\Users\\win10\\Desktop\\LangchianProject\\LangchainProject\\.venv\\Lib\\site-packages\\langchain\\chains\\base.py:606\u001b[0m, in \u001b[0;36mChain.run\u001b[1;34m(self, callbacks, tags, metadata, *args, **kwargs)\u001b[0m\n\u001b[0;32m    604\u001b[0m     \u001b[38;5;28;01mif\u001b[39;00m \u001b[38;5;28mlen\u001b[39m(args) \u001b[38;5;241m!=\u001b[39m \u001b[38;5;241m1\u001b[39m:\n\u001b[0;32m    605\u001b[0m         \u001b[38;5;28;01mraise\u001b[39;00m \u001b[38;5;167;01mValueError\u001b[39;00m(\u001b[38;5;124m\"\u001b[39m\u001b[38;5;124m`run` supports only one positional argument.\u001b[39m\u001b[38;5;124m\"\u001b[39m)\n\u001b[1;32m--> 606\u001b[0m     \u001b[38;5;28;01mreturn\u001b[39;00m \u001b[38;5;28;43mself\u001b[39;49m\u001b[43m(\u001b[49m\u001b[43margs\u001b[49m\u001b[43m[\u001b[49m\u001b[38;5;241;43m0\u001b[39;49m\u001b[43m]\u001b[49m\u001b[43m,\u001b[49m\u001b[43m \u001b[49m\u001b[43mcallbacks\u001b[49m\u001b[38;5;241;43m=\u001b[39;49m\u001b[43mcallbacks\u001b[49m\u001b[43m,\u001b[49m\u001b[43m \u001b[49m\u001b[43mtags\u001b[49m\u001b[38;5;241;43m=\u001b[39;49m\u001b[43mtags\u001b[49m\u001b[43m,\u001b[49m\u001b[43m \u001b[49m\u001b[43mmetadata\u001b[49m\u001b[38;5;241;43m=\u001b[39;49m\u001b[43mmetadata\u001b[49m\u001b[43m)\u001b[49m[\n\u001b[0;32m    607\u001b[0m         _output_key\n\u001b[0;32m    608\u001b[0m     ]\n\u001b[0;32m    610\u001b[0m \u001b[38;5;28;01mif\u001b[39;00m kwargs \u001b[38;5;129;01mand\u001b[39;00m \u001b[38;5;129;01mnot\u001b[39;00m args:\n\u001b[0;32m    611\u001b[0m     \u001b[38;5;28;01mreturn\u001b[39;00m \u001b[38;5;28mself\u001b[39m(kwargs, callbacks\u001b[38;5;241m=\u001b[39mcallbacks, tags\u001b[38;5;241m=\u001b[39mtags, metadata\u001b[38;5;241m=\u001b[39mmetadata)[\n\u001b[0;32m    612\u001b[0m         _output_key\n\u001b[0;32m    613\u001b[0m     ]\n",
      "File \u001b[1;32mc:\\Users\\win10\\Desktop\\LangchianProject\\LangchainProject\\.venv\\Lib\\site-packages\\langchain_core\\_api\\deprecation.py:182\u001b[0m, in \u001b[0;36mdeprecated.<locals>.deprecate.<locals>.warning_emitting_wrapper\u001b[1;34m(*args, **kwargs)\u001b[0m\n\u001b[0;32m    180\u001b[0m     warned \u001b[38;5;241m=\u001b[39m \u001b[38;5;28;01mTrue\u001b[39;00m\n\u001b[0;32m    181\u001b[0m     emit_warning()\n\u001b[1;32m--> 182\u001b[0m \u001b[38;5;28;01mreturn\u001b[39;00m \u001b[43mwrapped\u001b[49m\u001b[43m(\u001b[49m\u001b[38;5;241;43m*\u001b[39;49m\u001b[43margs\u001b[49m\u001b[43m,\u001b[49m\u001b[43m \u001b[49m\u001b[38;5;241;43m*\u001b[39;49m\u001b[38;5;241;43m*\u001b[39;49m\u001b[43mkwargs\u001b[49m\u001b[43m)\u001b[49m\n",
      "File \u001b[1;32mc:\\Users\\win10\\Desktop\\LangchianProject\\LangchainProject\\.venv\\Lib\\site-packages\\langchain\\chains\\base.py:389\u001b[0m, in \u001b[0;36mChain.__call__\u001b[1;34m(self, inputs, return_only_outputs, callbacks, tags, metadata, run_name, include_run_info)\u001b[0m\n\u001b[0;32m    357\u001b[0m \u001b[38;5;250m\u001b[39m\u001b[38;5;124;03m\"\"\"Execute the chain.\u001b[39;00m\n\u001b[0;32m    358\u001b[0m \n\u001b[0;32m    359\u001b[0m \u001b[38;5;124;03mArgs:\u001b[39;00m\n\u001b[1;32m   (...)\u001b[0m\n\u001b[0;32m    380\u001b[0m \u001b[38;5;124;03m        `Chain.output_keys`.\u001b[39;00m\n\u001b[0;32m    381\u001b[0m \u001b[38;5;124;03m\"\"\"\u001b[39;00m\n\u001b[0;32m    382\u001b[0m config \u001b[38;5;241m=\u001b[39m {\n\u001b[0;32m    383\u001b[0m     \u001b[38;5;124m\"\u001b[39m\u001b[38;5;124mcallbacks\u001b[39m\u001b[38;5;124m\"\u001b[39m: callbacks,\n\u001b[0;32m    384\u001b[0m     \u001b[38;5;124m\"\u001b[39m\u001b[38;5;124mtags\u001b[39m\u001b[38;5;124m\"\u001b[39m: tags,\n\u001b[0;32m    385\u001b[0m     \u001b[38;5;124m\"\u001b[39m\u001b[38;5;124mmetadata\u001b[39m\u001b[38;5;124m\"\u001b[39m: metadata,\n\u001b[0;32m    386\u001b[0m     \u001b[38;5;124m\"\u001b[39m\u001b[38;5;124mrun_name\u001b[39m\u001b[38;5;124m\"\u001b[39m: run_name,\n\u001b[0;32m    387\u001b[0m }\n\u001b[1;32m--> 389\u001b[0m \u001b[38;5;28;01mreturn\u001b[39;00m \u001b[38;5;28;43mself\u001b[39;49m\u001b[38;5;241;43m.\u001b[39;49m\u001b[43minvoke\u001b[49m\u001b[43m(\u001b[49m\n\u001b[0;32m    390\u001b[0m \u001b[43m    \u001b[49m\u001b[43minputs\u001b[49m\u001b[43m,\u001b[49m\n\u001b[0;32m    391\u001b[0m \u001b[43m    \u001b[49m\u001b[43mcast\u001b[49m\u001b[43m(\u001b[49m\u001b[43mRunnableConfig\u001b[49m\u001b[43m,\u001b[49m\u001b[43m \u001b[49m\u001b[43m{\u001b[49m\u001b[43mk\u001b[49m\u001b[43m:\u001b[49m\u001b[43m \u001b[49m\u001b[43mv\u001b[49m\u001b[43m \u001b[49m\u001b[38;5;28;43;01mfor\u001b[39;49;00m\u001b[43m \u001b[49m\u001b[43mk\u001b[49m\u001b[43m,\u001b[49m\u001b[43m \u001b[49m\u001b[43mv\u001b[49m\u001b[43m \u001b[49m\u001b[38;5;129;43;01min\u001b[39;49;00m\u001b[43m \u001b[49m\u001b[43mconfig\u001b[49m\u001b[38;5;241;43m.\u001b[39;49m\u001b[43mitems\u001b[49m\u001b[43m(\u001b[49m\u001b[43m)\u001b[49m\u001b[43m \u001b[49m\u001b[38;5;28;43;01mif\u001b[39;49;00m\u001b[43m \u001b[49m\u001b[43mv\u001b[49m\u001b[43m \u001b[49m\u001b[38;5;129;43;01mis\u001b[39;49;00m\u001b[43m \u001b[49m\u001b[38;5;129;43;01mnot\u001b[39;49;00m\u001b[43m \u001b[49m\u001b[38;5;28;43;01mNone\u001b[39;49;00m\u001b[43m}\u001b[49m\u001b[43m)\u001b[49m\u001b[43m,\u001b[49m\n\u001b[0;32m    392\u001b[0m \u001b[43m    \u001b[49m\u001b[43mreturn_only_outputs\u001b[49m\u001b[38;5;241;43m=\u001b[39;49m\u001b[43mreturn_only_outputs\u001b[49m\u001b[43m,\u001b[49m\n\u001b[0;32m    393\u001b[0m \u001b[43m    \u001b[49m\u001b[43minclude_run_info\u001b[49m\u001b[38;5;241;43m=\u001b[39;49m\u001b[43minclude_run_info\u001b[49m\u001b[43m,\u001b[49m\n\u001b[0;32m    394\u001b[0m \u001b[43m\u001b[49m\u001b[43m)\u001b[49m\n",
      "File \u001b[1;32mc:\\Users\\win10\\Desktop\\LangchianProject\\LangchainProject\\.venv\\Lib\\site-packages\\langchain\\chains\\base.py:170\u001b[0m, in \u001b[0;36mChain.invoke\u001b[1;34m(self, input, config, **kwargs)\u001b[0m\n\u001b[0;32m    168\u001b[0m \u001b[38;5;28;01mexcept\u001b[39;00m \u001b[38;5;167;01mBaseException\u001b[39;00m \u001b[38;5;28;01mas\u001b[39;00m e:\n\u001b[0;32m    169\u001b[0m     run_manager\u001b[38;5;241m.\u001b[39mon_chain_error(e)\n\u001b[1;32m--> 170\u001b[0m     \u001b[38;5;28;01mraise\u001b[39;00m e\n\u001b[0;32m    171\u001b[0m run_manager\u001b[38;5;241m.\u001b[39mon_chain_end(outputs)\n\u001b[0;32m    173\u001b[0m \u001b[38;5;28;01mif\u001b[39;00m include_run_info:\n",
      "File \u001b[1;32mc:\\Users\\win10\\Desktop\\LangchianProject\\LangchainProject\\.venv\\Lib\\site-packages\\langchain\\chains\\base.py:160\u001b[0m, in \u001b[0;36mChain.invoke\u001b[1;34m(self, input, config, **kwargs)\u001b[0m\n\u001b[0;32m    157\u001b[0m \u001b[38;5;28;01mtry\u001b[39;00m:\n\u001b[0;32m    158\u001b[0m     \u001b[38;5;28mself\u001b[39m\u001b[38;5;241m.\u001b[39m_validate_inputs(inputs)\n\u001b[0;32m    159\u001b[0m     outputs \u001b[38;5;241m=\u001b[39m (\n\u001b[1;32m--> 160\u001b[0m         \u001b[38;5;28;43mself\u001b[39;49m\u001b[38;5;241;43m.\u001b[39;49m\u001b[43m_call\u001b[49m\u001b[43m(\u001b[49m\u001b[43minputs\u001b[49m\u001b[43m,\u001b[49m\u001b[43m \u001b[49m\u001b[43mrun_manager\u001b[49m\u001b[38;5;241;43m=\u001b[39;49m\u001b[43mrun_manager\u001b[49m\u001b[43m)\u001b[49m\n\u001b[0;32m    161\u001b[0m         \u001b[38;5;28;01mif\u001b[39;00m new_arg_supported\n\u001b[0;32m    162\u001b[0m         \u001b[38;5;28;01melse\u001b[39;00m \u001b[38;5;28mself\u001b[39m\u001b[38;5;241m.\u001b[39m_call(inputs)\n\u001b[0;32m    163\u001b[0m     )\n\u001b[0;32m    165\u001b[0m     final_outputs: Dict[\u001b[38;5;28mstr\u001b[39m, Any] \u001b[38;5;241m=\u001b[39m \u001b[38;5;28mself\u001b[39m\u001b[38;5;241m.\u001b[39mprep_outputs(\n\u001b[0;32m    166\u001b[0m         inputs, outputs, return_only_outputs\n\u001b[0;32m    167\u001b[0m     )\n\u001b[0;32m    168\u001b[0m \u001b[38;5;28;01mexcept\u001b[39;00m \u001b[38;5;167;01mBaseException\u001b[39;00m \u001b[38;5;28;01mas\u001b[39;00m e:\n",
      "File \u001b[1;32mc:\\Users\\win10\\Desktop\\LangchianProject\\LangchainProject\\.venv\\Lib\\site-packages\\langchain\\chains\\llm.py:126\u001b[0m, in \u001b[0;36mLLMChain._call\u001b[1;34m(self, inputs, run_manager)\u001b[0m\n\u001b[0;32m    121\u001b[0m \u001b[38;5;28;01mdef\u001b[39;00m \u001b[38;5;21m_call\u001b[39m(\n\u001b[0;32m    122\u001b[0m     \u001b[38;5;28mself\u001b[39m,\n\u001b[0;32m    123\u001b[0m     inputs: Dict[\u001b[38;5;28mstr\u001b[39m, Any],\n\u001b[0;32m    124\u001b[0m     run_manager: Optional[CallbackManagerForChainRun] \u001b[38;5;241m=\u001b[39m \u001b[38;5;28;01mNone\u001b[39;00m,\n\u001b[0;32m    125\u001b[0m ) \u001b[38;5;241m-\u001b[39m\u001b[38;5;241m>\u001b[39m Dict[\u001b[38;5;28mstr\u001b[39m, \u001b[38;5;28mstr\u001b[39m]:\n\u001b[1;32m--> 126\u001b[0m     response \u001b[38;5;241m=\u001b[39m \u001b[38;5;28;43mself\u001b[39;49m\u001b[38;5;241;43m.\u001b[39;49m\u001b[43mgenerate\u001b[49m\u001b[43m(\u001b[49m\u001b[43m[\u001b[49m\u001b[43minputs\u001b[49m\u001b[43m]\u001b[49m\u001b[43m,\u001b[49m\u001b[43m \u001b[49m\u001b[43mrun_manager\u001b[49m\u001b[38;5;241;43m=\u001b[39;49m\u001b[43mrun_manager\u001b[49m\u001b[43m)\u001b[49m\n\u001b[0;32m    127\u001b[0m     \u001b[38;5;28;01mreturn\u001b[39;00m \u001b[38;5;28mself\u001b[39m\u001b[38;5;241m.\u001b[39mcreate_outputs(response)[\u001b[38;5;241m0\u001b[39m]\n",
      "File \u001b[1;32mc:\\Users\\win10\\Desktop\\LangchianProject\\LangchainProject\\.venv\\Lib\\site-packages\\langchain\\chains\\llm.py:138\u001b[0m, in \u001b[0;36mLLMChain.generate\u001b[1;34m(self, input_list, run_manager)\u001b[0m\n\u001b[0;32m    136\u001b[0m callbacks \u001b[38;5;241m=\u001b[39m run_manager\u001b[38;5;241m.\u001b[39mget_child() \u001b[38;5;28;01mif\u001b[39;00m run_manager \u001b[38;5;28;01melse\u001b[39;00m \u001b[38;5;28;01mNone\u001b[39;00m\n\u001b[0;32m    137\u001b[0m \u001b[38;5;28;01mif\u001b[39;00m \u001b[38;5;28misinstance\u001b[39m(\u001b[38;5;28mself\u001b[39m\u001b[38;5;241m.\u001b[39mllm, BaseLanguageModel):\n\u001b[1;32m--> 138\u001b[0m     \u001b[38;5;28;01mreturn\u001b[39;00m \u001b[38;5;28;43mself\u001b[39;49m\u001b[38;5;241;43m.\u001b[39;49m\u001b[43mllm\u001b[49m\u001b[38;5;241;43m.\u001b[39;49m\u001b[43mgenerate_prompt\u001b[49m\u001b[43m(\u001b[49m\n\u001b[0;32m    139\u001b[0m \u001b[43m        \u001b[49m\u001b[43mprompts\u001b[49m\u001b[43m,\u001b[49m\n\u001b[0;32m    140\u001b[0m \u001b[43m        \u001b[49m\u001b[43mstop\u001b[49m\u001b[43m,\u001b[49m\n\u001b[0;32m    141\u001b[0m \u001b[43m        \u001b[49m\u001b[43mcallbacks\u001b[49m\u001b[38;5;241;43m=\u001b[39;49m\u001b[43mcallbacks\u001b[49m\u001b[43m,\u001b[49m\n\u001b[0;32m    142\u001b[0m \u001b[43m        \u001b[49m\u001b[38;5;241;43m*\u001b[39;49m\u001b[38;5;241;43m*\u001b[39;49m\u001b[38;5;28;43mself\u001b[39;49m\u001b[38;5;241;43m.\u001b[39;49m\u001b[43mllm_kwargs\u001b[49m\u001b[43m,\u001b[49m\n\u001b[0;32m    143\u001b[0m \u001b[43m    \u001b[49m\u001b[43m)\u001b[49m\n\u001b[0;32m    144\u001b[0m \u001b[38;5;28;01melse\u001b[39;00m:\n\u001b[0;32m    145\u001b[0m     results \u001b[38;5;241m=\u001b[39m \u001b[38;5;28mself\u001b[39m\u001b[38;5;241m.\u001b[39mllm\u001b[38;5;241m.\u001b[39mbind(stop\u001b[38;5;241m=\u001b[39mstop, \u001b[38;5;241m*\u001b[39m\u001b[38;5;241m*\u001b[39m\u001b[38;5;28mself\u001b[39m\u001b[38;5;241m.\u001b[39mllm_kwargs)\u001b[38;5;241m.\u001b[39mbatch(\n\u001b[0;32m    146\u001b[0m         cast(List, prompts), {\u001b[38;5;124m\"\u001b[39m\u001b[38;5;124mcallbacks\u001b[39m\u001b[38;5;124m\"\u001b[39m: callbacks}\n\u001b[0;32m    147\u001b[0m     )\n",
      "File \u001b[1;32mc:\\Users\\win10\\Desktop\\LangchianProject\\LangchainProject\\.venv\\Lib\\site-packages\\langchain_core\\language_models\\llms.py:755\u001b[0m, in \u001b[0;36mBaseLLM.generate_prompt\u001b[1;34m(self, prompts, stop, callbacks, **kwargs)\u001b[0m\n\u001b[0;32m    747\u001b[0m \u001b[38;5;28;01mdef\u001b[39;00m \u001b[38;5;21mgenerate_prompt\u001b[39m(\n\u001b[0;32m    748\u001b[0m     \u001b[38;5;28mself\u001b[39m,\n\u001b[0;32m    749\u001b[0m     prompts: \u001b[38;5;28mlist\u001b[39m[PromptValue],\n\u001b[1;32m   (...)\u001b[0m\n\u001b[0;32m    752\u001b[0m     \u001b[38;5;241m*\u001b[39m\u001b[38;5;241m*\u001b[39mkwargs: Any,\n\u001b[0;32m    753\u001b[0m ) \u001b[38;5;241m-\u001b[39m\u001b[38;5;241m>\u001b[39m LLMResult:\n\u001b[0;32m    754\u001b[0m     prompt_strings \u001b[38;5;241m=\u001b[39m [p\u001b[38;5;241m.\u001b[39mto_string() \u001b[38;5;28;01mfor\u001b[39;00m p \u001b[38;5;129;01min\u001b[39;00m prompts]\n\u001b[1;32m--> 755\u001b[0m     \u001b[38;5;28;01mreturn\u001b[39;00m \u001b[38;5;28;43mself\u001b[39;49m\u001b[38;5;241;43m.\u001b[39;49m\u001b[43mgenerate\u001b[49m\u001b[43m(\u001b[49m\u001b[43mprompt_strings\u001b[49m\u001b[43m,\u001b[49m\u001b[43m \u001b[49m\u001b[43mstop\u001b[49m\u001b[38;5;241;43m=\u001b[39;49m\u001b[43mstop\u001b[49m\u001b[43m,\u001b[49m\u001b[43m \u001b[49m\u001b[43mcallbacks\u001b[49m\u001b[38;5;241;43m=\u001b[39;49m\u001b[43mcallbacks\u001b[49m\u001b[43m,\u001b[49m\u001b[43m \u001b[49m\u001b[38;5;241;43m*\u001b[39;49m\u001b[38;5;241;43m*\u001b[39;49m\u001b[43mkwargs\u001b[49m\u001b[43m)\u001b[49m\n",
      "File \u001b[1;32mc:\\Users\\win10\\Desktop\\LangchianProject\\LangchainProject\\.venv\\Lib\\site-packages\\langchain_core\\language_models\\llms.py:950\u001b[0m, in \u001b[0;36mBaseLLM.generate\u001b[1;34m(self, prompts, stop, callbacks, tags, metadata, run_name, run_id, **kwargs)\u001b[0m\n\u001b[0;32m    935\u001b[0m \u001b[38;5;28;01mif\u001b[39;00m (\u001b[38;5;28mself\u001b[39m\u001b[38;5;241m.\u001b[39mcache \u001b[38;5;129;01mis\u001b[39;00m \u001b[38;5;28;01mNone\u001b[39;00m \u001b[38;5;129;01mand\u001b[39;00m get_llm_cache() \u001b[38;5;129;01mis\u001b[39;00m \u001b[38;5;28;01mNone\u001b[39;00m) \u001b[38;5;129;01mor\u001b[39;00m \u001b[38;5;28mself\u001b[39m\u001b[38;5;241m.\u001b[39mcache \u001b[38;5;129;01mis\u001b[39;00m \u001b[38;5;28;01mFalse\u001b[39;00m:\n\u001b[0;32m    936\u001b[0m     run_managers \u001b[38;5;241m=\u001b[39m [\n\u001b[0;32m    937\u001b[0m         callback_manager\u001b[38;5;241m.\u001b[39mon_llm_start(\n\u001b[0;32m    938\u001b[0m             \u001b[38;5;28mself\u001b[39m\u001b[38;5;241m.\u001b[39m_serialized,\n\u001b[1;32m   (...)\u001b[0m\n\u001b[0;32m    948\u001b[0m         )\n\u001b[0;32m    949\u001b[0m     ]\n\u001b[1;32m--> 950\u001b[0m     output \u001b[38;5;241m=\u001b[39m \u001b[38;5;28;43mself\u001b[39;49m\u001b[38;5;241;43m.\u001b[39;49m\u001b[43m_generate_helper\u001b[49m\u001b[43m(\u001b[49m\n\u001b[0;32m    951\u001b[0m \u001b[43m        \u001b[49m\u001b[43mprompts\u001b[49m\u001b[43m,\u001b[49m\u001b[43m \u001b[49m\u001b[43mstop\u001b[49m\u001b[43m,\u001b[49m\u001b[43m \u001b[49m\u001b[43mrun_managers\u001b[49m\u001b[43m,\u001b[49m\u001b[43m \u001b[49m\u001b[38;5;28;43mbool\u001b[39;49m\u001b[43m(\u001b[49m\u001b[43mnew_arg_supported\u001b[49m\u001b[43m)\u001b[49m\u001b[43m,\u001b[49m\u001b[43m \u001b[49m\u001b[38;5;241;43m*\u001b[39;49m\u001b[38;5;241;43m*\u001b[39;49m\u001b[43mkwargs\u001b[49m\n\u001b[0;32m    952\u001b[0m \u001b[43m    \u001b[49m\u001b[43m)\u001b[49m\n\u001b[0;32m    953\u001b[0m     \u001b[38;5;28;01mreturn\u001b[39;00m output\n\u001b[0;32m    954\u001b[0m \u001b[38;5;28;01mif\u001b[39;00m \u001b[38;5;28mlen\u001b[39m(missing_prompts) \u001b[38;5;241m>\u001b[39m \u001b[38;5;241m0\u001b[39m:\n",
      "File \u001b[1;32mc:\\Users\\win10\\Desktop\\LangchianProject\\LangchainProject\\.venv\\Lib\\site-packages\\langchain_core\\language_models\\llms.py:792\u001b[0m, in \u001b[0;36mBaseLLM._generate_helper\u001b[1;34m(self, prompts, stop, run_managers, new_arg_supported, **kwargs)\u001b[0m\n\u001b[0;32m    790\u001b[0m     \u001b[38;5;28;01mfor\u001b[39;00m run_manager \u001b[38;5;129;01min\u001b[39;00m run_managers:\n\u001b[0;32m    791\u001b[0m         run_manager\u001b[38;5;241m.\u001b[39mon_llm_error(e, response\u001b[38;5;241m=\u001b[39mLLMResult(generations\u001b[38;5;241m=\u001b[39m[]))\n\u001b[1;32m--> 792\u001b[0m     \u001b[38;5;28;01mraise\u001b[39;00m e\n\u001b[0;32m    793\u001b[0m flattened_outputs \u001b[38;5;241m=\u001b[39m output\u001b[38;5;241m.\u001b[39mflatten()\n\u001b[0;32m    794\u001b[0m \u001b[38;5;28;01mfor\u001b[39;00m manager, flattened_output \u001b[38;5;129;01min\u001b[39;00m \u001b[38;5;28mzip\u001b[39m(run_managers, flattened_outputs):\n",
      "File \u001b[1;32mc:\\Users\\win10\\Desktop\\LangchianProject\\LangchainProject\\.venv\\Lib\\site-packages\\langchain_core\\language_models\\llms.py:779\u001b[0m, in \u001b[0;36mBaseLLM._generate_helper\u001b[1;34m(self, prompts, stop, run_managers, new_arg_supported, **kwargs)\u001b[0m\n\u001b[0;32m    769\u001b[0m \u001b[38;5;28;01mdef\u001b[39;00m \u001b[38;5;21m_generate_helper\u001b[39m(\n\u001b[0;32m    770\u001b[0m     \u001b[38;5;28mself\u001b[39m,\n\u001b[0;32m    771\u001b[0m     prompts: \u001b[38;5;28mlist\u001b[39m[\u001b[38;5;28mstr\u001b[39m],\n\u001b[1;32m   (...)\u001b[0m\n\u001b[0;32m    775\u001b[0m     \u001b[38;5;241m*\u001b[39m\u001b[38;5;241m*\u001b[39mkwargs: Any,\n\u001b[0;32m    776\u001b[0m ) \u001b[38;5;241m-\u001b[39m\u001b[38;5;241m>\u001b[39m LLMResult:\n\u001b[0;32m    777\u001b[0m     \u001b[38;5;28;01mtry\u001b[39;00m:\n\u001b[0;32m    778\u001b[0m         output \u001b[38;5;241m=\u001b[39m (\n\u001b[1;32m--> 779\u001b[0m             \u001b[38;5;28;43mself\u001b[39;49m\u001b[38;5;241;43m.\u001b[39;49m\u001b[43m_generate\u001b[49m\u001b[43m(\u001b[49m\n\u001b[0;32m    780\u001b[0m \u001b[43m                \u001b[49m\u001b[43mprompts\u001b[49m\u001b[43m,\u001b[49m\n\u001b[0;32m    781\u001b[0m \u001b[43m                \u001b[49m\u001b[43mstop\u001b[49m\u001b[38;5;241;43m=\u001b[39;49m\u001b[43mstop\u001b[49m\u001b[43m,\u001b[49m\n\u001b[0;32m    782\u001b[0m \u001b[43m                \u001b[49m\u001b[38;5;66;43;03m# TODO: support multiple run managers\u001b[39;49;00m\n\u001b[0;32m    783\u001b[0m \u001b[43m                \u001b[49m\u001b[43mrun_manager\u001b[49m\u001b[38;5;241;43m=\u001b[39;49m\u001b[43mrun_managers\u001b[49m\u001b[43m[\u001b[49m\u001b[38;5;241;43m0\u001b[39;49m\u001b[43m]\u001b[49m\u001b[43m \u001b[49m\u001b[38;5;28;43;01mif\u001b[39;49;00m\u001b[43m \u001b[49m\u001b[43mrun_managers\u001b[49m\u001b[43m \u001b[49m\u001b[38;5;28;43;01melse\u001b[39;49;00m\u001b[43m \u001b[49m\u001b[38;5;28;43;01mNone\u001b[39;49;00m\u001b[43m,\u001b[49m\n\u001b[0;32m    784\u001b[0m \u001b[43m                \u001b[49m\u001b[38;5;241;43m*\u001b[39;49m\u001b[38;5;241;43m*\u001b[39;49m\u001b[43mkwargs\u001b[49m\u001b[43m,\u001b[49m\n\u001b[0;32m    785\u001b[0m \u001b[43m            \u001b[49m\u001b[43m)\u001b[49m\n\u001b[0;32m    786\u001b[0m             \u001b[38;5;28;01mif\u001b[39;00m new_arg_supported\n\u001b[0;32m    787\u001b[0m             \u001b[38;5;28;01melse\u001b[39;00m \u001b[38;5;28mself\u001b[39m\u001b[38;5;241m.\u001b[39m_generate(prompts, stop\u001b[38;5;241m=\u001b[39mstop)\n\u001b[0;32m    788\u001b[0m         )\n\u001b[0;32m    789\u001b[0m     \u001b[38;5;28;01mexcept\u001b[39;00m \u001b[38;5;167;01mBaseException\u001b[39;00m \u001b[38;5;28;01mas\u001b[39;00m e:\n\u001b[0;32m    790\u001b[0m         \u001b[38;5;28;01mfor\u001b[39;00m run_manager \u001b[38;5;129;01min\u001b[39;00m run_managers:\n",
      "File \u001b[1;32mc:\\Users\\win10\\Desktop\\LangchianProject\\LangchainProject\\.venv\\Lib\\site-packages\\langchain_core\\language_models\\llms.py:1502\u001b[0m, in \u001b[0;36mLLM._generate\u001b[1;34m(self, prompts, stop, run_manager, **kwargs)\u001b[0m\n\u001b[0;32m   1499\u001b[0m new_arg_supported \u001b[38;5;241m=\u001b[39m inspect\u001b[38;5;241m.\u001b[39msignature(\u001b[38;5;28mself\u001b[39m\u001b[38;5;241m.\u001b[39m_call)\u001b[38;5;241m.\u001b[39mparameters\u001b[38;5;241m.\u001b[39mget(\u001b[38;5;124m\"\u001b[39m\u001b[38;5;124mrun_manager\u001b[39m\u001b[38;5;124m\"\u001b[39m)\n\u001b[0;32m   1500\u001b[0m \u001b[38;5;28;01mfor\u001b[39;00m prompt \u001b[38;5;129;01min\u001b[39;00m prompts:\n\u001b[0;32m   1501\u001b[0m     text \u001b[38;5;241m=\u001b[39m (\n\u001b[1;32m-> 1502\u001b[0m         \u001b[38;5;28;43mself\u001b[39;49m\u001b[38;5;241;43m.\u001b[39;49m\u001b[43m_call\u001b[49m\u001b[43m(\u001b[49m\u001b[43mprompt\u001b[49m\u001b[43m,\u001b[49m\u001b[43m \u001b[49m\u001b[43mstop\u001b[49m\u001b[38;5;241;43m=\u001b[39;49m\u001b[43mstop\u001b[49m\u001b[43m,\u001b[49m\u001b[43m \u001b[49m\u001b[43mrun_manager\u001b[49m\u001b[38;5;241;43m=\u001b[39;49m\u001b[43mrun_manager\u001b[49m\u001b[43m,\u001b[49m\u001b[43m \u001b[49m\u001b[38;5;241;43m*\u001b[39;49m\u001b[38;5;241;43m*\u001b[39;49m\u001b[43mkwargs\u001b[49m\u001b[43m)\u001b[49m\n\u001b[0;32m   1503\u001b[0m         \u001b[38;5;28;01mif\u001b[39;00m new_arg_supported\n\u001b[0;32m   1504\u001b[0m         \u001b[38;5;28;01melse\u001b[39;00m \u001b[38;5;28mself\u001b[39m\u001b[38;5;241m.\u001b[39m_call(prompt, stop\u001b[38;5;241m=\u001b[39mstop, \u001b[38;5;241m*\u001b[39m\u001b[38;5;241m*\u001b[39mkwargs)\n\u001b[0;32m   1505\u001b[0m     )\n\u001b[0;32m   1506\u001b[0m     generations\u001b[38;5;241m.\u001b[39mappend([Generation(text\u001b[38;5;241m=\u001b[39mtext)])\n\u001b[0;32m   1507\u001b[0m \u001b[38;5;28;01mreturn\u001b[39;00m LLMResult(generations\u001b[38;5;241m=\u001b[39mgenerations)\n",
      "File \u001b[1;32mc:\\Users\\win10\\Desktop\\LangchianProject\\LangchainProject\\.venv\\Lib\\site-packages\\langchain_community\\llms\\huggingface_hub.py:138\u001b[0m, in \u001b[0;36mHuggingFaceHub._call\u001b[1;34m(self, prompt, stop, run_manager, **kwargs)\u001b[0m\n\u001b[0;32m    135\u001b[0m _model_kwargs \u001b[38;5;241m=\u001b[39m \u001b[38;5;28mself\u001b[39m\u001b[38;5;241m.\u001b[39mmodel_kwargs \u001b[38;5;129;01mor\u001b[39;00m {}\n\u001b[0;32m    136\u001b[0m parameters \u001b[38;5;241m=\u001b[39m {\u001b[38;5;241m*\u001b[39m\u001b[38;5;241m*\u001b[39m_model_kwargs, \u001b[38;5;241m*\u001b[39m\u001b[38;5;241m*\u001b[39mkwargs}\n\u001b[1;32m--> 138\u001b[0m response \u001b[38;5;241m=\u001b[39m \u001b[38;5;28;43mself\u001b[39;49m\u001b[38;5;241;43m.\u001b[39;49m\u001b[43mclient\u001b[49m\u001b[38;5;241;43m.\u001b[39;49m\u001b[43mpost\u001b[49m\u001b[43m(\u001b[49m\n\u001b[0;32m    139\u001b[0m \u001b[43m    \u001b[49m\u001b[43mjson\u001b[49m\u001b[38;5;241;43m=\u001b[39;49m\u001b[43m{\u001b[49m\u001b[38;5;124;43m\"\u001b[39;49m\u001b[38;5;124;43minputs\u001b[39;49m\u001b[38;5;124;43m\"\u001b[39;49m\u001b[43m:\u001b[49m\u001b[43m \u001b[49m\u001b[43mprompt\u001b[49m\u001b[43m,\u001b[49m\u001b[43m \u001b[49m\u001b[38;5;124;43m\"\u001b[39;49m\u001b[38;5;124;43mparameters\u001b[39;49m\u001b[38;5;124;43m\"\u001b[39;49m\u001b[43m:\u001b[49m\u001b[43m \u001b[49m\u001b[43mparameters\u001b[49m\u001b[43m}\u001b[49m\u001b[43m,\u001b[49m\u001b[43m \u001b[49m\u001b[43mtask\u001b[49m\u001b[38;5;241;43m=\u001b[39;49m\u001b[38;5;28;43mself\u001b[39;49m\u001b[38;5;241;43m.\u001b[39;49m\u001b[43mtask\u001b[49m\n\u001b[0;32m    140\u001b[0m \u001b[43m\u001b[49m\u001b[43m)\u001b[49m\n\u001b[0;32m    141\u001b[0m response \u001b[38;5;241m=\u001b[39m json\u001b[38;5;241m.\u001b[39mloads(response\u001b[38;5;241m.\u001b[39mdecode())\n\u001b[0;32m    142\u001b[0m \u001b[38;5;28;01mif\u001b[39;00m \u001b[38;5;124m\"\u001b[39m\u001b[38;5;124merror\u001b[39m\u001b[38;5;124m\"\u001b[39m \u001b[38;5;129;01min\u001b[39;00m response:\n",
      "File \u001b[1;32mc:\\Users\\win10\\Desktop\\LangchianProject\\LangchainProject\\.venv\\Lib\\site-packages\\huggingface_hub\\inference\\_client.py:306\u001b[0m, in \u001b[0;36mInferenceClient.post\u001b[1;34m(self, json, data, model, task, stream)\u001b[0m\n\u001b[0;32m    303\u001b[0m         \u001b[38;5;28;01mraise\u001b[39;00m InferenceTimeoutError(\u001b[38;5;124mf\u001b[39m\u001b[38;5;124m\"\u001b[39m\u001b[38;5;124mInference call timed out: \u001b[39m\u001b[38;5;132;01m{\u001b[39;00murl\u001b[38;5;132;01m}\u001b[39;00m\u001b[38;5;124m\"\u001b[39m) \u001b[38;5;28;01mfrom\u001b[39;00m \u001b[38;5;21;01merror\u001b[39;00m  \u001b[38;5;66;03m# type: ignore\u001b[39;00m\n\u001b[0;32m    305\u001b[0m \u001b[38;5;28;01mtry\u001b[39;00m:\n\u001b[1;32m--> 306\u001b[0m     \u001b[43mhf_raise_for_status\u001b[49m\u001b[43m(\u001b[49m\u001b[43mresponse\u001b[49m\u001b[43m)\u001b[49m\n\u001b[0;32m    307\u001b[0m     \u001b[38;5;28;01mreturn\u001b[39;00m response\u001b[38;5;241m.\u001b[39miter_lines() \u001b[38;5;28;01mif\u001b[39;00m stream \u001b[38;5;28;01melse\u001b[39;00m response\u001b[38;5;241m.\u001b[39mcontent\n\u001b[0;32m    308\u001b[0m \u001b[38;5;28;01mexcept\u001b[39;00m HTTPError \u001b[38;5;28;01mas\u001b[39;00m error:\n",
      "File \u001b[1;32mc:\\Users\\win10\\Desktop\\LangchianProject\\LangchainProject\\.venv\\Lib\\site-packages\\huggingface_hub\\utils\\_http.py:477\u001b[0m, in \u001b[0;36mhf_raise_for_status\u001b[1;34m(response, endpoint_name)\u001b[0m\n\u001b[0;32m    473\u001b[0m     \u001b[38;5;28;01mraise\u001b[39;00m _format(HfHubHTTPError, message, response) \u001b[38;5;28;01mfrom\u001b[39;00m \u001b[38;5;21;01me\u001b[39;00m\n\u001b[0;32m    475\u001b[0m \u001b[38;5;66;03m# Convert `HTTPError` into a `HfHubHTTPError` to display request information\u001b[39;00m\n\u001b[0;32m    476\u001b[0m \u001b[38;5;66;03m# as well (request id and/or server error message)\u001b[39;00m\n\u001b[1;32m--> 477\u001b[0m \u001b[38;5;28;01mraise\u001b[39;00m _format(HfHubHTTPError, \u001b[38;5;28mstr\u001b[39m(e), response) \u001b[38;5;28;01mfrom\u001b[39;00m \u001b[38;5;21;01me\u001b[39;00m\n",
      "\u001b[1;31mHfHubHTTPError\u001b[0m: 500 Server Error: Internal Server Error for url: https://api-inference.huggingface.co/models/google/flan-t5-large (Request ID: CthLwpK1eNLK9fPGBIyBD)"
     ]
    }
   ],
   "source": [
    "question=\"what is the email of the employee Alice Johnson\"\n",
    "print(llm_chain2.run(question))"
   ]
  },
  {
   "cell_type": "code",
   "execution_count": null,
   "id": "b0f2ca62",
   "metadata": {},
   "outputs": [
    {
     "name": "stdout",
     "output_type": "stream",
     "text": [
      "scott mccullough\n"
     ]
    }
   ],
   "source": [
    "question=\"Who are the leadership of the marketing team?\"\n",
    "print(llm_chain2.run(question))"
   ]
  },
  {
   "cell_type": "markdown",
   "id": "9f419831",
   "metadata": {},
   "source": [
    "#Retrival Augmented Generation (RAG) Application"
   ]
  },
  {
   "cell_type": "markdown",
   "id": "cb18fa13",
   "metadata": {},
   "source": [
    "##step 1: Load local documents"
   ]
  },
  {
   "cell_type": "code",
   "execution_count": null,
   "id": "49394121",
   "metadata": {},
   "outputs": [
    {
     "name": "stderr",
     "output_type": "stream",
     "text": []
    },
    {
     "name": "stderr",
     "output_type": "stream",
     "text": [
      "Error loading file ..\\data\\InfraTech_Employee_Information_Report.pdf\n",
      "100%|██████████| 1/1 [15:13<00:00, 913.10s/it]\n"
     ]
    },
    {
     "ename": "ImportError",
     "evalue": "DLL load failed while importing onnx_cpp2py_export: A dynamic link library (DLL) initialization routine failed.",
     "output_type": "error",
     "traceback": [
      "\u001b[1;31m---------------------------------------------------------------------------\u001b[0m",
      "\u001b[1;31mImportError\u001b[0m                               Traceback (most recent call last)",
      "Cell \u001b[1;32mIn[26], line 3\u001b[0m\n\u001b[0;32m      1\u001b[0m \u001b[38;5;28;01mfrom\u001b[39;00m \u001b[38;5;21;01mlangchain_community\u001b[39;00m\u001b[38;5;21;01m.\u001b[39;00m\u001b[38;5;21;01mdocument_loaders\u001b[39;00m \u001b[38;5;28;01mimport\u001b[39;00m DirectoryLoader\n\u001b[0;32m      2\u001b[0m loader \u001b[38;5;241m=\u001b[39m DirectoryLoader(\u001b[38;5;124m\"\u001b[39m\u001b[38;5;124m../data\u001b[39m\u001b[38;5;124m\"\u001b[39m,glob\u001b[38;5;241m=\u001b[39m\u001b[38;5;124m\"\u001b[39m\u001b[38;5;124m*.pdf\u001b[39m\u001b[38;5;124m\"\u001b[39m,show_progress\u001b[38;5;241m=\u001b[39m\u001b[38;5;28;01mTrue\u001b[39;00m)\n\u001b[1;32m----> 3\u001b[0m doc \u001b[38;5;241m=\u001b[39m \u001b[43mloader\u001b[49m\u001b[38;5;241;43m.\u001b[39;49m\u001b[43mload\u001b[49m\u001b[43m(\u001b[49m\u001b[43m)\u001b[49m\n\u001b[0;32m      4\u001b[0m \u001b[38;5;28mprint\u001b[39m(\u001b[38;5;28mlen\u001b[39m(doc))\n",
      "File \u001b[1;32mc:\\Users\\win10\\Desktop\\LangchianProject\\LangchainProject\\.venv\\Lib\\site-packages\\langchain_community\\document_loaders\\directory.py:117\u001b[0m, in \u001b[0;36mDirectoryLoader.load\u001b[1;34m(self)\u001b[0m\n\u001b[0;32m    115\u001b[0m \u001b[38;5;28;01mdef\u001b[39;00m \u001b[38;5;21mload\u001b[39m(\u001b[38;5;28mself\u001b[39m) \u001b[38;5;241m-\u001b[39m\u001b[38;5;241m>\u001b[39m List[Document]:\n\u001b[0;32m    116\u001b[0m \u001b[38;5;250m    \u001b[39m\u001b[38;5;124;03m\"\"\"Load documents.\"\"\"\u001b[39;00m\n\u001b[1;32m--> 117\u001b[0m     \u001b[38;5;28;01mreturn\u001b[39;00m \u001b[38;5;28;43mlist\u001b[39;49m\u001b[43m(\u001b[49m\u001b[38;5;28;43mself\u001b[39;49m\u001b[38;5;241;43m.\u001b[39;49m\u001b[43mlazy_load\u001b[49m\u001b[43m(\u001b[49m\u001b[43m)\u001b[49m\u001b[43m)\u001b[49m\n",
      "File \u001b[1;32mc:\\Users\\win10\\Desktop\\LangchianProject\\LangchainProject\\.venv\\Lib\\site-packages\\langchain_community\\document_loaders\\directory.py:195\u001b[0m, in \u001b[0;36mDirectoryLoader.lazy_load\u001b[1;34m(self)\u001b[0m\n\u001b[0;32m    193\u001b[0m \u001b[38;5;28;01melse\u001b[39;00m:\n\u001b[0;32m    194\u001b[0m     \u001b[38;5;28;01mfor\u001b[39;00m i \u001b[38;5;129;01min\u001b[39;00m items:\n\u001b[1;32m--> 195\u001b[0m         \u001b[38;5;28;01myield from\u001b[39;00m \u001b[38;5;28mself\u001b[39m\u001b[38;5;241m.\u001b[39m_lazy_load_file(i, p, pbar)\n\u001b[0;32m    197\u001b[0m \u001b[38;5;28;01mif\u001b[39;00m pbar:\n\u001b[0;32m    198\u001b[0m     pbar\u001b[38;5;241m.\u001b[39mclose()\n",
      "File \u001b[1;32mc:\\Users\\win10\\Desktop\\LangchianProject\\LangchainProject\\.venv\\Lib\\site-packages\\langchain_community\\document_loaders\\directory.py:233\u001b[0m, in \u001b[0;36mDirectoryLoader._lazy_load_file\u001b[1;34m(self, item, path, pbar)\u001b[0m\n\u001b[0;32m    231\u001b[0m     \u001b[38;5;28;01melse\u001b[39;00m:\n\u001b[0;32m    232\u001b[0m         logger\u001b[38;5;241m.\u001b[39merror(\u001b[38;5;124mf\u001b[39m\u001b[38;5;124m\"\u001b[39m\u001b[38;5;124mError loading file \u001b[39m\u001b[38;5;132;01m{\u001b[39;00m\u001b[38;5;28mstr\u001b[39m(item)\u001b[38;5;132;01m}\u001b[39;00m\u001b[38;5;124m\"\u001b[39m)\n\u001b[1;32m--> 233\u001b[0m         \u001b[38;5;28;01mraise\u001b[39;00m e\n\u001b[0;32m    234\u001b[0m \u001b[38;5;28;01mfinally\u001b[39;00m:\n\u001b[0;32m    235\u001b[0m     \u001b[38;5;28;01mif\u001b[39;00m pbar:\n",
      "File \u001b[1;32mc:\\Users\\win10\\Desktop\\LangchianProject\\LangchainProject\\.venv\\Lib\\site-packages\\langchain_community\\document_loaders\\directory.py:223\u001b[0m, in \u001b[0;36mDirectoryLoader._lazy_load_file\u001b[1;34m(self, item, path, pbar)\u001b[0m\n\u001b[0;32m    221\u001b[0m loader \u001b[38;5;241m=\u001b[39m \u001b[38;5;28mself\u001b[39m\u001b[38;5;241m.\u001b[39mloader_cls(\u001b[38;5;28mstr\u001b[39m(item), \u001b[38;5;241m*\u001b[39m\u001b[38;5;241m*\u001b[39m\u001b[38;5;28mself\u001b[39m\u001b[38;5;241m.\u001b[39mloader_kwargs)\n\u001b[0;32m    222\u001b[0m \u001b[38;5;28;01mtry\u001b[39;00m:\n\u001b[1;32m--> 223\u001b[0m \u001b[43m    \u001b[49m\u001b[38;5;28;43;01mfor\u001b[39;49;00m\u001b[43m \u001b[49m\u001b[43msubdoc\u001b[49m\u001b[43m \u001b[49m\u001b[38;5;129;43;01min\u001b[39;49;00m\u001b[43m \u001b[49m\u001b[43mloader\u001b[49m\u001b[38;5;241;43m.\u001b[39;49m\u001b[43mlazy_load\u001b[49m\u001b[43m(\u001b[49m\u001b[43m)\u001b[49m\u001b[43m:\u001b[49m\n\u001b[0;32m    224\u001b[0m \u001b[43m        \u001b[49m\u001b[38;5;28;43;01myield\u001b[39;49;00m\u001b[43m \u001b[49m\u001b[43msubdoc\u001b[49m\n\u001b[0;32m    225\u001b[0m \u001b[38;5;28;01mexcept\u001b[39;00m \u001b[38;5;167;01mNotImplementedError\u001b[39;00m:\n",
      "File \u001b[1;32mc:\\Users\\win10\\Desktop\\LangchianProject\\LangchainProject\\.venv\\Lib\\site-packages\\langchain_community\\document_loaders\\unstructured.py:107\u001b[0m, in \u001b[0;36mUnstructuredBaseLoader.lazy_load\u001b[1;34m(self)\u001b[0m\n\u001b[0;32m    105\u001b[0m \u001b[38;5;28;01mdef\u001b[39;00m \u001b[38;5;21mlazy_load\u001b[39m(\u001b[38;5;28mself\u001b[39m) \u001b[38;5;241m-\u001b[39m\u001b[38;5;241m>\u001b[39m Iterator[Document]:\n\u001b[0;32m    106\u001b[0m \u001b[38;5;250m    \u001b[39m\u001b[38;5;124;03m\"\"\"Load file.\"\"\"\u001b[39;00m\n\u001b[1;32m--> 107\u001b[0m     elements \u001b[38;5;241m=\u001b[39m \u001b[38;5;28;43mself\u001b[39;49m\u001b[38;5;241;43m.\u001b[39;49m\u001b[43m_get_elements\u001b[49m\u001b[43m(\u001b[49m\u001b[43m)\u001b[49m\n\u001b[0;32m    108\u001b[0m     \u001b[38;5;28mself\u001b[39m\u001b[38;5;241m.\u001b[39m_post_process_elements(elements)\n\u001b[0;32m    109\u001b[0m     \u001b[38;5;28;01mif\u001b[39;00m \u001b[38;5;28mself\u001b[39m\u001b[38;5;241m.\u001b[39mmode \u001b[38;5;241m==\u001b[39m \u001b[38;5;124m\"\u001b[39m\u001b[38;5;124melements\u001b[39m\u001b[38;5;124m\"\u001b[39m:\n",
      "File \u001b[1;32mc:\\Users\\win10\\Desktop\\LangchianProject\\LangchainProject\\.venv\\Lib\\site-packages\\langchain_community\\document_loaders\\unstructured.py:228\u001b[0m, in \u001b[0;36mUnstructuredFileLoader._get_elements\u001b[1;34m(self)\u001b[0m\n\u001b[0;32m    226\u001b[0m \u001b[38;5;28;01mif\u001b[39;00m \u001b[38;5;28misinstance\u001b[39m(\u001b[38;5;28mself\u001b[39m\u001b[38;5;241m.\u001b[39mfile_path, Path):\n\u001b[0;32m    227\u001b[0m     \u001b[38;5;28mself\u001b[39m\u001b[38;5;241m.\u001b[39mfile_path \u001b[38;5;241m=\u001b[39m \u001b[38;5;28mstr\u001b[39m(\u001b[38;5;28mself\u001b[39m\u001b[38;5;241m.\u001b[39mfile_path)\n\u001b[1;32m--> 228\u001b[0m \u001b[38;5;28;01mreturn\u001b[39;00m \u001b[43mpartition\u001b[49m\u001b[43m(\u001b[49m\u001b[43mfilename\u001b[49m\u001b[38;5;241;43m=\u001b[39;49m\u001b[38;5;28;43mself\u001b[39;49m\u001b[38;5;241;43m.\u001b[39;49m\u001b[43mfile_path\u001b[49m\u001b[43m,\u001b[49m\u001b[43m \u001b[49m\u001b[38;5;241;43m*\u001b[39;49m\u001b[38;5;241;43m*\u001b[39;49m\u001b[38;5;28;43mself\u001b[39;49m\u001b[38;5;241;43m.\u001b[39;49m\u001b[43munstructured_kwargs\u001b[49m\u001b[43m)\u001b[49m\n",
      "File \u001b[1;32mc:\\Users\\win10\\Desktop\\LangchianProject\\LangchainProject\\.venv\\Lib\\site-packages\\unstructured\\partition\\auto.py:336\u001b[0m, in \u001b[0;36mpartition\u001b[1;34m(filename, content_type, file, file_filename, url, include_page_breaks, strategy, encoding, paragraph_grouper, headers, skip_infer_table_types, ssl_verify, ocr_languages, languages, detect_language_per_element, pdf_infer_table_structure, extract_images_in_pdf, extract_image_block_types, extract_image_block_output_dir, extract_image_block_to_payload, xml_keep_tags, data_source_metadata, metadata_filename, request_timeout, hi_res_model_name, model_name, starting_page_number, **kwargs)\u001b[0m\n\u001b[0;32m    327\u001b[0m     elements \u001b[38;5;241m=\u001b[39m partition_org(\n\u001b[0;32m    328\u001b[0m         filename\u001b[38;5;241m=\u001b[39mfilename,\n\u001b[0;32m    329\u001b[0m         file\u001b[38;5;241m=\u001b[39mfile,\n\u001b[1;32m   (...)\u001b[0m\n\u001b[0;32m    333\u001b[0m         \u001b[38;5;241m*\u001b[39m\u001b[38;5;241m*\u001b[39mkwargs,\n\u001b[0;32m    334\u001b[0m     )\n\u001b[0;32m    335\u001b[0m \u001b[38;5;28;01melif\u001b[39;00m file_type \u001b[38;5;241m==\u001b[39m FileType\u001b[38;5;241m.\u001b[39mPDF:\n\u001b[1;32m--> 336\u001b[0m     partition_pdf \u001b[38;5;241m=\u001b[39m \u001b[43mpartitioner_loader\u001b[49m\u001b[38;5;241;43m.\u001b[39;49m\u001b[43mget\u001b[49m\u001b[43m(\u001b[49m\u001b[43mfile_type\u001b[49m\u001b[43m)\u001b[49m\n\u001b[0;32m    337\u001b[0m     elements \u001b[38;5;241m=\u001b[39m partition_pdf(\n\u001b[0;32m    338\u001b[0m         filename\u001b[38;5;241m=\u001b[39mfilename,\n\u001b[0;32m    339\u001b[0m         file\u001b[38;5;241m=\u001b[39mfile,\n\u001b[1;32m   (...)\u001b[0m\n\u001b[0;32m    351\u001b[0m         \u001b[38;5;241m*\u001b[39m\u001b[38;5;241m*\u001b[39mkwargs,\n\u001b[0;32m    352\u001b[0m     )\n\u001b[0;32m    353\u001b[0m \u001b[38;5;28;01melif\u001b[39;00m file_type \u001b[38;5;241m==\u001b[39m FileType\u001b[38;5;241m.\u001b[39mPPT:\n",
      "File \u001b[1;32mc:\\Users\\win10\\Desktop\\LangchianProject\\LangchainProject\\.venv\\Lib\\site-packages\\unstructured\\partition\\auto.py:525\u001b[0m, in \u001b[0;36m_PartitionerLoader.get\u001b[1;34m(self, file_type)\u001b[0m\n\u001b[0;32m    519\u001b[0m \u001b[38;5;250m\u001b[39m\u001b[38;5;124;03m\"\"\"Return partitioner for `file_type`.\u001b[39;00m\n\u001b[0;32m    520\u001b[0m \n\u001b[0;32m    521\u001b[0m \u001b[38;5;124;03mRaises when one or more package dependencies for that file-type have not been\u001b[39;00m\n\u001b[0;32m    522\u001b[0m \u001b[38;5;124;03minstalled.\u001b[39;00m\n\u001b[0;32m    523\u001b[0m \u001b[38;5;124;03m\"\"\"\u001b[39;00m\n\u001b[0;32m    524\u001b[0m \u001b[38;5;28;01mif\u001b[39;00m file_type \u001b[38;5;129;01mnot\u001b[39;00m \u001b[38;5;129;01min\u001b[39;00m \u001b[38;5;28mself\u001b[39m\u001b[38;5;241m.\u001b[39m_partitioners:\n\u001b[1;32m--> 525\u001b[0m     \u001b[38;5;28mself\u001b[39m\u001b[38;5;241m.\u001b[39m_partitioners[file_type] \u001b[38;5;241m=\u001b[39m \u001b[38;5;28;43mself\u001b[39;49m\u001b[38;5;241;43m.\u001b[39;49m\u001b[43m_load_partitioner\u001b[49m\u001b[43m(\u001b[49m\u001b[43mfile_type\u001b[49m\u001b[43m)\u001b[49m\n\u001b[0;32m    527\u001b[0m \u001b[38;5;28;01mreturn\u001b[39;00m \u001b[38;5;28mself\u001b[39m\u001b[38;5;241m.\u001b[39m_partitioners[file_type]\n",
      "File \u001b[1;32mc:\\Users\\win10\\Desktop\\LangchianProject\\LangchainProject\\.venv\\Lib\\site-packages\\unstructured\\partition\\auto.py:543\u001b[0m, in \u001b[0;36m_PartitionerLoader._load_partitioner\u001b[1;34m(self, file_type)\u001b[0m\n\u001b[0;32m    541\u001b[0m \u001b[38;5;66;03m# -- load the partitioner and return it --\u001b[39;00m\n\u001b[0;32m    542\u001b[0m \u001b[38;5;28;01massert\u001b[39;00m file_type\u001b[38;5;241m.\u001b[39mis_partitionable  \u001b[38;5;66;03m# -- would be a programming error if this failed --\u001b[39;00m\n\u001b[1;32m--> 543\u001b[0m partitioner_module \u001b[38;5;241m=\u001b[39m \u001b[43mimportlib\u001b[49m\u001b[38;5;241;43m.\u001b[39;49m\u001b[43mimport_module\u001b[49m\u001b[43m(\u001b[49m\u001b[43mfile_type\u001b[49m\u001b[38;5;241;43m.\u001b[39;49m\u001b[43mpartitioner_module_qname\u001b[49m\u001b[43m)\u001b[49m\n\u001b[0;32m    544\u001b[0m \u001b[38;5;28;01mreturn\u001b[39;00m \u001b[38;5;28mgetattr\u001b[39m(partitioner_module, file_type\u001b[38;5;241m.\u001b[39mpartitioner_function_name)\n",
      "File \u001b[1;32mC:\\Python312\\Lib\\importlib\\__init__.py:90\u001b[0m, in \u001b[0;36mimport_module\u001b[1;34m(name, package)\u001b[0m\n\u001b[0;32m     88\u001b[0m             \u001b[38;5;28;01mbreak\u001b[39;00m\n\u001b[0;32m     89\u001b[0m         level \u001b[38;5;241m+\u001b[39m\u001b[38;5;241m=\u001b[39m \u001b[38;5;241m1\u001b[39m\n\u001b[1;32m---> 90\u001b[0m \u001b[38;5;28;01mreturn\u001b[39;00m \u001b[43m_bootstrap\u001b[49m\u001b[38;5;241;43m.\u001b[39;49m\u001b[43m_gcd_import\u001b[49m\u001b[43m(\u001b[49m\u001b[43mname\u001b[49m\u001b[43m[\u001b[49m\u001b[43mlevel\u001b[49m\u001b[43m:\u001b[49m\u001b[43m]\u001b[49m\u001b[43m,\u001b[49m\u001b[43m \u001b[49m\u001b[43mpackage\u001b[49m\u001b[43m,\u001b[49m\u001b[43m \u001b[49m\u001b[43mlevel\u001b[49m\u001b[43m)\u001b[49m\n",
      "File \u001b[1;32m<frozen importlib._bootstrap>:1387\u001b[0m, in \u001b[0;36m_gcd_import\u001b[1;34m(name, package, level)\u001b[0m\n",
      "File \u001b[1;32m<frozen importlib._bootstrap>:1360\u001b[0m, in \u001b[0;36m_find_and_load\u001b[1;34m(name, import_)\u001b[0m\n",
      "File \u001b[1;32m<frozen importlib._bootstrap>:1331\u001b[0m, in \u001b[0;36m_find_and_load_unlocked\u001b[1;34m(name, import_)\u001b[0m\n",
      "File \u001b[1;32m<frozen importlib._bootstrap>:935\u001b[0m, in \u001b[0;36m_load_unlocked\u001b[1;34m(spec)\u001b[0m\n",
      "File \u001b[1;32m<frozen importlib._bootstrap_external>:995\u001b[0m, in \u001b[0;36mexec_module\u001b[1;34m(self, module)\u001b[0m\n",
      "File \u001b[1;32m<frozen importlib._bootstrap>:488\u001b[0m, in \u001b[0;36m_call_with_frames_removed\u001b[1;34m(f, *args, **kwds)\u001b[0m\n",
      "File \u001b[1;32mc:\\Users\\win10\\Desktop\\LangchianProject\\LangchainProject\\.venv\\Lib\\site-packages\\unstructured\\partition\\pdf.py:20\u001b[0m\n\u001b[0;32m     18\u001b[0m \u001b[38;5;28;01mfrom\u001b[39;00m \u001b[38;5;21;01mPIL\u001b[39;00m \u001b[38;5;28;01mimport\u001b[39;00m Image \u001b[38;5;28;01mas\u001b[39;00m PILImage\n\u001b[0;32m     19\u001b[0m \u001b[38;5;28;01mfrom\u001b[39;00m \u001b[38;5;21;01mpypdf\u001b[39;00m \u001b[38;5;28;01mimport\u001b[39;00m PdfReader\n\u001b[1;32m---> 20\u001b[0m \u001b[38;5;28;01mfrom\u001b[39;00m \u001b[38;5;21;01munstructured_inference\u001b[39;00m\u001b[38;5;21;01m.\u001b[39;00m\u001b[38;5;21;01minference\u001b[39;00m\u001b[38;5;21;01m.\u001b[39;00m\u001b[38;5;21;01mlayout\u001b[39;00m \u001b[38;5;28;01mimport\u001b[39;00m DocumentLayout\n\u001b[0;32m     21\u001b[0m \u001b[38;5;28;01mfrom\u001b[39;00m \u001b[38;5;21;01munstructured_inference\u001b[39;00m\u001b[38;5;21;01m.\u001b[39;00m\u001b[38;5;21;01minference\u001b[39;00m\u001b[38;5;21;01m.\u001b[39;00m\u001b[38;5;21;01mlayoutelement\u001b[39;00m \u001b[38;5;28;01mimport\u001b[39;00m LayoutElement\n\u001b[0;32m     23\u001b[0m \u001b[38;5;28;01mfrom\u001b[39;00m \u001b[38;5;21;01munstructured\u001b[39;00m\u001b[38;5;21;01m.\u001b[39;00m\u001b[38;5;21;01mchunking\u001b[39;00m \u001b[38;5;28;01mimport\u001b[39;00m add_chunking_strategy\n",
      "File \u001b[1;32mc:\\Users\\win10\\Desktop\\LangchianProject\\LangchainProject\\.venv\\Lib\\site-packages\\unstructured_inference\\inference\\layout.py:17\u001b[0m\n\u001b[0;32m     15\u001b[0m \u001b[38;5;28;01mfrom\u001b[39;00m \u001b[38;5;21;01munstructured_inference\u001b[39;00m\u001b[38;5;21;01m.\u001b[39;00m\u001b[38;5;21;01minference\u001b[39;00m\u001b[38;5;21;01m.\u001b[39;00m\u001b[38;5;21;01mlayoutelement\u001b[39;00m \u001b[38;5;28;01mimport\u001b[39;00m LayoutElement, LayoutElements\n\u001b[0;32m     16\u001b[0m \u001b[38;5;28;01mfrom\u001b[39;00m \u001b[38;5;21;01munstructured_inference\u001b[39;00m\u001b[38;5;21;01m.\u001b[39;00m\u001b[38;5;21;01mlogger\u001b[39;00m \u001b[38;5;28;01mimport\u001b[39;00m logger\n\u001b[1;32m---> 17\u001b[0m \u001b[38;5;28;01mfrom\u001b[39;00m \u001b[38;5;21;01munstructured_inference\u001b[39;00m\u001b[38;5;21;01m.\u001b[39;00m\u001b[38;5;21;01mmodels\u001b[39;00m\u001b[38;5;21;01m.\u001b[39;00m\u001b[38;5;21;01mbase\u001b[39;00m \u001b[38;5;28;01mimport\u001b[39;00m get_model\n\u001b[0;32m     18\u001b[0m \u001b[38;5;28;01mfrom\u001b[39;00m \u001b[38;5;21;01munstructured_inference\u001b[39;00m\u001b[38;5;21;01m.\u001b[39;00m\u001b[38;5;21;01mmodels\u001b[39;00m\u001b[38;5;21;01m.\u001b[39;00m\u001b[38;5;21;01munstructuredmodel\u001b[39;00m \u001b[38;5;28;01mimport\u001b[39;00m (\n\u001b[0;32m     19\u001b[0m     UnstructuredElementExtractionModel,\n\u001b[0;32m     20\u001b[0m     UnstructuredObjectDetectionModel,\n\u001b[0;32m     21\u001b[0m )\n\u001b[0;32m     22\u001b[0m \u001b[38;5;28;01mfrom\u001b[39;00m \u001b[38;5;21;01munstructured_inference\u001b[39;00m\u001b[38;5;21;01m.\u001b[39;00m\u001b[38;5;21;01mvisualize\u001b[39;00m \u001b[38;5;28;01mimport\u001b[39;00m draw_bbox\n",
      "File \u001b[1;32mc:\\Users\\win10\\Desktop\\LangchianProject\\LangchainProject\\.venv\\Lib\\site-packages\\unstructured_inference\\models\\base.py:7\u001b[0m\n\u001b[0;32m      4\u001b[0m \u001b[38;5;28;01mimport\u001b[39;00m \u001b[38;5;21;01mos\u001b[39;00m\n\u001b[0;32m      5\u001b[0m \u001b[38;5;28;01mfrom\u001b[39;00m \u001b[38;5;21;01mtyping\u001b[39;00m \u001b[38;5;28;01mimport\u001b[39;00m Dict, Optional, Tuple, Type\n\u001b[1;32m----> 7\u001b[0m \u001b[38;5;28;01mfrom\u001b[39;00m \u001b[38;5;21;01munstructured_inference\u001b[39;00m\u001b[38;5;21;01m.\u001b[39;00m\u001b[38;5;21;01mmodels\u001b[39;00m\u001b[38;5;21;01m.\u001b[39;00m\u001b[38;5;21;01mdetectron2onnx\u001b[39;00m \u001b[38;5;28;01mimport\u001b[39;00m (\n\u001b[0;32m      8\u001b[0m     MODEL_TYPES \u001b[38;5;28;01mas\u001b[39;00m DETECTRON2_ONNX_MODEL_TYPES,\n\u001b[0;32m      9\u001b[0m )\n\u001b[0;32m     10\u001b[0m \u001b[38;5;28;01mfrom\u001b[39;00m \u001b[38;5;21;01munstructured_inference\u001b[39;00m\u001b[38;5;21;01m.\u001b[39;00m\u001b[38;5;21;01mmodels\u001b[39;00m\u001b[38;5;21;01m.\u001b[39;00m\u001b[38;5;21;01mdetectron2onnx\u001b[39;00m \u001b[38;5;28;01mimport\u001b[39;00m UnstructuredDetectronONNXModel\n\u001b[0;32m     11\u001b[0m \u001b[38;5;28;01mfrom\u001b[39;00m \u001b[38;5;21;01munstructured_inference\u001b[39;00m\u001b[38;5;21;01m.\u001b[39;00m\u001b[38;5;21;01mmodels\u001b[39;00m\u001b[38;5;21;01m.\u001b[39;00m\u001b[38;5;21;01munstructuredmodel\u001b[39;00m \u001b[38;5;28;01mimport\u001b[39;00m UnstructuredModel\n",
      "File \u001b[1;32mc:\\Users\\win10\\Desktop\\LangchianProject\\LangchainProject\\.venv\\Lib\\site-packages\\unstructured_inference\\models\\detectron2onnx.py:9\u001b[0m\n\u001b[0;32m      7\u001b[0m \u001b[38;5;28;01mfrom\u001b[39;00m \u001b[38;5;21;01mhuggingface_hub\u001b[39;00m\u001b[38;5;21;01m.\u001b[39;00m\u001b[38;5;21;01mconstants\u001b[39;00m \u001b[38;5;28;01mimport\u001b[39;00m HUGGINGFACE_HUB_CACHE\n\u001b[0;32m      8\u001b[0m \u001b[38;5;28;01mfrom\u001b[39;00m \u001b[38;5;21;01monnxruntime\u001b[39;00m\u001b[38;5;21;01m.\u001b[39;00m\u001b[38;5;21;01mcapi\u001b[39;00m \u001b[38;5;28;01mimport\u001b[39;00m _pybind_state \u001b[38;5;28;01mas\u001b[39;00m C\n\u001b[1;32m----> 9\u001b[0m \u001b[38;5;28;01mfrom\u001b[39;00m \u001b[38;5;21;01monnxruntime\u001b[39;00m\u001b[38;5;21;01m.\u001b[39;00m\u001b[38;5;21;01mquantization\u001b[39;00m \u001b[38;5;28;01mimport\u001b[39;00m QuantType, quantize_dynamic\n\u001b[0;32m     10\u001b[0m \u001b[38;5;28;01mfrom\u001b[39;00m \u001b[38;5;21;01mPIL\u001b[39;00m \u001b[38;5;28;01mimport\u001b[39;00m Image\n\u001b[0;32m     12\u001b[0m \u001b[38;5;28;01mfrom\u001b[39;00m \u001b[38;5;21;01munstructured_inference\u001b[39;00m\u001b[38;5;21;01m.\u001b[39;00m\u001b[38;5;21;01mconstants\u001b[39;00m \u001b[38;5;28;01mimport\u001b[39;00m Source\n",
      "File \u001b[1;32mc:\\Users\\win10\\Desktop\\LangchianProject\\LangchainProject\\.venv\\Lib\\site-packages\\onnxruntime\\quantization\\__init__.py:1\u001b[0m\n\u001b[1;32m----> 1\u001b[0m \u001b[38;5;28;01mfrom\u001b[39;00m \u001b[38;5;21;01m.\u001b[39;00m\u001b[38;5;21;01mcalibrate\u001b[39;00m \u001b[38;5;28;01mimport\u001b[39;00m (  \u001b[38;5;66;03m# noqa: F401\u001b[39;00m\n\u001b[0;32m      2\u001b[0m     CalibraterBase,\n\u001b[0;32m      3\u001b[0m     CalibrationDataReader,\n\u001b[0;32m      4\u001b[0m     CalibrationMethod,\n\u001b[0;32m      5\u001b[0m     MinMaxCalibrater,\n\u001b[0;32m      6\u001b[0m     create_calibrator,\n\u001b[0;32m      7\u001b[0m )\n\u001b[0;32m      8\u001b[0m \u001b[38;5;28;01mfrom\u001b[39;00m \u001b[38;5;21;01m.\u001b[39;00m\u001b[38;5;21;01mqdq_quantizer\u001b[39;00m \u001b[38;5;28;01mimport\u001b[39;00m QDQQuantizer  \u001b[38;5;66;03m# noqa: F401\u001b[39;00m\n\u001b[0;32m      9\u001b[0m \u001b[38;5;28;01mfrom\u001b[39;00m \u001b[38;5;21;01m.\u001b[39;00m\u001b[38;5;21;01mquant_utils\u001b[39;00m \u001b[38;5;28;01mimport\u001b[39;00m QuantFormat, QuantType, write_calibration_table  \u001b[38;5;66;03m# noqa: F401\u001b[39;00m\n",
      "File \u001b[1;32mc:\\Users\\win10\\Desktop\\LangchianProject\\LangchainProject\\.venv\\Lib\\site-packages\\onnxruntime\\quantization\\calibrate.py:17\u001b[0m\n\u001b[0;32m     14\u001b[0m \u001b[38;5;28;01mfrom\u001b[39;00m \u001b[38;5;21;01mtyping\u001b[39;00m \u001b[38;5;28;01mimport\u001b[39;00m Dict, Optional, Sequence, Tuple, Union\n\u001b[0;32m     16\u001b[0m \u001b[38;5;28;01mimport\u001b[39;00m \u001b[38;5;21;01mnumpy\u001b[39;00m \u001b[38;5;28;01mas\u001b[39;00m \u001b[38;5;21;01mnp\u001b[39;00m\n\u001b[1;32m---> 17\u001b[0m \u001b[38;5;28;01mimport\u001b[39;00m \u001b[38;5;21;01monnx\u001b[39;00m\n\u001b[0;32m     18\u001b[0m \u001b[38;5;28;01mfrom\u001b[39;00m \u001b[38;5;21;01monnx\u001b[39;00m \u001b[38;5;28;01mimport\u001b[39;00m ModelProto, TensorProto, helper, numpy_helper\n\u001b[0;32m     20\u001b[0m \u001b[38;5;28;01mimport\u001b[39;00m \u001b[38;5;21;01monnxruntime\u001b[39;00m\n",
      "File \u001b[1;32mc:\\Users\\win10\\Desktop\\LangchianProject\\LangchainProject\\.venv\\Lib\\site-packages\\onnx\\__init__.py:77\u001b[0m\n\u001b[0;32m     73\u001b[0m \u001b[38;5;28;01mfrom\u001b[39;00m \u001b[38;5;21;01mtyping\u001b[39;00m \u001b[38;5;28;01mimport\u001b[39;00m IO, Literal, Union\n\u001b[0;32m     76\u001b[0m \u001b[38;5;28;01mfrom\u001b[39;00m \u001b[38;5;21;01monnx\u001b[39;00m \u001b[38;5;28;01mimport\u001b[39;00m serialization\n\u001b[1;32m---> 77\u001b[0m \u001b[38;5;28;01mfrom\u001b[39;00m \u001b[38;5;21;01monnx\u001b[39;00m\u001b[38;5;21;01m.\u001b[39;00m\u001b[38;5;21;01monnx_cpp2py_export\u001b[39;00m \u001b[38;5;28;01mimport\u001b[39;00m ONNX_ML\n\u001b[0;32m     78\u001b[0m \u001b[38;5;28;01mfrom\u001b[39;00m \u001b[38;5;21;01monnx\u001b[39;00m\u001b[38;5;21;01m.\u001b[39;00m\u001b[38;5;21;01mexternal_data_helper\u001b[39;00m \u001b[38;5;28;01mimport\u001b[39;00m (\n\u001b[0;32m     79\u001b[0m     load_external_data_for_model,\n\u001b[0;32m     80\u001b[0m     write_external_data_tensors,\n\u001b[0;32m     81\u001b[0m     convert_model_to_external_data,\n\u001b[0;32m     82\u001b[0m )\n\u001b[0;32m     83\u001b[0m \u001b[38;5;28;01mfrom\u001b[39;00m \u001b[38;5;21;01monnx\u001b[39;00m\u001b[38;5;21;01m.\u001b[39;00m\u001b[38;5;21;01monnx_pb\u001b[39;00m \u001b[38;5;28;01mimport\u001b[39;00m (\n\u001b[0;32m     84\u001b[0m     AttributeProto,\n\u001b[0;32m     85\u001b[0m     EXPERIMENTAL,\n\u001b[1;32m   (...)\u001b[0m\n\u001b[0;32m    111\u001b[0m     Version,\n\u001b[0;32m    112\u001b[0m )\n",
      "\u001b[1;31mImportError\u001b[0m: DLL load failed while importing onnx_cpp2py_export: A dynamic link library (DLL) initialization routine failed."
     ]
    }
   ],
   "source": [
    "from langchain_community.document_loaders import DirectoryLoader\n",
    "loader = DirectoryLoader(\"../data\",glob=\"*.pdf\",show_progress=True)\n",
    "doc = loader.load()\n",
    "print(len(doc))"
   ]
  },
  {
   "cell_type": "markdown",
   "id": "34564ad7",
   "metadata": {},
   "source": [
    "##step 2: Split large documents into smaller chunks for embedding and retrieval"
   ]
  },
  {
   "cell_type": "code",
   "execution_count": null,
   "id": "a0622abe",
   "metadata": {},
   "outputs": [],
   "source": [
    "from langchain.text_splitter import RecursiveCharacterTextSplitter\n",
    "\n",
    "text_splitter = RecursiveCharacterTextSplitter(\n",
    "    chunk_size=200,\n",
    "    chunk_overlap=20,\n",
    "    length_function=len,\n",
    "    add_start_index=True,\n",
    ")\n",
    "chunks = text_splitter.split_documents(doc)\n",
    "print(f\"Split {len(doc)} document(s) into {len(chunks)} chunks.\")"
   ]
  },
  {
   "cell_type": "markdown",
   "metadata": {},
   "source": [
    "##Step 3: Convert document chunks into vector embeddings\n",
    "\n"
   ]
  },
  {
   "cell_type": "markdown",
   "id": "b72fa667",
   "metadata": {},
   "source": [
    "##Step 4: Vector Stores: Store the embeddings for efficient retrieval.\n"
   ]
  },
  {
   "cell_type": "code",
   "execution_count": null,
   "id": "93bab3af",
   "metadata": {},
   "outputs": [],
   "source": [
    "from langchain_community.vectorstores import Chroma\n",
    "from langchain_huggingface import HuggingFaceEmbeddings\n",
    "import shutil\n",
    "\n",
    "CHROMA_PATH =\"chroma\"\n",
    "\n",
    "# Clear out the database first if exist.\n",
    "if os.path.exists(CHROMA_PATH):\n",
    "    shutil.rmtree(CHROMA_PATH)\n",
    "\n",
    "# Create a new DB from the documents.\n",
    "db = Chroma.from_documents(\n",
    "    chunks, HuggingFaceEmbeddings(), persist_directory=CHROMA_PATH\n",
    ")\n",
    "db.persist()\n",
    "print(f\"Saved {len(chunks)} chunks to {CHROMA_PATH}.\")"
   ]
  },
  {
   "cell_type": "markdown",
   "id": "8aeaefbe",
   "metadata": {},
   "source": [
    "##step 5: Retrievers: Configure a retriever to fetch relevant documents from the vector store.\n"
   ]
  },
  {
   "cell_type": "code",
   "execution_count": null,
   "id": "a2043cc6",
   "metadata": {},
   "outputs": [],
   "source": [
    "query_text = \"what is the email of the employee Alice Johnson\"\n",
    "retriever = db.as_retriever(search_type=\"similarity\", search_kwargs={\"k\": 3})\n",
    "\n",
    "retrieved_docs = retriever.invoke(query_text)\n",
    "len(retrieved_docs)\n"
   ]
  },
  {
   "cell_type": "markdown",
   "id": "ad57eba9",
   "metadata": {},
   "source": [
    "##format the retrived chuncks of a document "
   ]
  },
  {
   "cell_type": "code",
   "execution_count": null,
   "id": "2b817007",
   "metadata": {},
   "outputs": [],
   "source": [
    "from langchain.prompts import ChatPromptTemplate\n",
    "\n",
    "results = db.similarity_search_with_relevance_scores(query_text, k=3)\n",
    "\n",
    "PROMPT_TEMPLATE = \"\"\"\n",
    "Use the following retrieved context to answer the query:\n",
    "\n",
    "{context}\n",
    "\n",
    "Query: {query}\n",
    "{answer}\n",
    "\"\"\"\n",
    "\n",
    "context_text = \"\\n\\n---\\n\\n\".join([doc.page_content for doc, _score in results])\n",
    "prompt_template = ChatPromptTemplate.from_template(PROMPT_TEMPLATE)\n",
    "prompt_format = prompt_template.format(context=context_text, query=query_text, answer=\"\")\n",
    "print(prompt_format)"
   ]
  },
  {
   "cell_type": "markdown",
   "id": "d5309bc3",
   "metadata": {},
   "source": [
    "##step 6: LLM Integration: integerate the retrived chuncks in the LLM query"
   ]
  },
  {
   "cell_type": "code",
   "execution_count": null,
   "id": "4c714aa9",
   "metadata": {},
   "outputs": [],
   "source": [
    "# Create the LLM chain\n",
    "# Initialize the LLM from Hugging Face Hub\n",
    "llm_chain3 = LLMChain(prompt=prompt_template, \n",
    "                      llm=HuggingFaceHub(\n",
    "                        repo_id=\"google/flan-t5-large\",\n",
    "                        model_kwargs={\"max_length\": 64, \"temperature\": 0.5})  \n",
    "                      )\n",
    "\n",
    "# Run the chain with context and query\n",
    "response_text = llm_chain3.run({\"context\": context_text, \"query\": query_text, \"answer\":\"\"})\n",
    "\n",
    "# Extract sources from metadata\n",
    "sources = [doc.metadata.get(\"source\", None) for doc in retrieved_docs]\n",
    "\n",
    "# Format the response\n",
    "formatted_response = f\"Response: {response_text}\\nSources: {sources}\"\n",
    "prompt_format = prompt_template.format(context=context_text, query=query_text, answer=formatted_response)\n",
    "print(prompt_format)\n",
    "#print(formatted_response)\n"
   ]
  },
  {
   "cell_type": "markdown",
   "id": "a410f7d0",
   "metadata": {},
   "source": [
    "#Combine the RAG components in a function for easy testing"
   ]
  },
  {
   "cell_type": "code",
   "execution_count": null,
   "id": "0fc4b22c",
   "metadata": {},
   "outputs": [],
   "source": [
    "def RAG_query(query_text):\n",
    "\n",
    "    #Retrieve documents\n",
    "    retriever = db.as_retriever(search_type=\"similarity\", search_kwargs={\"k\": 3})\n",
    "    retrieved_docs = retriever.get_relevant_documents(query_text)\n",
    "\n",
    "    #Prepare context\n",
    "    context_text = \"\\n\\n---\\n\\n\".join([doc.page_content for doc in retrieved_docs])\n",
    "\n",
    "    #Define prompt template\n",
    "    PROMPT_TEMPLATE = \"\"\"\n",
    "    Use the following retrieved context to answer the query:\n",
    "\n",
    "    {context}\n",
    "\n",
    "    Query: {query}\n",
    "    Answer:\n",
    "    \"\"\"\n",
    "\n",
    "    #Create the prompt template\n",
    "    prompt_template = ChatPromptTemplate.from_template(PROMPT_TEMPLATE)\n",
    "\n",
    "    #Initialize the LLM\n",
    "    llm_chain = LLMChain(\n",
    "        prompt=prompt_template,\n",
    "        llm=HuggingFaceHub(\n",
    "            repo_id=\"google/flan-t5-large\",\n",
    "            model_kwargs={\"max_length\": 64, \"temperature\": 0}\n",
    "        )\n",
    "    )\n",
    "\n",
    "    #Run the LLM chain with context and query\n",
    "    response_text = llm_chain.run({\"context\": context_text, \"query\": query_text})\n",
    "\n",
    "    #Extract the most relvent source\n",
    "    sources = retrieved_docs[0].metadata.get(\"source\", \"Unknown\") if retrieved_docs else \"No sources available\"\n",
    "\n",
    "    #Format the final response\n",
    "    formatted_response = f\"Response: {response_text}\\nSources: {sources}\"\n",
    "\n",
    "    return formatted_response\n"
   ]
  },
  {
   "cell_type": "markdown",
   "id": "32a49102",
   "metadata": {},
   "source": [
    "#Test the function"
   ]
  },
  {
   "cell_type": "code",
   "execution_count": null,
   "id": "7fce2882",
   "metadata": {},
   "outputs": [],
   "source": [
    "query_text = \"Who are the leadership of the marketing team?\"\n",
    "response = RAG_query(query_text)\n",
    "print(response)"
   ]
  },
  {
   "cell_type": "code",
   "execution_count": null,
   "id": "cfedf5b0",
   "metadata": {},
   "outputs": [],
   "source": []
  }
 ],
 "metadata": {
  "kernelspec": {
   "display_name": ".venv",
   "language": "python",
   "name": "python3"
  },
  "language_info": {
   "codemirror_mode": {
    "name": "ipython",
    "version": 3
   },
   "file_extension": ".py",
   "mimetype": "text/x-python",
   "name": "python",
   "nbconvert_exporter": "python",
   "pygments_lexer": "ipython3",
   "version": "3.12.5"
  }
 },
 "nbformat": 4,
 "nbformat_minor": 5
}
